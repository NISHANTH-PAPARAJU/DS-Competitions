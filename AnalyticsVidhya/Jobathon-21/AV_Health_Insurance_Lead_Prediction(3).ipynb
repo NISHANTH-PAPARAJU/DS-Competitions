{
  "nbformat": 4,
  "nbformat_minor": 0,
  "metadata": {
    "colab": {
      "name": "AV-Health-Insurance-Lead-Prediction(3).ipynb",
      "provenance": [],
      "collapsed_sections": [
        "4PXZOMraWc7v"
      ],
      "toc_visible": true,
      "mount_file_id": "1ZClM-sSTtDeG8KqcXQ21McewRyNSBc3l",
      "authorship_tag": "ABX9TyMTOpKN+g1uRK9SqbWD3xYN",
      "include_colab_link": true
    },
    "kernelspec": {
      "name": "python3",
      "display_name": "Python 3"
    }
  },
  "cells": [
    {
      "cell_type": "markdown",
      "metadata": {
        "id": "view-in-github",
        "colab_type": "text"
      },
      "source": [
        "<a href=\"https://colab.research.google.com/github/NISHANTH-PAPARAJU/DS-Competitions/blob/main/AnalyticsVidhya/Jobathon-21/AV_Health_Insurance_Lead_Prediction(3).ipynb\" target=\"_parent\"><img src=\"https://colab.research.google.com/assets/colab-badge.svg\" alt=\"Open In Colab\"/></a>"
      ]
    },
    {
      "cell_type": "markdown",
      "metadata": {
        "id": "Yt00TZ3sZREy"
      },
      "source": [
        "#Third trial with Interaction parameters"
      ]
    },
    {
      "cell_type": "code",
      "metadata": {
        "id": "Vq4YTiLEGqph"
      },
      "source": [
        "import numpy as np\r\n",
        "import pandas as pd\r\n",
        "import matplotlib.pyplot as plt\r\n",
        "import seaborn as sns\r\n",
        "%matplotlib inline"
      ],
      "execution_count": 3,
      "outputs": []
    },
    {
      "cell_type": "code",
      "metadata": {
        "id": "ApxbOuSHZAS5",
        "colab": {
          "base_uri": "https://localhost:8080/"
        },
        "outputId": "16ae52f9-2215-401f-ddcb-1c4de51c746c"
      },
      "source": [
        "from sklearn.model_selection import train_test_split\r\n",
        "from sklearn.metrics import confusion_matrix, plot_confusion_matrix, roc_auc_score\r\n",
        "from sklearn.linear_model import LogisticRegression\r\n",
        "from sklearn.svm import SVC\r\n",
        "from sklearn.ensemble import RandomForestClassifier\r\n",
        "from sklearn.ensemble import GradientBoostingClassifier\r\n",
        "from sklearn.metrics import plot_roc_curve\r\n",
        "from sklearn.metrics import roc_curve\r\n",
        "import statsmodels.api as sm\r\n",
        "from sklearn.model_selection import cross_validate, GridSearchCV"
      ],
      "execution_count": 4,
      "outputs": [
        {
          "output_type": "stream",
          "text": [
            "/usr/local/lib/python3.7/dist-packages/statsmodels/tools/_testing.py:19: FutureWarning: pandas.util.testing is deprecated. Use the functions in the public API at pandas.testing instead.\n",
            "  import pandas.util.testing as tm\n"
          ],
          "name": "stderr"
        }
      ]
    },
    {
      "cell_type": "markdown",
      "metadata": {
        "id": "jpz1IQTSZbp2"
      },
      "source": [
        "##Import Data"
      ]
    },
    {
      "cell_type": "code",
      "metadata": {
        "id": "VrUlpszOZCOL"
      },
      "source": [
        "train_val = pd.read_csv('/content/drive/MyDrive/Colab Notebooks/Data/AV-HealthInsurance/train_Df64byy.csv')\r\n",
        "test = pd.read_csv('/content/drive/MyDrive/Colab Notebooks/Data/AV-HealthInsurance/test_YCcRUnU.csv')"
      ],
      "execution_count": 5,
      "outputs": []
    },
    {
      "cell_type": "markdown",
      "metadata": {
        "id": "A2fDG4B1ZjJ0"
      },
      "source": [
        "## EDA"
      ]
    },
    {
      "cell_type": "code",
      "metadata": {
        "colab": {
          "base_uri": "https://localhost:8080/"
        },
        "id": "vQZx474pZLTi",
        "outputId": "87bc53e1-3113-4e1a-b5eb-070c7f4f36d0"
      },
      "source": [
        "train_val.shape, test.shape"
      ],
      "execution_count": 6,
      "outputs": [
        {
          "output_type": "execute_result",
          "data": {
            "text/plain": [
              "((50882, 14), (21805, 13))"
            ]
          },
          "metadata": {
            "tags": []
          },
          "execution_count": 6
        }
      ]
    },
    {
      "cell_type": "code",
      "metadata": {
        "colab": {
          "base_uri": "https://localhost:8080/",
          "height": 232
        },
        "id": "UOxRYINyZlIn",
        "outputId": "b54686d8-a067-47ad-9542-3fcf55742ba9"
      },
      "source": [
        "train_val.head()"
      ],
      "execution_count": 7,
      "outputs": [
        {
          "output_type": "execute_result",
          "data": {
            "text/html": [
              "<div>\n",
              "<style scoped>\n",
              "    .dataframe tbody tr th:only-of-type {\n",
              "        vertical-align: middle;\n",
              "    }\n",
              "\n",
              "    .dataframe tbody tr th {\n",
              "        vertical-align: top;\n",
              "    }\n",
              "\n",
              "    .dataframe thead th {\n",
              "        text-align: right;\n",
              "    }\n",
              "</style>\n",
              "<table border=\"1\" class=\"dataframe\">\n",
              "  <thead>\n",
              "    <tr style=\"text-align: right;\">\n",
              "      <th></th>\n",
              "      <th>ID</th>\n",
              "      <th>City_Code</th>\n",
              "      <th>Region_Code</th>\n",
              "      <th>Accomodation_Type</th>\n",
              "      <th>Reco_Insurance_Type</th>\n",
              "      <th>Upper_Age</th>\n",
              "      <th>Lower_Age</th>\n",
              "      <th>Is_Spouse</th>\n",
              "      <th>Health Indicator</th>\n",
              "      <th>Holding_Policy_Duration</th>\n",
              "      <th>Holding_Policy_Type</th>\n",
              "      <th>Reco_Policy_Cat</th>\n",
              "      <th>Reco_Policy_Premium</th>\n",
              "      <th>Response</th>\n",
              "    </tr>\n",
              "  </thead>\n",
              "  <tbody>\n",
              "    <tr>\n",
              "      <th>0</th>\n",
              "      <td>1</td>\n",
              "      <td>C3</td>\n",
              "      <td>3213</td>\n",
              "      <td>Rented</td>\n",
              "      <td>Individual</td>\n",
              "      <td>36</td>\n",
              "      <td>36</td>\n",
              "      <td>No</td>\n",
              "      <td>X1</td>\n",
              "      <td>14+</td>\n",
              "      <td>3.0</td>\n",
              "      <td>22</td>\n",
              "      <td>11628.0</td>\n",
              "      <td>0</td>\n",
              "    </tr>\n",
              "    <tr>\n",
              "      <th>1</th>\n",
              "      <td>2</td>\n",
              "      <td>C5</td>\n",
              "      <td>1117</td>\n",
              "      <td>Owned</td>\n",
              "      <td>Joint</td>\n",
              "      <td>75</td>\n",
              "      <td>22</td>\n",
              "      <td>No</td>\n",
              "      <td>X2</td>\n",
              "      <td>NaN</td>\n",
              "      <td>NaN</td>\n",
              "      <td>22</td>\n",
              "      <td>30510.0</td>\n",
              "      <td>0</td>\n",
              "    </tr>\n",
              "    <tr>\n",
              "      <th>2</th>\n",
              "      <td>3</td>\n",
              "      <td>C5</td>\n",
              "      <td>3732</td>\n",
              "      <td>Owned</td>\n",
              "      <td>Individual</td>\n",
              "      <td>32</td>\n",
              "      <td>32</td>\n",
              "      <td>No</td>\n",
              "      <td>NaN</td>\n",
              "      <td>1.0</td>\n",
              "      <td>1.0</td>\n",
              "      <td>19</td>\n",
              "      <td>7450.0</td>\n",
              "      <td>1</td>\n",
              "    </tr>\n",
              "    <tr>\n",
              "      <th>3</th>\n",
              "      <td>4</td>\n",
              "      <td>C24</td>\n",
              "      <td>4378</td>\n",
              "      <td>Owned</td>\n",
              "      <td>Joint</td>\n",
              "      <td>52</td>\n",
              "      <td>48</td>\n",
              "      <td>No</td>\n",
              "      <td>X1</td>\n",
              "      <td>14+</td>\n",
              "      <td>3.0</td>\n",
              "      <td>19</td>\n",
              "      <td>17780.0</td>\n",
              "      <td>0</td>\n",
              "    </tr>\n",
              "    <tr>\n",
              "      <th>4</th>\n",
              "      <td>5</td>\n",
              "      <td>C8</td>\n",
              "      <td>2190</td>\n",
              "      <td>Rented</td>\n",
              "      <td>Individual</td>\n",
              "      <td>44</td>\n",
              "      <td>44</td>\n",
              "      <td>No</td>\n",
              "      <td>X2</td>\n",
              "      <td>3.0</td>\n",
              "      <td>1.0</td>\n",
              "      <td>16</td>\n",
              "      <td>10404.0</td>\n",
              "      <td>0</td>\n",
              "    </tr>\n",
              "  </tbody>\n",
              "</table>\n",
              "</div>"
            ],
            "text/plain": [
              "   ID City_Code  Region_Code  ... Reco_Policy_Cat Reco_Policy_Premium  Response\n",
              "0   1        C3         3213  ...              22             11628.0         0\n",
              "1   2        C5         1117  ...              22             30510.0         0\n",
              "2   3        C5         3732  ...              19              7450.0         1\n",
              "3   4       C24         4378  ...              19             17780.0         0\n",
              "4   5        C8         2190  ...              16             10404.0         0\n",
              "\n",
              "[5 rows x 14 columns]"
            ]
          },
          "metadata": {
            "tags": []
          },
          "execution_count": 7
        }
      ]
    },
    {
      "cell_type": "code",
      "metadata": {
        "colab": {
          "base_uri": "https://localhost:8080/"
        },
        "id": "xhr88I3YZmB3",
        "outputId": "ca3851d6-1253-4b78-f050-20c9ed709cb0"
      },
      "source": [
        "train_val.dtypes"
      ],
      "execution_count": 8,
      "outputs": [
        {
          "output_type": "execute_result",
          "data": {
            "text/plain": [
              "ID                           int64\n",
              "City_Code                   object\n",
              "Region_Code                  int64\n",
              "Accomodation_Type           object\n",
              "Reco_Insurance_Type         object\n",
              "Upper_Age                    int64\n",
              "Lower_Age                    int64\n",
              "Is_Spouse                   object\n",
              "Health Indicator            object\n",
              "Holding_Policy_Duration     object\n",
              "Holding_Policy_Type        float64\n",
              "Reco_Policy_Cat              int64\n",
              "Reco_Policy_Premium        float64\n",
              "Response                     int64\n",
              "dtype: object"
            ]
          },
          "metadata": {
            "tags": []
          },
          "execution_count": 8
        }
      ]
    },
    {
      "cell_type": "code",
      "metadata": {
        "colab": {
          "base_uri": "https://localhost:8080/"
        },
        "id": "zFO2Wvz6ZoSp",
        "outputId": "e6190943-ee05-4e6b-f018-b04050a152b5"
      },
      "source": [
        "print(\"No of columns: \", len(train_val.columns))"
      ],
      "execution_count": 9,
      "outputs": [
        {
          "output_type": "stream",
          "text": [
            "No of columns:  14\n"
          ],
          "name": "stdout"
        }
      ]
    },
    {
      "cell_type": "markdown",
      "metadata": {
        "id": "kG2W9-5OZu8b"
      },
      "source": [
        "**Analysing each column:**\r\n",
        "\r\n",
        "> **ID:** just represents the uniqueness of that particular row, thus wouldn't contain any patterns for the prediction. **(Exclude)**\r\n",
        "\r\n",
        "> **City_Code:** Categorical - Nominal value, need to investigate the number of levels & also needs Encoding. (**Categorical - Nominal value**)\r\n",
        "\r\n",
        "> **Region_code:** Looks Numerical, but the header indicates that it is a categorical value. Thus  need to investigate the number of levels & also needs Encoding. (**Categorical - Nominal value**)\r\n",
        "\r\n",
        "> **Accomodation_type:** Categorical.  Thus  need to investigate the number of levels & also needs Encoding. (**Categorical - Nominal value**)\r\n",
        "\r\n",
        ">**Reco_Insurance_Type:** Categorical. But needs investogation of what exactly it means (Is this fixed for a particular person or not?)\r\n",
        "\r\n",
        ">**Upper_Age:** Numerical. Not exactly sure why upper_age and lower_age are provided. When the user is of a particular age. **(little confusing)**\r\n",
        "\r\n",
        ">**Lower_Age:**: Numerical. Not exactly sure why upper_age and lower_age are provided. When the user is of a particular age. **(little confusing)**\r\n",
        "\r\n",
        ">**Is_Spouse**: Binary value, can be encoded as 1 or 0.\r\n",
        "\r\n",
        ">**Health Indicator:** Categorical.  Thus  need to investigate the number of levels & also needs Encoding. (**Categorical - Nominal value**)\r\n",
        "\r\n",
        ">**Holding_policy_Duration:** Numerical. (Assuming will have a inverse correlation with the target).\r\n",
        "\r\n",
        ">**Holding_policy_type:** Looks numerical, but with the column description it suggests that it is a categorical variable. Thus  need to investigate the number of levels & also needs Encoding. (**Categorical - Nominal value**)\r\n",
        "\r\n",
        ">**Reco_Policy_Cat:**  Looks numerical, but with the column description it suggests that it is a categorical variable. Thus  need to investigate the number of levels & also needs Encoding. (**Categorical - Nominal value**)\r\n",
        "\r\n",
        ">**Reco_Policy_Premium:** Numerical.\r\n",
        "\r\n",
        ">**Response:** Binary Values"
      ]
    },
    {
      "cell_type": "markdown",
      "metadata": {
        "id": "c4eFJIlncNnQ"
      },
      "source": [
        "#### Categorical Columns"
      ]
    },
    {
      "cell_type": "code",
      "metadata": {
        "colab": {
          "base_uri": "https://localhost:8080/",
          "height": 293
        },
        "id": "dRn9bhKiZqnp",
        "outputId": "7e273b37-a446-42c5-e98d-e71dd95b4d30"
      },
      "source": [
        "train_val['City_Code'].value_counts().plot(kind='bar')"
      ],
      "execution_count": 10,
      "outputs": [
        {
          "output_type": "execute_result",
          "data": {
            "text/plain": [
              "<matplotlib.axes._subplots.AxesSubplot at 0x7fa8cbb73a90>"
            ]
          },
          "metadata": {
            "tags": []
          },
          "execution_count": 10
        },
        {
          "output_type": "display_data",
          "data": {
            "image/png": "[encoded data removed]",
            "text/plain": [
              "<Figure size 432x288 with 1 Axes>"
            ]
          },
          "metadata": {
            "tags": [],
            "needs_background": "light"
          }
        }
      ]
    },
    {
      "cell_type": "markdown",
      "metadata": {
        "id": "qz7vUkSsbyTY"
      },
      "source": [
        "**City_Code - Needs some preprocessing**"
      ]
    },
    {
      "cell_type": "code",
      "metadata": {
        "colab": {
          "base_uri": "https://localhost:8080/"
        },
        "id": "dj4M7382Zt5x",
        "outputId": "4a7468a9-c041-40af-ec2a-8e12886a14fd"
      },
      "source": [
        "len(train_val['Region_Code'].unique())"
      ],
      "execution_count": 11,
      "outputs": [
        {
          "output_type": "execute_result",
          "data": {
            "text/plain": [
              "5316"
            ]
          },
          "metadata": {
            "tags": []
          },
          "execution_count": 11
        }
      ]
    },
    {
      "cell_type": "markdown",
      "metadata": {
        "id": "5MmN0jOjb3TD"
      },
      "source": [
        "**Region_Code - Very high number of levels. So need to group them in order to use them in the prediction.**\r\n",
        "\r\n",
        "Creating dummy columns for this category will lead to a very high number of columns which would lead to bad predictions."
      ]
    },
    {
      "cell_type": "code",
      "metadata": {
        "colab": {
          "base_uri": "https://localhost:8080/",
          "height": 309
        },
        "id": "VATsUhQyZ9uQ",
        "outputId": "ac034c01-f699-4e9f-8b1c-7ff106a4b79e"
      },
      "source": [
        "train_val['Accomodation_Type'].value_counts().plot(kind='bar')"
      ],
      "execution_count": 12,
      "outputs": [
        {
          "output_type": "execute_result",
          "data": {
            "text/plain": [
              "<matplotlib.axes._subplots.AxesSubplot at 0x7fa8cb9d3050>"
            ]
          },
          "metadata": {
            "tags": []
          },
          "execution_count": 12
        },
        {
          "output_type": "display_data",
          "data": {
            "image/png": "[encoded data removed]",
            "text/plain": [
              "<Figure size 432x288 with 1 Axes>"
            ]
          },
          "metadata": {
            "tags": [],
            "needs_background": "light"
          }
        }
      ]
    },
    {
      "cell_type": "markdown",
      "metadata": {
        "id": "6kkbVAVwcaXL"
      },
      "source": [
        "**Accomodation_Type - Looks balanced and hence might not need any preprocessing.**"
      ]
    },
    {
      "cell_type": "code",
      "metadata": {
        "colab": {
          "base_uri": "https://localhost:8080/",
          "height": 322
        },
        "id": "LgUJwJd0Z_BD",
        "outputId": "a5b4ec81-3bb5-4db5-bce0-161edebcbb0c"
      },
      "source": [
        "train_val['Reco_Insurance_Type'].value_counts().plot(kind='bar')"
      ],
      "execution_count": 13,
      "outputs": [
        {
          "output_type": "execute_result",
          "data": {
            "text/plain": [
              "<matplotlib.axes._subplots.AxesSubplot at 0x7fa8cb4caed0>"
            ]
          },
          "metadata": {
            "tags": []
          },
          "execution_count": 13
        },
        {
          "output_type": "display_data",
          "data": {
            "image/png": "[encoded data removed]",
            "text/plain": [
              "<Figure size 432x288 with 1 Axes>"
            ]
          },
          "metadata": {
            "tags": [],
            "needs_background": "light"
          }
        }
      ]
    },
    {
      "cell_type": "markdown",
      "metadata": {
        "id": "AbYNqPOJclIp"
      },
      "source": [
        "**Reco_Insurance_Type- Has Imbalance, but its 1:4. Could be managed without any preprocessing**"
      ]
    },
    {
      "cell_type": "code",
      "metadata": {
        "colab": {
          "base_uri": "https://localhost:8080/",
          "height": 289
        },
        "id": "pVyF808vaAaP",
        "outputId": "a68225ea-7c2b-4be8-bdbe-126c4ce62e08"
      },
      "source": [
        "train_val['Is_Spouse'].value_counts().plot(kind='bar')"
      ],
      "execution_count": 14,
      "outputs": [
        {
          "output_type": "execute_result",
          "data": {
            "text/plain": [
              "<matplotlib.axes._subplots.AxesSubplot at 0x7fa8cb442c50>"
            ]
          },
          "metadata": {
            "tags": []
          },
          "execution_count": 14
        },
        {
          "output_type": "display_data",
          "data": {
            "image/png": "[encoded data removed]",
            "text/plain": [
              "<Figure size 432x288 with 1 Axes>"
            ]
          },
          "metadata": {
            "tags": [],
            "needs_background": "light"
          }
        }
      ]
    },
    {
      "cell_type": "markdown",
      "metadata": {
        "id": "UKkpflugc3JV"
      },
      "source": [
        "**Is_Spouse - It seams that the majority is the male data. Thus prediction on female data would be effected. Nothing much can be done here**"
      ]
    },
    {
      "cell_type": "code",
      "metadata": {
        "colab": {
          "base_uri": "https://localhost:8080/",
          "height": 289
        },
        "id": "6Pf9clcmaBtS",
        "outputId": "2704b319-a30c-408e-9b01-48a884a0297e"
      },
      "source": [
        "train_val['Holding_Policy_Type'].value_counts().plot(kind='bar')"
      ],
      "execution_count": 15,
      "outputs": [
        {
          "output_type": "execute_result",
          "data": {
            "text/plain": [
              "<matplotlib.axes._subplots.AxesSubplot at 0x7fa8cb3ae310>"
            ]
          },
          "metadata": {
            "tags": []
          },
          "execution_count": 15
        },
        {
          "output_type": "display_data",
          "data": {
            "image/png": "[encoded data removed]",
            "text/plain": [
              "<Figure size 432x288 with 1 Axes>"
            ]
          },
          "metadata": {
            "tags": [],
            "needs_background": "light"
          }
        }
      ]
    },
    {
      "cell_type": "markdown",
      "metadata": {
        "id": "OtuaxMZXdFb0"
      },
      "source": [
        "**Holding_Policy_Type - Looks reasonably balanced, so no preprocessing required.**"
      ]
    },
    {
      "cell_type": "code",
      "metadata": {
        "colab": {
          "base_uri": "https://localhost:8080/",
          "height": 286
        },
        "id": "wySnpbfyaDJ3",
        "outputId": "96b5d092-4c7d-4a0f-84d4-bfb23ecdf220"
      },
      "source": [
        "train_val['Reco_Policy_Cat'].value_counts().plot(kind='bar')"
      ],
      "execution_count": 16,
      "outputs": [
        {
          "output_type": "execute_result",
          "data": {
            "text/plain": [
              "<matplotlib.axes._subplots.AxesSubplot at 0x7fa8cb3ab290>"
            ]
          },
          "metadata": {
            "tags": []
          },
          "execution_count": 16
        },
        {
          "output_type": "display_data",
          "data": {
            "image/png": "[encoded data removed]",
            "text/plain": [
              "<Figure size 432x288 with 1 Axes>"
            ]
          },
          "metadata": {
            "tags": [],
            "needs_background": "light"
          }
        }
      ]
    },
    {
      "cell_type": "markdown",
      "metadata": {
        "id": "p67Yi4qFdRLq"
      },
      "source": [
        "**Reco_Policy_Cat - Though there are imbalanced in the levels, they are still have decent number of sample even at the least, inorder for the model to capture the patterns. Thus leaving this KPI as it is without any preprocessing.**"
      ]
    },
    {
      "cell_type": "code",
      "metadata": {
        "colab": {
          "base_uri": "https://localhost:8080/",
          "height": 286
        },
        "id": "dwszdU6xaEVV",
        "outputId": "88da65c8-e5ad-45bb-a6c8-f25d674505b0"
      },
      "source": [
        "train_val['Health Indicator'].value_counts().plot(kind='bar')"
      ],
      "execution_count": 17,
      "outputs": [
        {
          "output_type": "execute_result",
          "data": {
            "text/plain": [
              "<matplotlib.axes._subplots.AxesSubplot at 0x7fa8cb277650>"
            ]
          },
          "metadata": {
            "tags": []
          },
          "execution_count": 17
        },
        {
          "output_type": "display_data",
          "data": {
            "image/png": "[encoded data removed]",
            "text/plain": [
              "<Figure size 432x288 with 1 Axes>"
            ]
          },
          "metadata": {
            "tags": [],
            "needs_background": "light"
          }
        }
      ]
    },
    {
      "cell_type": "markdown",
      "metadata": {
        "id": "mD-cdlX8dnVm"
      },
      "source": [
        "**Health Indicator - Highly imbalanced Data. Needs some kind of preprocessing.**"
      ]
    },
    {
      "cell_type": "code",
      "metadata": {
        "colab": {
          "base_uri": "https://localhost:8080/",
          "height": 280
        },
        "id": "Df4GtRqpaFjd",
        "outputId": "71f99f99-c3fd-45e1-a4e9-9bed60480ba1"
      },
      "source": [
        "train_val['Response'].value_counts().plot(kind='bar')"
      ],
      "execution_count": 18,
      "outputs": [
        {
          "output_type": "execute_result",
          "data": {
            "text/plain": [
              "<matplotlib.axes._subplots.AxesSubplot at 0x7fa8cb25d410>"
            ]
          },
          "metadata": {
            "tags": []
          },
          "execution_count": 18
        },
        {
          "output_type": "display_data",
          "data": {
            "image/png": "[encoded data removed]",
            "text/plain": [
              "<Figure size 432x288 with 1 Axes>"
            ]
          },
          "metadata": {
            "tags": [],
            "needs_background": "light"
          }
        }
      ]
    },
    {
      "cell_type": "markdown",
      "metadata": {
        "id": "tsKCcddFaLHf"
      },
      "source": [
        "**Finally - The target variable.\r\n",
        "Response - High number of samples for negative class (as expected).**\r\n",
        "\r\n",
        "Lets check the Correlations"
      ]
    },
    {
      "cell_type": "markdown",
      "metadata": {
        "id": "D_i5kGpNa-Lj"
      },
      "source": [
        "#### Numerical Data Analysis (per Column)"
      ]
    },
    {
      "cell_type": "code",
      "metadata": {
        "colab": {
          "base_uri": "https://localhost:8080/"
        },
        "id": "cRo1kWLNa6nE",
        "outputId": "8e7a06d1-61ae-467b-cdea-d2cbb04544e4"
      },
      "source": [
        "train_val['Upper_Age'].unique()"
      ],
      "execution_count": 19,
      "outputs": [
        {
          "output_type": "execute_result",
          "data": {
            "text/plain": [
              "array([36, 75, 32, 52, 44, 28, 59, 21, 66, 20, 27, 34, 43, 55, 23, 18, 22,\n",
              "       25, 24, 40, 26, 56, 35, 63, 49, 64, 67, 42, 71, 57, 73, 31, 19, 48,\n",
              "       65, 54, 33, 30, 69, 68, 37, 29, 62, 58, 38, 39, 60, 41, 45, 51, 46,\n",
              "       70, 61, 74, 53, 72, 50, 47])"
            ]
          },
          "metadata": {
            "tags": []
          },
          "execution_count": 19
        }
      ]
    },
    {
      "cell_type": "code",
      "metadata": {
        "colab": {
          "base_uri": "https://localhost:8080/"
        },
        "id": "7CD-HhBsbC-t",
        "outputId": "0b23b54f-9139-451a-c551-2c9011356c9f"
      },
      "source": [
        "train_val['Lower_Age'].unique() "
      ],
      "execution_count": 20,
      "outputs": [
        {
          "output_type": "execute_result",
          "data": {
            "text/plain": [
              "array([36, 22, 32, 48, 44, 52, 28, 73, 43, 26, 21, 47, 66, 20, 27, 34, 55,\n",
              "       23, 18, 25, 24, 56, 35, 63, 64, 67, 75, 42, 71, 68, 31, 19, 65, 54,\n",
              "       33, 74, 30, 69, 29, 62, 58, 39, 60, 57, 41, 40, 45, 37, 51, 59, 49,\n",
              "       38, 46, 70, 61, 53, 16, 72, 50, 17])"
            ]
          },
          "metadata": {
            "tags": []
          },
          "execution_count": 20
        }
      ]
    },
    {
      "cell_type": "code",
      "metadata": {
        "colab": {
          "base_uri": "https://localhost:8080/"
        },
        "id": "3WaZVqIubE2d",
        "outputId": "78130eec-2318-43f8-c7c2-8561ec7dd572"
      },
      "source": [
        "train_val['Holding_Policy_Duration'].unique()"
      ],
      "execution_count": 21,
      "outputs": [
        {
          "output_type": "execute_result",
          "data": {
            "text/plain": [
              "array(['14+', nan, '1.0', '3.0', '5.0', '9.0', '14.0', '7.0', '2.0',\n",
              "       '11.0', '10.0', '8.0', '6.0', '4.0', '13.0', '12.0'], dtype=object)"
            ]
          },
          "metadata": {
            "tags": []
          },
          "execution_count": 21
        }
      ]
    },
    {
      "cell_type": "code",
      "metadata": {
        "colab": {
          "base_uri": "https://localhost:8080/"
        },
        "id": "LkajIuXJh1sR",
        "outputId": "6f615009-f98a-456d-f9a9-8ce363d6a439"
      },
      "source": [
        "train_val['Holding_Policy_Duration'].dtype"
      ],
      "execution_count": 22,
      "outputs": [
        {
          "output_type": "execute_result",
          "data": {
            "text/plain": [
              "dtype('O')"
            ]
          },
          "metadata": {
            "tags": []
          },
          "execution_count": 22
        }
      ]
    },
    {
      "cell_type": "code",
      "metadata": {
        "colab": {
          "base_uri": "https://localhost:8080/"
        },
        "id": "UCB98ozUh5nw",
        "outputId": "a63d0c18-f96b-4725-ebc4-4f31b3d48c0f"
      },
      "source": [
        "train_val['Reco_Policy_Premium'].unique(), len(train_val['Reco_Policy_Premium'].unique())"
      ],
      "execution_count": 23,
      "outputs": [
        {
          "output_type": "execute_result",
          "data": {
            "text/plain": [
              "(array([11628., 30510.,  7450., ..., 25726.,  6156., 11374.]), 6977)"
            ]
          },
          "metadata": {
            "tags": []
          },
          "execution_count": 23
        }
      ]
    },
    {
      "cell_type": "markdown",
      "metadata": {
        "id": "pjp1IIpKbH35"
      },
      "source": [
        "For convinience let us treat the 14+ values as some big number such as 20, so that we can treat this column as Numerical. (Completely Vague assumption, but can be refined later if needed)"
      ]
    },
    {
      "cell_type": "code",
      "metadata": {
        "colab": {
          "base_uri": "https://localhost:8080/"
        },
        "id": "E-wDq2tibF95",
        "outputId": "16320081-26e2-48c6-8957-81ad1e263063"
      },
      "source": [
        "len(train_val[train_val['Holding_Policy_Duration'] == '14+'])"
      ],
      "execution_count": 24,
      "outputs": [
        {
          "output_type": "execute_result",
          "data": {
            "text/plain": [
              "4335"
            ]
          },
          "metadata": {
            "tags": []
          },
          "execution_count": 24
        }
      ]
    },
    {
      "cell_type": "code",
      "metadata": {
        "colab": {
          "base_uri": "https://localhost:8080/",
          "height": 710
        },
        "id": "Y19_sHvzaG4-",
        "outputId": "5ebac161-01f4-4814-f189-9bd9a4ffb64f"
      },
      "source": [
        "corr = train_val.corr()\r\n",
        "fig, ax = plt.subplots(figsize=(10,10))\r\n",
        "sns.heatmap(corr, annot=True, cmap='YlGnBu')"
      ],
      "execution_count": 25,
      "outputs": [
        {
          "output_type": "execute_result",
          "data": {
            "text/plain": [
              "<matplotlib.axes._subplots.AxesSubplot at 0x7fa8cb17f9d0>"
            ]
          },
          "metadata": {
            "tags": []
          },
          "execution_count": 25
        },
        {
          "output_type": "display_data",
          "data": {
            "image/png": "[encoded data removed]",
            "text/plain": [
              "<Figure size 720x720 with 2 Axes>"
            ]
          },
          "metadata": {
            "tags": [],
            "needs_background": "light"
          }
        }
      ]
    },
    {
      "cell_type": "markdown",
      "metadata": {
        "id": "jbfkBEDMaV0l"
      },
      "source": [
        "**Observations:** \r\n",
        "\r\n",
        "1. Recommended Policy Premium is correlated highly with Upper & Lower age.\r\n",
        "2. Recommended Policy Category seams the best predictor for the response from the correlation matrix. (will be analysed later)\r\n",
        "- But this is a categorical column and hence shouldn't go by the correlation coefficient.\r\n",
        "3. Lower_Age & Upper_Age are highly Correlated. (Probably a combination of which can be taken as a KPI having a stronger effect on the target)"
      ]
    },
    {
      "cell_type": "markdown",
      "metadata": {
        "id": "jV2jqcSWaZd6"
      },
      "source": [
        "## Pre-Processing Data"
      ]
    },
    {
      "cell_type": "markdown",
      "metadata": {
        "id": "IwCGtbYzadLl"
      },
      "source": [
        "### Check Missing values"
      ]
    },
    {
      "cell_type": "code",
      "metadata": {
        "colab": {
          "base_uri": "https://localhost:8080/"
        },
        "id": "U7fTwVzUaOhs",
        "outputId": "d05ad856-88c2-48fb-db78-dc1ff88192ff"
      },
      "source": [
        "train_val.isna().sum()"
      ],
      "execution_count": 26,
      "outputs": [
        {
          "output_type": "execute_result",
          "data": {
            "text/plain": [
              "ID                             0\n",
              "City_Code                      0\n",
              "Region_Code                    0\n",
              "Accomodation_Type              0\n",
              "Reco_Insurance_Type            0\n",
              "Upper_Age                      0\n",
              "Lower_Age                      0\n",
              "Is_Spouse                      0\n",
              "Health Indicator           11691\n",
              "Holding_Policy_Duration    20251\n",
              "Holding_Policy_Type        20251\n",
              "Reco_Policy_Cat                0\n",
              "Reco_Policy_Premium            0\n",
              "Response                       0\n",
              "dtype: int64"
            ]
          },
          "metadata": {
            "tags": []
          },
          "execution_count": 26
        }
      ]
    },
    {
      "cell_type": "code",
      "metadata": {
        "colab": {
          "base_uri": "https://localhost:8080/",
          "height": 232
        },
        "id": "iiVqz_B5ae_q",
        "outputId": "0da5efa5-80de-4a4a-c716-ce5bbadff8d7"
      },
      "source": [
        "train_val.head()"
      ],
      "execution_count": 27,
      "outputs": [
        {
          "output_type": "execute_result",
          "data": {
            "text/html": [
              "<div>\n",
              "<style scoped>\n",
              "    .dataframe tbody tr th:only-of-type {\n",
              "        vertical-align: middle;\n",
              "    }\n",
              "\n",
              "    .dataframe tbody tr th {\n",
              "        vertical-align: top;\n",
              "    }\n",
              "\n",
              "    .dataframe thead th {\n",
              "        text-align: right;\n",
              "    }\n",
              "</style>\n",
              "<table border=\"1\" class=\"dataframe\">\n",
              "  <thead>\n",
              "    <tr style=\"text-align: right;\">\n",
              "      <th></th>\n",
              "      <th>ID</th>\n",
              "      <th>City_Code</th>\n",
              "      <th>Region_Code</th>\n",
              "      <th>Accomodation_Type</th>\n",
              "      <th>Reco_Insurance_Type</th>\n",
              "      <th>Upper_Age</th>\n",
              "      <th>Lower_Age</th>\n",
              "      <th>Is_Spouse</th>\n",
              "      <th>Health Indicator</th>\n",
              "      <th>Holding_Policy_Duration</th>\n",
              "      <th>Holding_Policy_Type</th>\n",
              "      <th>Reco_Policy_Cat</th>\n",
              "      <th>Reco_Policy_Premium</th>\n",
              "      <th>Response</th>\n",
              "    </tr>\n",
              "  </thead>\n",
              "  <tbody>\n",
              "    <tr>\n",
              "      <th>0</th>\n",
              "      <td>1</td>\n",
              "      <td>C3</td>\n",
              "      <td>3213</td>\n",
              "      <td>Rented</td>\n",
              "      <td>Individual</td>\n",
              "      <td>36</td>\n",
              "      <td>36</td>\n",
              "      <td>No</td>\n",
              "      <td>X1</td>\n",
              "      <td>14+</td>\n",
              "      <td>3.0</td>\n",
              "      <td>22</td>\n",
              "      <td>11628.0</td>\n",
              "      <td>0</td>\n",
              "    </tr>\n",
              "    <tr>\n",
              "      <th>1</th>\n",
              "      <td>2</td>\n",
              "      <td>C5</td>\n",
              "      <td>1117</td>\n",
              "      <td>Owned</td>\n",
              "      <td>Joint</td>\n",
              "      <td>75</td>\n",
              "      <td>22</td>\n",
              "      <td>No</td>\n",
              "      <td>X2</td>\n",
              "      <td>NaN</td>\n",
              "      <td>NaN</td>\n",
              "      <td>22</td>\n",
              "      <td>30510.0</td>\n",
              "      <td>0</td>\n",
              "    </tr>\n",
              "    <tr>\n",
              "      <th>2</th>\n",
              "      <td>3</td>\n",
              "      <td>C5</td>\n",
              "      <td>3732</td>\n",
              "      <td>Owned</td>\n",
              "      <td>Individual</td>\n",
              "      <td>32</td>\n",
              "      <td>32</td>\n",
              "      <td>No</td>\n",
              "      <td>NaN</td>\n",
              "      <td>1.0</td>\n",
              "      <td>1.0</td>\n",
              "      <td>19</td>\n",
              "      <td>7450.0</td>\n",
              "      <td>1</td>\n",
              "    </tr>\n",
              "    <tr>\n",
              "      <th>3</th>\n",
              "      <td>4</td>\n",
              "      <td>C24</td>\n",
              "      <td>4378</td>\n",
              "      <td>Owned</td>\n",
              "      <td>Joint</td>\n",
              "      <td>52</td>\n",
              "      <td>48</td>\n",
              "      <td>No</td>\n",
              "      <td>X1</td>\n",
              "      <td>14+</td>\n",
              "      <td>3.0</td>\n",
              "      <td>19</td>\n",
              "      <td>17780.0</td>\n",
              "      <td>0</td>\n",
              "    </tr>\n",
              "    <tr>\n",
              "      <th>4</th>\n",
              "      <td>5</td>\n",
              "      <td>C8</td>\n",
              "      <td>2190</td>\n",
              "      <td>Rented</td>\n",
              "      <td>Individual</td>\n",
              "      <td>44</td>\n",
              "      <td>44</td>\n",
              "      <td>No</td>\n",
              "      <td>X2</td>\n",
              "      <td>3.0</td>\n",
              "      <td>1.0</td>\n",
              "      <td>16</td>\n",
              "      <td>10404.0</td>\n",
              "      <td>0</td>\n",
              "    </tr>\n",
              "  </tbody>\n",
              "</table>\n",
              "</div>"
            ],
            "text/plain": [
              "   ID City_Code  Region_Code  ... Reco_Policy_Cat Reco_Policy_Premium  Response\n",
              "0   1        C3         3213  ...              22             11628.0         0\n",
              "1   2        C5         1117  ...              22             30510.0         0\n",
              "2   3        C5         3732  ...              19              7450.0         1\n",
              "3   4       C24         4378  ...              19             17780.0         0\n",
              "4   5        C8         2190  ...              16             10404.0         0\n",
              "\n",
              "[5 rows x 14 columns]"
            ]
          },
          "metadata": {
            "tags": []
          },
          "execution_count": 27
        }
      ]
    },
    {
      "cell_type": "markdown",
      "metadata": {
        "id": "rjSvBegfaigT"
      },
      "source": [
        ">As the count of `Holding policy Duration` and the `Holding_Policy_Type` matches, the odds are that the individuals who didn't have any holding policy are represented in that way.\r\n",
        "\r\n",
        ">To confirm our assumption even further, lets check if the same rows of data are having both `Holding policy Duration` and the `Holding_Policy_Type` as null."
      ]
    },
    {
      "cell_type": "code",
      "metadata": {
        "colab": {
          "base_uri": "https://localhost:8080/"
        },
        "id": "8xlqD5RxagP7",
        "outputId": "0008e4ca-e16d-4aac-d8d3-7b9b3b737596"
      },
      "source": [
        "train_val[train_val['Holding_Policy_Duration'].isnull()]['Holding_Policy_Type'].unique()"
      ],
      "execution_count": 28,
      "outputs": [
        {
          "output_type": "execute_result",
          "data": {
            "text/plain": [
              "array([nan])"
            ]
          },
          "metadata": {
            "tags": []
          },
          "execution_count": 28
        }
      ]
    },
    {
      "cell_type": "markdown",
      "metadata": {
        "id": "YgnkZWjEanSV"
      },
      "source": [
        "**Conclude:** Concluding that most probably that is the case. Hence imputing the two columns."
      ]
    },
    {
      "cell_type": "code",
      "metadata": {
        "colab": {
          "base_uri": "https://localhost:8080/",
          "height": 232
        },
        "id": "AUf6QF9xalZQ",
        "outputId": "753430de-86b6-460b-eeb2-c46432c97fa5"
      },
      "source": [
        "train_val_proc = train_val.copy()\r\n",
        "train_val_proc['Holding_Policy_Duration'].fillna(value=0.0, inplace=True)\r\n",
        "train_val_proc.head()"
      ],
      "execution_count": 29,
      "outputs": [
        {
          "output_type": "execute_result",
          "data": {
            "text/html": [
              "<div>\n",
              "<style scoped>\n",
              "    .dataframe tbody tr th:only-of-type {\n",
              "        vertical-align: middle;\n",
              "    }\n",
              "\n",
              "    .dataframe tbody tr th {\n",
              "        vertical-align: top;\n",
              "    }\n",
              "\n",
              "    .dataframe thead th {\n",
              "        text-align: right;\n",
              "    }\n",
              "</style>\n",
              "<table border=\"1\" class=\"dataframe\">\n",
              "  <thead>\n",
              "    <tr style=\"text-align: right;\">\n",
              "      <th></th>\n",
              "      <th>ID</th>\n",
              "      <th>City_Code</th>\n",
              "      <th>Region_Code</th>\n",
              "      <th>Accomodation_Type</th>\n",
              "      <th>Reco_Insurance_Type</th>\n",
              "      <th>Upper_Age</th>\n",
              "      <th>Lower_Age</th>\n",
              "      <th>Is_Spouse</th>\n",
              "      <th>Health Indicator</th>\n",
              "      <th>Holding_Policy_Duration</th>\n",
              "      <th>Holding_Policy_Type</th>\n",
              "      <th>Reco_Policy_Cat</th>\n",
              "      <th>Reco_Policy_Premium</th>\n",
              "      <th>Response</th>\n",
              "    </tr>\n",
              "  </thead>\n",
              "  <tbody>\n",
              "    <tr>\n",
              "      <th>0</th>\n",
              "      <td>1</td>\n",
              "      <td>C3</td>\n",
              "      <td>3213</td>\n",
              "      <td>Rented</td>\n",
              "      <td>Individual</td>\n",
              "      <td>36</td>\n",
              "      <td>36</td>\n",
              "      <td>No</td>\n",
              "      <td>X1</td>\n",
              "      <td>14+</td>\n",
              "      <td>3.0</td>\n",
              "      <td>22</td>\n",
              "      <td>11628.0</td>\n",
              "      <td>0</td>\n",
              "    </tr>\n",
              "    <tr>\n",
              "      <th>1</th>\n",
              "      <td>2</td>\n",
              "      <td>C5</td>\n",
              "      <td>1117</td>\n",
              "      <td>Owned</td>\n",
              "      <td>Joint</td>\n",
              "      <td>75</td>\n",
              "      <td>22</td>\n",
              "      <td>No</td>\n",
              "      <td>X2</td>\n",
              "      <td>0</td>\n",
              "      <td>NaN</td>\n",
              "      <td>22</td>\n",
              "      <td>30510.0</td>\n",
              "      <td>0</td>\n",
              "    </tr>\n",
              "    <tr>\n",
              "      <th>2</th>\n",
              "      <td>3</td>\n",
              "      <td>C5</td>\n",
              "      <td>3732</td>\n",
              "      <td>Owned</td>\n",
              "      <td>Individual</td>\n",
              "      <td>32</td>\n",
              "      <td>32</td>\n",
              "      <td>No</td>\n",
              "      <td>NaN</td>\n",
              "      <td>1.0</td>\n",
              "      <td>1.0</td>\n",
              "      <td>19</td>\n",
              "      <td>7450.0</td>\n",
              "      <td>1</td>\n",
              "    </tr>\n",
              "    <tr>\n",
              "      <th>3</th>\n",
              "      <td>4</td>\n",
              "      <td>C24</td>\n",
              "      <td>4378</td>\n",
              "      <td>Owned</td>\n",
              "      <td>Joint</td>\n",
              "      <td>52</td>\n",
              "      <td>48</td>\n",
              "      <td>No</td>\n",
              "      <td>X1</td>\n",
              "      <td>14+</td>\n",
              "      <td>3.0</td>\n",
              "      <td>19</td>\n",
              "      <td>17780.0</td>\n",
              "      <td>0</td>\n",
              "    </tr>\n",
              "    <tr>\n",
              "      <th>4</th>\n",
              "      <td>5</td>\n",
              "      <td>C8</td>\n",
              "      <td>2190</td>\n",
              "      <td>Rented</td>\n",
              "      <td>Individual</td>\n",
              "      <td>44</td>\n",
              "      <td>44</td>\n",
              "      <td>No</td>\n",
              "      <td>X2</td>\n",
              "      <td>3.0</td>\n",
              "      <td>1.0</td>\n",
              "      <td>16</td>\n",
              "      <td>10404.0</td>\n",
              "      <td>0</td>\n",
              "    </tr>\n",
              "  </tbody>\n",
              "</table>\n",
              "</div>"
            ],
            "text/plain": [
              "   ID City_Code  Region_Code  ... Reco_Policy_Cat Reco_Policy_Premium  Response\n",
              "0   1        C3         3213  ...              22             11628.0         0\n",
              "1   2        C5         1117  ...              22             30510.0         0\n",
              "2   3        C5         3732  ...              19              7450.0         1\n",
              "3   4       C24         4378  ...              19             17780.0         0\n",
              "4   5        C8         2190  ...              16             10404.0         0\n",
              "\n",
              "[5 rows x 14 columns]"
            ]
          },
          "metadata": {
            "tags": []
          },
          "execution_count": 29
        }
      ]
    },
    {
      "cell_type": "code",
      "metadata": {
        "colab": {
          "base_uri": "https://localhost:8080/",
          "height": 232
        },
        "id": "-i_yFSChapDk",
        "outputId": "3090abbc-88c5-4da7-bdec-b61171e7ffe9"
      },
      "source": [
        "train_val_proc['Holding_Policy_Type'].fillna(value=0.0, inplace=True)\r\n",
        "train_val_proc.head()"
      ],
      "execution_count": 30,
      "outputs": [
        {
          "output_type": "execute_result",
          "data": {
            "text/html": [
              "<div>\n",
              "<style scoped>\n",
              "    .dataframe tbody tr th:only-of-type {\n",
              "        vertical-align: middle;\n",
              "    }\n",
              "\n",
              "    .dataframe tbody tr th {\n",
              "        vertical-align: top;\n",
              "    }\n",
              "\n",
              "    .dataframe thead th {\n",
              "        text-align: right;\n",
              "    }\n",
              "</style>\n",
              "<table border=\"1\" class=\"dataframe\">\n",
              "  <thead>\n",
              "    <tr style=\"text-align: right;\">\n",
              "      <th></th>\n",
              "      <th>ID</th>\n",
              "      <th>City_Code</th>\n",
              "      <th>Region_Code</th>\n",
              "      <th>Accomodation_Type</th>\n",
              "      <th>Reco_Insurance_Type</th>\n",
              "      <th>Upper_Age</th>\n",
              "      <th>Lower_Age</th>\n",
              "      <th>Is_Spouse</th>\n",
              "      <th>Health Indicator</th>\n",
              "      <th>Holding_Policy_Duration</th>\n",
              "      <th>Holding_Policy_Type</th>\n",
              "      <th>Reco_Policy_Cat</th>\n",
              "      <th>Reco_Policy_Premium</th>\n",
              "      <th>Response</th>\n",
              "    </tr>\n",
              "  </thead>\n",
              "  <tbody>\n",
              "    <tr>\n",
              "      <th>0</th>\n",
              "      <td>1</td>\n",
              "      <td>C3</td>\n",
              "      <td>3213</td>\n",
              "      <td>Rented</td>\n",
              "      <td>Individual</td>\n",
              "      <td>36</td>\n",
              "      <td>36</td>\n",
              "      <td>No</td>\n",
              "      <td>X1</td>\n",
              "      <td>14+</td>\n",
              "      <td>3.0</td>\n",
              "      <td>22</td>\n",
              "      <td>11628.0</td>\n",
              "      <td>0</td>\n",
              "    </tr>\n",
              "    <tr>\n",
              "      <th>1</th>\n",
              "      <td>2</td>\n",
              "      <td>C5</td>\n",
              "      <td>1117</td>\n",
              "      <td>Owned</td>\n",
              "      <td>Joint</td>\n",
              "      <td>75</td>\n",
              "      <td>22</td>\n",
              "      <td>No</td>\n",
              "      <td>X2</td>\n",
              "      <td>0</td>\n",
              "      <td>0.0</td>\n",
              "      <td>22</td>\n",
              "      <td>30510.0</td>\n",
              "      <td>0</td>\n",
              "    </tr>\n",
              "    <tr>\n",
              "      <th>2</th>\n",
              "      <td>3</td>\n",
              "      <td>C5</td>\n",
              "      <td>3732</td>\n",
              "      <td>Owned</td>\n",
              "      <td>Individual</td>\n",
              "      <td>32</td>\n",
              "      <td>32</td>\n",
              "      <td>No</td>\n",
              "      <td>NaN</td>\n",
              "      <td>1.0</td>\n",
              "      <td>1.0</td>\n",
              "      <td>19</td>\n",
              "      <td>7450.0</td>\n",
              "      <td>1</td>\n",
              "    </tr>\n",
              "    <tr>\n",
              "      <th>3</th>\n",
              "      <td>4</td>\n",
              "      <td>C24</td>\n",
              "      <td>4378</td>\n",
              "      <td>Owned</td>\n",
              "      <td>Joint</td>\n",
              "      <td>52</td>\n",
              "      <td>48</td>\n",
              "      <td>No</td>\n",
              "      <td>X1</td>\n",
              "      <td>14+</td>\n",
              "      <td>3.0</td>\n",
              "      <td>19</td>\n",
              "      <td>17780.0</td>\n",
              "      <td>0</td>\n",
              "    </tr>\n",
              "    <tr>\n",
              "      <th>4</th>\n",
              "      <td>5</td>\n",
              "      <td>C8</td>\n",
              "      <td>2190</td>\n",
              "      <td>Rented</td>\n",
              "      <td>Individual</td>\n",
              "      <td>44</td>\n",
              "      <td>44</td>\n",
              "      <td>No</td>\n",
              "      <td>X2</td>\n",
              "      <td>3.0</td>\n",
              "      <td>1.0</td>\n",
              "      <td>16</td>\n",
              "      <td>10404.0</td>\n",
              "      <td>0</td>\n",
              "    </tr>\n",
              "  </tbody>\n",
              "</table>\n",
              "</div>"
            ],
            "text/plain": [
              "   ID City_Code  Region_Code  ... Reco_Policy_Cat Reco_Policy_Premium  Response\n",
              "0   1        C3         3213  ...              22             11628.0         0\n",
              "1   2        C5         1117  ...              22             30510.0         0\n",
              "2   3        C5         3732  ...              19              7450.0         1\n",
              "3   4       C24         4378  ...              19             17780.0         0\n",
              "4   5        C8         2190  ...              16             10404.0         0\n",
              "\n",
              "[5 rows x 14 columns]"
            ]
          },
          "metadata": {
            "tags": []
          },
          "execution_count": 30
        }
      ]
    },
    {
      "cell_type": "markdown",
      "metadata": {
        "id": "cmuZaDnQa2QR"
      },
      "source": [
        "As the Health Indicator - Not provided is just another category, lets impute those values with a new level (Not Provided)"
      ]
    },
    {
      "cell_type": "code",
      "metadata": {
        "colab": {
          "base_uri": "https://localhost:8080/",
          "height": 249
        },
        "id": "U3pCbviXaqfg",
        "outputId": "03ebfdcd-c55f-4b98-ad34-daa0c5f964f4"
      },
      "source": [
        "train_val_proc['Health Indicator'].fillna(value='Not-Provided', inplace=True)\r\n",
        "train_val_proc.head()"
      ],
      "execution_count": 31,
      "outputs": [
        {
          "output_type": "execute_result",
          "data": {
            "text/html": [
              "<div>\n",
              "<style scoped>\n",
              "    .dataframe tbody tr th:only-of-type {\n",
              "        vertical-align: middle;\n",
              "    }\n",
              "\n",
              "    .dataframe tbody tr th {\n",
              "        vertical-align: top;\n",
              "    }\n",
              "\n",
              "    .dataframe thead th {\n",
              "        text-align: right;\n",
              "    }\n",
              "</style>\n",
              "<table border=\"1\" class=\"dataframe\">\n",
              "  <thead>\n",
              "    <tr style=\"text-align: right;\">\n",
              "      <th></th>\n",
              "      <th>ID</th>\n",
              "      <th>City_Code</th>\n",
              "      <th>Region_Code</th>\n",
              "      <th>Accomodation_Type</th>\n",
              "      <th>Reco_Insurance_Type</th>\n",
              "      <th>Upper_Age</th>\n",
              "      <th>Lower_Age</th>\n",
              "      <th>Is_Spouse</th>\n",
              "      <th>Health Indicator</th>\n",
              "      <th>Holding_Policy_Duration</th>\n",
              "      <th>Holding_Policy_Type</th>\n",
              "      <th>Reco_Policy_Cat</th>\n",
              "      <th>Reco_Policy_Premium</th>\n",
              "      <th>Response</th>\n",
              "    </tr>\n",
              "  </thead>\n",
              "  <tbody>\n",
              "    <tr>\n",
              "      <th>0</th>\n",
              "      <td>1</td>\n",
              "      <td>C3</td>\n",
              "      <td>3213</td>\n",
              "      <td>Rented</td>\n",
              "      <td>Individual</td>\n",
              "      <td>36</td>\n",
              "      <td>36</td>\n",
              "      <td>No</td>\n",
              "      <td>X1</td>\n",
              "      <td>14+</td>\n",
              "      <td>3.0</td>\n",
              "      <td>22</td>\n",
              "      <td>11628.0</td>\n",
              "      <td>0</td>\n",
              "    </tr>\n",
              "    <tr>\n",
              "      <th>1</th>\n",
              "      <td>2</td>\n",
              "      <td>C5</td>\n",
              "      <td>1117</td>\n",
              "      <td>Owned</td>\n",
              "      <td>Joint</td>\n",
              "      <td>75</td>\n",
              "      <td>22</td>\n",
              "      <td>No</td>\n",
              "      <td>X2</td>\n",
              "      <td>0</td>\n",
              "      <td>0.0</td>\n",
              "      <td>22</td>\n",
              "      <td>30510.0</td>\n",
              "      <td>0</td>\n",
              "    </tr>\n",
              "    <tr>\n",
              "      <th>2</th>\n",
              "      <td>3</td>\n",
              "      <td>C5</td>\n",
              "      <td>3732</td>\n",
              "      <td>Owned</td>\n",
              "      <td>Individual</td>\n",
              "      <td>32</td>\n",
              "      <td>32</td>\n",
              "      <td>No</td>\n",
              "      <td>Not-Provided</td>\n",
              "      <td>1.0</td>\n",
              "      <td>1.0</td>\n",
              "      <td>19</td>\n",
              "      <td>7450.0</td>\n",
              "      <td>1</td>\n",
              "    </tr>\n",
              "    <tr>\n",
              "      <th>3</th>\n",
              "      <td>4</td>\n",
              "      <td>C24</td>\n",
              "      <td>4378</td>\n",
              "      <td>Owned</td>\n",
              "      <td>Joint</td>\n",
              "      <td>52</td>\n",
              "      <td>48</td>\n",
              "      <td>No</td>\n",
              "      <td>X1</td>\n",
              "      <td>14+</td>\n",
              "      <td>3.0</td>\n",
              "      <td>19</td>\n",
              "      <td>17780.0</td>\n",
              "      <td>0</td>\n",
              "    </tr>\n",
              "    <tr>\n",
              "      <th>4</th>\n",
              "      <td>5</td>\n",
              "      <td>C8</td>\n",
              "      <td>2190</td>\n",
              "      <td>Rented</td>\n",
              "      <td>Individual</td>\n",
              "      <td>44</td>\n",
              "      <td>44</td>\n",
              "      <td>No</td>\n",
              "      <td>X2</td>\n",
              "      <td>3.0</td>\n",
              "      <td>1.0</td>\n",
              "      <td>16</td>\n",
              "      <td>10404.0</td>\n",
              "      <td>0</td>\n",
              "    </tr>\n",
              "  </tbody>\n",
              "</table>\n",
              "</div>"
            ],
            "text/plain": [
              "   ID City_Code  Region_Code  ... Reco_Policy_Cat Reco_Policy_Premium  Response\n",
              "0   1        C3         3213  ...              22             11628.0         0\n",
              "1   2        C5         1117  ...              22             30510.0         0\n",
              "2   3        C5         3732  ...              19              7450.0         1\n",
              "3   4       C24         4378  ...              19             17780.0         0\n",
              "4   5        C8         2190  ...              16             10404.0         0\n",
              "\n",
              "[5 rows x 14 columns]"
            ]
          },
          "metadata": {
            "tags": []
          },
          "execution_count": 31
        }
      ]
    },
    {
      "cell_type": "code",
      "metadata": {
        "colab": {
          "base_uri": "https://localhost:8080/"
        },
        "id": "HUIMnapZa4Fa",
        "outputId": "259120dd-7c30-4aff-fe4a-8e0c465a2b46"
      },
      "source": [
        "train_val_proc.isna().sum()"
      ],
      "execution_count": 32,
      "outputs": [
        {
          "output_type": "execute_result",
          "data": {
            "text/plain": [
              "ID                         0\n",
              "City_Code                  0\n",
              "Region_Code                0\n",
              "Accomodation_Type          0\n",
              "Reco_Insurance_Type        0\n",
              "Upper_Age                  0\n",
              "Lower_Age                  0\n",
              "Is_Spouse                  0\n",
              "Health Indicator           0\n",
              "Holding_Policy_Duration    0\n",
              "Holding_Policy_Type        0\n",
              "Reco_Policy_Cat            0\n",
              "Reco_Policy_Premium        0\n",
              "Response                   0\n",
              "dtype: int64"
            ]
          },
          "metadata": {
            "tags": []
          },
          "execution_count": 32
        }
      ]
    },
    {
      "cell_type": "markdown",
      "metadata": {
        "id": "zjQUe2DshHXf"
      },
      "source": [
        "### Changes in numerical columns"
      ]
    },
    {
      "cell_type": "code",
      "metadata": {
        "id": "wlJttMFhgrBd"
      },
      "source": [
        "train_val_proc.replace({'Holding_Policy_Duration': {'14+': '20'}}, inplace=True)\r\n",
        "train_val_proc['Holding_Policy_Duration'] = train_val_proc['Holding_Policy_Duration'].astype('float')"
      ],
      "execution_count": 33,
      "outputs": []
    },
    {
      "cell_type": "markdown",
      "metadata": {
        "id": "Jl_c0XeziFmh"
      },
      "source": [
        "### Miscellaneous"
      ]
    },
    {
      "cell_type": "markdown",
      "metadata": {
        "id": "_ZFqqgCDiKOr"
      },
      "source": [
        "As ID column is just a unique value and doesnt represent any relationship with the response, lets convert that column to be the index for our dataframe"
      ]
    },
    {
      "cell_type": "code",
      "metadata": {
        "colab": {
          "base_uri": "https://localhost:8080/",
          "height": 278
        },
        "id": "h09n3fbXhe7H",
        "outputId": "ecb1f8aa-c94e-40a7-eb71-5838b070c545"
      },
      "source": [
        "train_val_proc.set_index('ID', inplace=True)\r\n",
        "train_val_proc.head()"
      ],
      "execution_count": 34,
      "outputs": [
        {
          "output_type": "execute_result",
          "data": {
            "text/html": [
              "<div>\n",
              "<style scoped>\n",
              "    .dataframe tbody tr th:only-of-type {\n",
              "        vertical-align: middle;\n",
              "    }\n",
              "\n",
              "    .dataframe tbody tr th {\n",
              "        vertical-align: top;\n",
              "    }\n",
              "\n",
              "    .dataframe thead th {\n",
              "        text-align: right;\n",
              "    }\n",
              "</style>\n",
              "<table border=\"1\" class=\"dataframe\">\n",
              "  <thead>\n",
              "    <tr style=\"text-align: right;\">\n",
              "      <th></th>\n",
              "      <th>City_Code</th>\n",
              "      <th>Region_Code</th>\n",
              "      <th>Accomodation_Type</th>\n",
              "      <th>Reco_Insurance_Type</th>\n",
              "      <th>Upper_Age</th>\n",
              "      <th>Lower_Age</th>\n",
              "      <th>Is_Spouse</th>\n",
              "      <th>Health Indicator</th>\n",
              "      <th>Holding_Policy_Duration</th>\n",
              "      <th>Holding_Policy_Type</th>\n",
              "      <th>Reco_Policy_Cat</th>\n",
              "      <th>Reco_Policy_Premium</th>\n",
              "      <th>Response</th>\n",
              "    </tr>\n",
              "    <tr>\n",
              "      <th>ID</th>\n",
              "      <th></th>\n",
              "      <th></th>\n",
              "      <th></th>\n",
              "      <th></th>\n",
              "      <th></th>\n",
              "      <th></th>\n",
              "      <th></th>\n",
              "      <th></th>\n",
              "      <th></th>\n",
              "      <th></th>\n",
              "      <th></th>\n",
              "      <th></th>\n",
              "      <th></th>\n",
              "    </tr>\n",
              "  </thead>\n",
              "  <tbody>\n",
              "    <tr>\n",
              "      <th>1</th>\n",
              "      <td>C3</td>\n",
              "      <td>3213</td>\n",
              "      <td>Rented</td>\n",
              "      <td>Individual</td>\n",
              "      <td>36</td>\n",
              "      <td>36</td>\n",
              "      <td>No</td>\n",
              "      <td>X1</td>\n",
              "      <td>20.0</td>\n",
              "      <td>3.0</td>\n",
              "      <td>22</td>\n",
              "      <td>11628.0</td>\n",
              "      <td>0</td>\n",
              "    </tr>\n",
              "    <tr>\n",
              "      <th>2</th>\n",
              "      <td>C5</td>\n",
              "      <td>1117</td>\n",
              "      <td>Owned</td>\n",
              "      <td>Joint</td>\n",
              "      <td>75</td>\n",
              "      <td>22</td>\n",
              "      <td>No</td>\n",
              "      <td>X2</td>\n",
              "      <td>0.0</td>\n",
              "      <td>0.0</td>\n",
              "      <td>22</td>\n",
              "      <td>30510.0</td>\n",
              "      <td>0</td>\n",
              "    </tr>\n",
              "    <tr>\n",
              "      <th>3</th>\n",
              "      <td>C5</td>\n",
              "      <td>3732</td>\n",
              "      <td>Owned</td>\n",
              "      <td>Individual</td>\n",
              "      <td>32</td>\n",
              "      <td>32</td>\n",
              "      <td>No</td>\n",
              "      <td>Not-Provided</td>\n",
              "      <td>1.0</td>\n",
              "      <td>1.0</td>\n",
              "      <td>19</td>\n",
              "      <td>7450.0</td>\n",
              "      <td>1</td>\n",
              "    </tr>\n",
              "    <tr>\n",
              "      <th>4</th>\n",
              "      <td>C24</td>\n",
              "      <td>4378</td>\n",
              "      <td>Owned</td>\n",
              "      <td>Joint</td>\n",
              "      <td>52</td>\n",
              "      <td>48</td>\n",
              "      <td>No</td>\n",
              "      <td>X1</td>\n",
              "      <td>20.0</td>\n",
              "      <td>3.0</td>\n",
              "      <td>19</td>\n",
              "      <td>17780.0</td>\n",
              "      <td>0</td>\n",
              "    </tr>\n",
              "    <tr>\n",
              "      <th>5</th>\n",
              "      <td>C8</td>\n",
              "      <td>2190</td>\n",
              "      <td>Rented</td>\n",
              "      <td>Individual</td>\n",
              "      <td>44</td>\n",
              "      <td>44</td>\n",
              "      <td>No</td>\n",
              "      <td>X2</td>\n",
              "      <td>3.0</td>\n",
              "      <td>1.0</td>\n",
              "      <td>16</td>\n",
              "      <td>10404.0</td>\n",
              "      <td>0</td>\n",
              "    </tr>\n",
              "  </tbody>\n",
              "</table>\n",
              "</div>"
            ],
            "text/plain": [
              "   City_Code  Region_Code  ... Reco_Policy_Premium Response\n",
              "ID                         ...                             \n",
              "1         C3         3213  ...             11628.0        0\n",
              "2         C5         1117  ...             30510.0        0\n",
              "3         C5         3732  ...              7450.0        1\n",
              "4        C24         4378  ...             17780.0        0\n",
              "5         C8         2190  ...             10404.0        0\n",
              "\n",
              "[5 rows x 13 columns]"
            ]
          },
          "metadata": {
            "tags": []
          },
          "execution_count": 34
        }
      ]
    },
    {
      "cell_type": "markdown",
      "metadata": {
        "id": "f5hSeZ2iiOJo"
      },
      "source": [
        "Lets Remove `Region Code` from the analysis, as the city_code represents the region on the broaded perspective...\r\n",
        "\r\n",
        "We will come back to this later and check how region can be included"
      ]
    },
    {
      "cell_type": "code",
      "metadata": {
        "colab": {
          "base_uri": "https://localhost:8080/",
          "height": 278
        },
        "id": "LuQS7jO2hgCw",
        "outputId": "acbfb85e-e013-48bc-c5ba-3ab9a52b5699"
      },
      "source": [
        "train_val_proc.drop(labels=['Region_Code'], axis=1, inplace=True)\r\n",
        "train_val_proc.head()"
      ],
      "execution_count": 35,
      "outputs": [
        {
          "output_type": "execute_result",
          "data": {
            "text/html": [
              "<div>\n",
              "<style scoped>\n",
              "    .dataframe tbody tr th:only-of-type {\n",
              "        vertical-align: middle;\n",
              "    }\n",
              "\n",
              "    .dataframe tbody tr th {\n",
              "        vertical-align: top;\n",
              "    }\n",
              "\n",
              "    .dataframe thead th {\n",
              "        text-align: right;\n",
              "    }\n",
              "</style>\n",
              "<table border=\"1\" class=\"dataframe\">\n",
              "  <thead>\n",
              "    <tr style=\"text-align: right;\">\n",
              "      <th></th>\n",
              "      <th>City_Code</th>\n",
              "      <th>Accomodation_Type</th>\n",
              "      <th>Reco_Insurance_Type</th>\n",
              "      <th>Upper_Age</th>\n",
              "      <th>Lower_Age</th>\n",
              "      <th>Is_Spouse</th>\n",
              "      <th>Health Indicator</th>\n",
              "      <th>Holding_Policy_Duration</th>\n",
              "      <th>Holding_Policy_Type</th>\n",
              "      <th>Reco_Policy_Cat</th>\n",
              "      <th>Reco_Policy_Premium</th>\n",
              "      <th>Response</th>\n",
              "    </tr>\n",
              "    <tr>\n",
              "      <th>ID</th>\n",
              "      <th></th>\n",
              "      <th></th>\n",
              "      <th></th>\n",
              "      <th></th>\n",
              "      <th></th>\n",
              "      <th></th>\n",
              "      <th></th>\n",
              "      <th></th>\n",
              "      <th></th>\n",
              "      <th></th>\n",
              "      <th></th>\n",
              "      <th></th>\n",
              "    </tr>\n",
              "  </thead>\n",
              "  <tbody>\n",
              "    <tr>\n",
              "      <th>1</th>\n",
              "      <td>C3</td>\n",
              "      <td>Rented</td>\n",
              "      <td>Individual</td>\n",
              "      <td>36</td>\n",
              "      <td>36</td>\n",
              "      <td>No</td>\n",
              "      <td>X1</td>\n",
              "      <td>20.0</td>\n",
              "      <td>3.0</td>\n",
              "      <td>22</td>\n",
              "      <td>11628.0</td>\n",
              "      <td>0</td>\n",
              "    </tr>\n",
              "    <tr>\n",
              "      <th>2</th>\n",
              "      <td>C5</td>\n",
              "      <td>Owned</td>\n",
              "      <td>Joint</td>\n",
              "      <td>75</td>\n",
              "      <td>22</td>\n",
              "      <td>No</td>\n",
              "      <td>X2</td>\n",
              "      <td>0.0</td>\n",
              "      <td>0.0</td>\n",
              "      <td>22</td>\n",
              "      <td>30510.0</td>\n",
              "      <td>0</td>\n",
              "    </tr>\n",
              "    <tr>\n",
              "      <th>3</th>\n",
              "      <td>C5</td>\n",
              "      <td>Owned</td>\n",
              "      <td>Individual</td>\n",
              "      <td>32</td>\n",
              "      <td>32</td>\n",
              "      <td>No</td>\n",
              "      <td>Not-Provided</td>\n",
              "      <td>1.0</td>\n",
              "      <td>1.0</td>\n",
              "      <td>19</td>\n",
              "      <td>7450.0</td>\n",
              "      <td>1</td>\n",
              "    </tr>\n",
              "    <tr>\n",
              "      <th>4</th>\n",
              "      <td>C24</td>\n",
              "      <td>Owned</td>\n",
              "      <td>Joint</td>\n",
              "      <td>52</td>\n",
              "      <td>48</td>\n",
              "      <td>No</td>\n",
              "      <td>X1</td>\n",
              "      <td>20.0</td>\n",
              "      <td>3.0</td>\n",
              "      <td>19</td>\n",
              "      <td>17780.0</td>\n",
              "      <td>0</td>\n",
              "    </tr>\n",
              "    <tr>\n",
              "      <th>5</th>\n",
              "      <td>C8</td>\n",
              "      <td>Rented</td>\n",
              "      <td>Individual</td>\n",
              "      <td>44</td>\n",
              "      <td>44</td>\n",
              "      <td>No</td>\n",
              "      <td>X2</td>\n",
              "      <td>3.0</td>\n",
              "      <td>1.0</td>\n",
              "      <td>16</td>\n",
              "      <td>10404.0</td>\n",
              "      <td>0</td>\n",
              "    </tr>\n",
              "  </tbody>\n",
              "</table>\n",
              "</div>"
            ],
            "text/plain": [
              "   City_Code Accomodation_Type  ... Reco_Policy_Premium  Response\n",
              "ID                              ...                              \n",
              "1         C3            Rented  ...             11628.0         0\n",
              "2         C5             Owned  ...             30510.0         0\n",
              "3         C5             Owned  ...              7450.0         1\n",
              "4        C24             Owned  ...             17780.0         0\n",
              "5         C8            Rented  ...             10404.0         0\n",
              "\n",
              "[5 rows x 12 columns]"
            ]
          },
          "metadata": {
            "tags": []
          },
          "execution_count": 35
        }
      ]
    },
    {
      "cell_type": "markdown",
      "metadata": {
        "id": "wKFIaQe-iu_S"
      },
      "source": [
        "### Add Dummies"
      ]
    },
    {
      "cell_type": "code",
      "metadata": {
        "colab": {
          "base_uri": "https://localhost:8080/",
          "height": 290
        },
        "id": "HSxiaZp-hiiN",
        "outputId": "e2ef98e7-02c2-49bf-e8de-b764ab2c1e65"
      },
      "source": [
        "train_val_proc_onehot = train_val_proc.copy()\r\n",
        "train_val_proc_onehot = pd.get_dummies(train_val_proc_onehot, prefix=['City','Accom', 'InsTyp', 'Spouse', 'HI', 'Hol_PT', 'Reco_cat'],\r\n",
        "                                    columns=['City_Code','Accomodation_Type', 'Reco_Insurance_Type', 'Is_Spouse',\r\n",
        "                                             'Health Indicator','Holding_Policy_Type', 'Reco_Policy_Cat']\r\n",
        "                                    # ,drop_first=True  # excluded as when run on the Val/Test Data then it can delete a different row, which can cause problems\r\n",
        "                                    )\r\n",
        "train_val_proc_onehot.head()"
      ],
      "execution_count": 36,
      "outputs": [
        {
          "output_type": "execute_result",
          "data": {
            "text/html": [
              "<div>\n",
              "<style scoped>\n",
              "    .dataframe tbody tr th:only-of-type {\n",
              "        vertical-align: middle;\n",
              "    }\n",
              "\n",
              "    .dataframe tbody tr th {\n",
              "        vertical-align: top;\n",
              "    }\n",
              "\n",
              "    .dataframe thead th {\n",
              "        text-align: right;\n",
              "    }\n",
              "</style>\n",
              "<table border=\"1\" class=\"dataframe\">\n",
              "  <thead>\n",
              "    <tr style=\"text-align: right;\">\n",
              "      <th></th>\n",
              "      <th>Upper_Age</th>\n",
              "      <th>Lower_Age</th>\n",
              "      <th>Holding_Policy_Duration</th>\n",
              "      <th>Reco_Policy_Premium</th>\n",
              "      <th>Response</th>\n",
              "      <th>City_C1</th>\n",
              "      <th>City_C10</th>\n",
              "      <th>City_C11</th>\n",
              "      <th>City_C12</th>\n",
              "      <th>City_C13</th>\n",
              "      <th>City_C14</th>\n",
              "      <th>City_C15</th>\n",
              "      <th>City_C16</th>\n",
              "      <th>City_C17</th>\n",
              "      <th>City_C18</th>\n",
              "      <th>City_C19</th>\n",
              "      <th>City_C2</th>\n",
              "      <th>City_C20</th>\n",
              "      <th>City_C21</th>\n",
              "      <th>City_C22</th>\n",
              "      <th>City_C23</th>\n",
              "      <th>City_C24</th>\n",
              "      <th>City_C25</th>\n",
              "      <th>City_C26</th>\n",
              "      <th>City_C27</th>\n",
              "      <th>City_C28</th>\n",
              "      <th>City_C29</th>\n",
              "      <th>City_C3</th>\n",
              "      <th>City_C30</th>\n",
              "      <th>City_C31</th>\n",
              "      <th>City_C32</th>\n",
              "      <th>City_C33</th>\n",
              "      <th>City_C34</th>\n",
              "      <th>City_C35</th>\n",
              "      <th>City_C36</th>\n",
              "      <th>City_C4</th>\n",
              "      <th>City_C5</th>\n",
              "      <th>City_C6</th>\n",
              "      <th>City_C7</th>\n",
              "      <th>City_C8</th>\n",
              "      <th>...</th>\n",
              "      <th>InsTyp_Joint</th>\n",
              "      <th>Spouse_No</th>\n",
              "      <th>Spouse_Yes</th>\n",
              "      <th>HI_Not-Provided</th>\n",
              "      <th>HI_X1</th>\n",
              "      <th>HI_X2</th>\n",
              "      <th>HI_X3</th>\n",
              "      <th>HI_X4</th>\n",
              "      <th>HI_X5</th>\n",
              "      <th>HI_X6</th>\n",
              "      <th>HI_X7</th>\n",
              "      <th>HI_X8</th>\n",
              "      <th>HI_X9</th>\n",
              "      <th>Hol_PT_0.0</th>\n",
              "      <th>Hol_PT_1.0</th>\n",
              "      <th>Hol_PT_2.0</th>\n",
              "      <th>Hol_PT_3.0</th>\n",
              "      <th>Hol_PT_4.0</th>\n",
              "      <th>Reco_cat_1</th>\n",
              "      <th>Reco_cat_2</th>\n",
              "      <th>Reco_cat_3</th>\n",
              "      <th>Reco_cat_4</th>\n",
              "      <th>Reco_cat_5</th>\n",
              "      <th>Reco_cat_6</th>\n",
              "      <th>Reco_cat_7</th>\n",
              "      <th>Reco_cat_8</th>\n",
              "      <th>Reco_cat_9</th>\n",
              "      <th>Reco_cat_10</th>\n",
              "      <th>Reco_cat_11</th>\n",
              "      <th>Reco_cat_12</th>\n",
              "      <th>Reco_cat_13</th>\n",
              "      <th>Reco_cat_14</th>\n",
              "      <th>Reco_cat_15</th>\n",
              "      <th>Reco_cat_16</th>\n",
              "      <th>Reco_cat_17</th>\n",
              "      <th>Reco_cat_18</th>\n",
              "      <th>Reco_cat_19</th>\n",
              "      <th>Reco_cat_20</th>\n",
              "      <th>Reco_cat_21</th>\n",
              "      <th>Reco_cat_22</th>\n",
              "    </tr>\n",
              "    <tr>\n",
              "      <th>ID</th>\n",
              "      <th></th>\n",
              "      <th></th>\n",
              "      <th></th>\n",
              "      <th></th>\n",
              "      <th></th>\n",
              "      <th></th>\n",
              "      <th></th>\n",
              "      <th></th>\n",
              "      <th></th>\n",
              "      <th></th>\n",
              "      <th></th>\n",
              "      <th></th>\n",
              "      <th></th>\n",
              "      <th></th>\n",
              "      <th></th>\n",
              "      <th></th>\n",
              "      <th></th>\n",
              "      <th></th>\n",
              "      <th></th>\n",
              "      <th></th>\n",
              "      <th></th>\n",
              "      <th></th>\n",
              "      <th></th>\n",
              "      <th></th>\n",
              "      <th></th>\n",
              "      <th></th>\n",
              "      <th></th>\n",
              "      <th></th>\n",
              "      <th></th>\n",
              "      <th></th>\n",
              "      <th></th>\n",
              "      <th></th>\n",
              "      <th></th>\n",
              "      <th></th>\n",
              "      <th></th>\n",
              "      <th></th>\n",
              "      <th></th>\n",
              "      <th></th>\n",
              "      <th></th>\n",
              "      <th></th>\n",
              "      <th></th>\n",
              "      <th></th>\n",
              "      <th></th>\n",
              "      <th></th>\n",
              "      <th></th>\n",
              "      <th></th>\n",
              "      <th></th>\n",
              "      <th></th>\n",
              "      <th></th>\n",
              "      <th></th>\n",
              "      <th></th>\n",
              "      <th></th>\n",
              "      <th></th>\n",
              "      <th></th>\n",
              "      <th></th>\n",
              "      <th></th>\n",
              "      <th></th>\n",
              "      <th></th>\n",
              "      <th></th>\n",
              "      <th></th>\n",
              "      <th></th>\n",
              "      <th></th>\n",
              "      <th></th>\n",
              "      <th></th>\n",
              "      <th></th>\n",
              "      <th></th>\n",
              "      <th></th>\n",
              "      <th></th>\n",
              "      <th></th>\n",
              "      <th></th>\n",
              "      <th></th>\n",
              "      <th></th>\n",
              "      <th></th>\n",
              "      <th></th>\n",
              "      <th></th>\n",
              "      <th></th>\n",
              "      <th></th>\n",
              "      <th></th>\n",
              "      <th></th>\n",
              "      <th></th>\n",
              "      <th></th>\n",
              "    </tr>\n",
              "  </thead>\n",
              "  <tbody>\n",
              "    <tr>\n",
              "      <th>1</th>\n",
              "      <td>36</td>\n",
              "      <td>36</td>\n",
              "      <td>20.0</td>\n",
              "      <td>11628.0</td>\n",
              "      <td>0</td>\n",
              "      <td>0</td>\n",
              "      <td>0</td>\n",
              "      <td>0</td>\n",
              "      <td>0</td>\n",
              "      <td>0</td>\n",
              "      <td>0</td>\n",
              "      <td>0</td>\n",
              "      <td>0</td>\n",
              "      <td>0</td>\n",
              "      <td>0</td>\n",
              "      <td>0</td>\n",
              "      <td>0</td>\n",
              "      <td>0</td>\n",
              "      <td>0</td>\n",
              "      <td>0</td>\n",
              "      <td>0</td>\n",
              "      <td>0</td>\n",
              "      <td>0</td>\n",
              "      <td>0</td>\n",
              "      <td>0</td>\n",
              "      <td>0</td>\n",
              "      <td>0</td>\n",
              "      <td>1</td>\n",
              "      <td>0</td>\n",
              "      <td>0</td>\n",
              "      <td>0</td>\n",
              "      <td>0</td>\n",
              "      <td>0</td>\n",
              "      <td>0</td>\n",
              "      <td>0</td>\n",
              "      <td>0</td>\n",
              "      <td>0</td>\n",
              "      <td>0</td>\n",
              "      <td>0</td>\n",
              "      <td>0</td>\n",
              "      <td>...</td>\n",
              "      <td>0</td>\n",
              "      <td>1</td>\n",
              "      <td>0</td>\n",
              "      <td>0</td>\n",
              "      <td>1</td>\n",
              "      <td>0</td>\n",
              "      <td>0</td>\n",
              "      <td>0</td>\n",
              "      <td>0</td>\n",
              "      <td>0</td>\n",
              "      <td>0</td>\n",
              "      <td>0</td>\n",
              "      <td>0</td>\n",
              "      <td>0</td>\n",
              "      <td>0</td>\n",
              "      <td>0</td>\n",
              "      <td>1</td>\n",
              "      <td>0</td>\n",
              "      <td>0</td>\n",
              "      <td>0</td>\n",
              "      <td>0</td>\n",
              "      <td>0</td>\n",
              "      <td>0</td>\n",
              "      <td>0</td>\n",
              "      <td>0</td>\n",
              "      <td>0</td>\n",
              "      <td>0</td>\n",
              "      <td>0</td>\n",
              "      <td>0</td>\n",
              "      <td>0</td>\n",
              "      <td>0</td>\n",
              "      <td>0</td>\n",
              "      <td>0</td>\n",
              "      <td>0</td>\n",
              "      <td>0</td>\n",
              "      <td>0</td>\n",
              "      <td>0</td>\n",
              "      <td>0</td>\n",
              "      <td>0</td>\n",
              "      <td>1</td>\n",
              "    </tr>\n",
              "    <tr>\n",
              "      <th>2</th>\n",
              "      <td>75</td>\n",
              "      <td>22</td>\n",
              "      <td>0.0</td>\n",
              "      <td>30510.0</td>\n",
              "      <td>0</td>\n",
              "      <td>0</td>\n",
              "      <td>0</td>\n",
              "      <td>0</td>\n",
              "      <td>0</td>\n",
              "      <td>0</td>\n",
              "      <td>0</td>\n",
              "      <td>0</td>\n",
              "      <td>0</td>\n",
              "      <td>0</td>\n",
              "      <td>0</td>\n",
              "      <td>0</td>\n",
              "      <td>0</td>\n",
              "      <td>0</td>\n",
              "      <td>0</td>\n",
              "      <td>0</td>\n",
              "      <td>0</td>\n",
              "      <td>0</td>\n",
              "      <td>0</td>\n",
              "      <td>0</td>\n",
              "      <td>0</td>\n",
              "      <td>0</td>\n",
              "      <td>0</td>\n",
              "      <td>0</td>\n",
              "      <td>0</td>\n",
              "      <td>0</td>\n",
              "      <td>0</td>\n",
              "      <td>0</td>\n",
              "      <td>0</td>\n",
              "      <td>0</td>\n",
              "      <td>0</td>\n",
              "      <td>0</td>\n",
              "      <td>1</td>\n",
              "      <td>0</td>\n",
              "      <td>0</td>\n",
              "      <td>0</td>\n",
              "      <td>...</td>\n",
              "      <td>1</td>\n",
              "      <td>1</td>\n",
              "      <td>0</td>\n",
              "      <td>0</td>\n",
              "      <td>0</td>\n",
              "      <td>1</td>\n",
              "      <td>0</td>\n",
              "      <td>0</td>\n",
              "      <td>0</td>\n",
              "      <td>0</td>\n",
              "      <td>0</td>\n",
              "      <td>0</td>\n",
              "      <td>0</td>\n",
              "      <td>1</td>\n",
              "      <td>0</td>\n",
              "      <td>0</td>\n",
              "      <td>0</td>\n",
              "      <td>0</td>\n",
              "      <td>0</td>\n",
              "      <td>0</td>\n",
              "      <td>0</td>\n",
              "      <td>0</td>\n",
              "      <td>0</td>\n",
              "      <td>0</td>\n",
              "      <td>0</td>\n",
              "      <td>0</td>\n",
              "      <td>0</td>\n",
              "      <td>0</td>\n",
              "      <td>0</td>\n",
              "      <td>0</td>\n",
              "      <td>0</td>\n",
              "      <td>0</td>\n",
              "      <td>0</td>\n",
              "      <td>0</td>\n",
              "      <td>0</td>\n",
              "      <td>0</td>\n",
              "      <td>0</td>\n",
              "      <td>0</td>\n",
              "      <td>0</td>\n",
              "      <td>1</td>\n",
              "    </tr>\n",
              "    <tr>\n",
              "      <th>3</th>\n",
              "      <td>32</td>\n",
              "      <td>32</td>\n",
              "      <td>1.0</td>\n",
              "      <td>7450.0</td>\n",
              "      <td>1</td>\n",
              "      <td>0</td>\n",
              "      <td>0</td>\n",
              "      <td>0</td>\n",
              "      <td>0</td>\n",
              "      <td>0</td>\n",
              "      <td>0</td>\n",
              "      <td>0</td>\n",
              "      <td>0</td>\n",
              "      <td>0</td>\n",
              "      <td>0</td>\n",
              "      <td>0</td>\n",
              "      <td>0</td>\n",
              "      <td>0</td>\n",
              "      <td>0</td>\n",
              "      <td>0</td>\n",
              "      <td>0</td>\n",
              "      <td>0</td>\n",
              "      <td>0</td>\n",
              "      <td>0</td>\n",
              "      <td>0</td>\n",
              "      <td>0</td>\n",
              "      <td>0</td>\n",
              "      <td>0</td>\n",
              "      <td>0</td>\n",
              "      <td>0</td>\n",
              "      <td>0</td>\n",
              "      <td>0</td>\n",
              "      <td>0</td>\n",
              "      <td>0</td>\n",
              "      <td>0</td>\n",
              "      <td>0</td>\n",
              "      <td>1</td>\n",
              "      <td>0</td>\n",
              "      <td>0</td>\n",
              "      <td>0</td>\n",
              "      <td>...</td>\n",
              "      <td>0</td>\n",
              "      <td>1</td>\n",
              "      <td>0</td>\n",
              "      <td>1</td>\n",
              "      <td>0</td>\n",
              "      <td>0</td>\n",
              "      <td>0</td>\n",
              "      <td>0</td>\n",
              "      <td>0</td>\n",
              "      <td>0</td>\n",
              "      <td>0</td>\n",
              "      <td>0</td>\n",
              "      <td>0</td>\n",
              "      <td>0</td>\n",
              "      <td>1</td>\n",
              "      <td>0</td>\n",
              "      <td>0</td>\n",
              "      <td>0</td>\n",
              "      <td>0</td>\n",
              "      <td>0</td>\n",
              "      <td>0</td>\n",
              "      <td>0</td>\n",
              "      <td>0</td>\n",
              "      <td>0</td>\n",
              "      <td>0</td>\n",
              "      <td>0</td>\n",
              "      <td>0</td>\n",
              "      <td>0</td>\n",
              "      <td>0</td>\n",
              "      <td>0</td>\n",
              "      <td>0</td>\n",
              "      <td>0</td>\n",
              "      <td>0</td>\n",
              "      <td>0</td>\n",
              "      <td>0</td>\n",
              "      <td>0</td>\n",
              "      <td>1</td>\n",
              "      <td>0</td>\n",
              "      <td>0</td>\n",
              "      <td>0</td>\n",
              "    </tr>\n",
              "    <tr>\n",
              "      <th>4</th>\n",
              "      <td>52</td>\n",
              "      <td>48</td>\n",
              "      <td>20.0</td>\n",
              "      <td>17780.0</td>\n",
              "      <td>0</td>\n",
              "      <td>0</td>\n",
              "      <td>0</td>\n",
              "      <td>0</td>\n",
              "      <td>0</td>\n",
              "      <td>0</td>\n",
              "      <td>0</td>\n",
              "      <td>0</td>\n",
              "      <td>0</td>\n",
              "      <td>0</td>\n",
              "      <td>0</td>\n",
              "      <td>0</td>\n",
              "      <td>0</td>\n",
              "      <td>0</td>\n",
              "      <td>0</td>\n",
              "      <td>0</td>\n",
              "      <td>0</td>\n",
              "      <td>1</td>\n",
              "      <td>0</td>\n",
              "      <td>0</td>\n",
              "      <td>0</td>\n",
              "      <td>0</td>\n",
              "      <td>0</td>\n",
              "      <td>0</td>\n",
              "      <td>0</td>\n",
              "      <td>0</td>\n",
              "      <td>0</td>\n",
              "      <td>0</td>\n",
              "      <td>0</td>\n",
              "      <td>0</td>\n",
              "      <td>0</td>\n",
              "      <td>0</td>\n",
              "      <td>0</td>\n",
              "      <td>0</td>\n",
              "      <td>0</td>\n",
              "      <td>0</td>\n",
              "      <td>...</td>\n",
              "      <td>1</td>\n",
              "      <td>1</td>\n",
              "      <td>0</td>\n",
              "      <td>0</td>\n",
              "      <td>1</td>\n",
              "      <td>0</td>\n",
              "      <td>0</td>\n",
              "      <td>0</td>\n",
              "      <td>0</td>\n",
              "      <td>0</td>\n",
              "      <td>0</td>\n",
              "      <td>0</td>\n",
              "      <td>0</td>\n",
              "      <td>0</td>\n",
              "      <td>0</td>\n",
              "      <td>0</td>\n",
              "      <td>1</td>\n",
              "      <td>0</td>\n",
              "      <td>0</td>\n",
              "      <td>0</td>\n",
              "      <td>0</td>\n",
              "      <td>0</td>\n",
              "      <td>0</td>\n",
              "      <td>0</td>\n",
              "      <td>0</td>\n",
              "      <td>0</td>\n",
              "      <td>0</td>\n",
              "      <td>0</td>\n",
              "      <td>0</td>\n",
              "      <td>0</td>\n",
              "      <td>0</td>\n",
              "      <td>0</td>\n",
              "      <td>0</td>\n",
              "      <td>0</td>\n",
              "      <td>0</td>\n",
              "      <td>0</td>\n",
              "      <td>1</td>\n",
              "      <td>0</td>\n",
              "      <td>0</td>\n",
              "      <td>0</td>\n",
              "    </tr>\n",
              "    <tr>\n",
              "      <th>5</th>\n",
              "      <td>44</td>\n",
              "      <td>44</td>\n",
              "      <td>3.0</td>\n",
              "      <td>10404.0</td>\n",
              "      <td>0</td>\n",
              "      <td>0</td>\n",
              "      <td>0</td>\n",
              "      <td>0</td>\n",
              "      <td>0</td>\n",
              "      <td>0</td>\n",
              "      <td>0</td>\n",
              "      <td>0</td>\n",
              "      <td>0</td>\n",
              "      <td>0</td>\n",
              "      <td>0</td>\n",
              "      <td>0</td>\n",
              "      <td>0</td>\n",
              "      <td>0</td>\n",
              "      <td>0</td>\n",
              "      <td>0</td>\n",
              "      <td>0</td>\n",
              "      <td>0</td>\n",
              "      <td>0</td>\n",
              "      <td>0</td>\n",
              "      <td>0</td>\n",
              "      <td>0</td>\n",
              "      <td>0</td>\n",
              "      <td>0</td>\n",
              "      <td>0</td>\n",
              "      <td>0</td>\n",
              "      <td>0</td>\n",
              "      <td>0</td>\n",
              "      <td>0</td>\n",
              "      <td>0</td>\n",
              "      <td>0</td>\n",
              "      <td>0</td>\n",
              "      <td>0</td>\n",
              "      <td>0</td>\n",
              "      <td>0</td>\n",
              "      <td>1</td>\n",
              "      <td>...</td>\n",
              "      <td>0</td>\n",
              "      <td>1</td>\n",
              "      <td>0</td>\n",
              "      <td>0</td>\n",
              "      <td>0</td>\n",
              "      <td>1</td>\n",
              "      <td>0</td>\n",
              "      <td>0</td>\n",
              "      <td>0</td>\n",
              "      <td>0</td>\n",
              "      <td>0</td>\n",
              "      <td>0</td>\n",
              "      <td>0</td>\n",
              "      <td>0</td>\n",
              "      <td>1</td>\n",
              "      <td>0</td>\n",
              "      <td>0</td>\n",
              "      <td>0</td>\n",
              "      <td>0</td>\n",
              "      <td>0</td>\n",
              "      <td>0</td>\n",
              "      <td>0</td>\n",
              "      <td>0</td>\n",
              "      <td>0</td>\n",
              "      <td>0</td>\n",
              "      <td>0</td>\n",
              "      <td>0</td>\n",
              "      <td>0</td>\n",
              "      <td>0</td>\n",
              "      <td>0</td>\n",
              "      <td>0</td>\n",
              "      <td>0</td>\n",
              "      <td>0</td>\n",
              "      <td>1</td>\n",
              "      <td>0</td>\n",
              "      <td>0</td>\n",
              "      <td>0</td>\n",
              "      <td>0</td>\n",
              "      <td>0</td>\n",
              "      <td>0</td>\n",
              "    </tr>\n",
              "  </tbody>\n",
              "</table>\n",
              "<p>5 rows × 84 columns</p>\n",
              "</div>"
            ],
            "text/plain": [
              "    Upper_Age  Lower_Age  ...  Reco_cat_21  Reco_cat_22\n",
              "ID                        ...                          \n",
              "1          36         36  ...            0            1\n",
              "2          75         22  ...            0            1\n",
              "3          32         32  ...            0            0\n",
              "4          52         48  ...            0            0\n",
              "5          44         44  ...            0            0\n",
              "\n",
              "[5 rows x 84 columns]"
            ]
          },
          "metadata": {
            "tags": []
          },
          "execution_count": 36
        }
      ]
    },
    {
      "cell_type": "markdown",
      "metadata": {
        "id": "aYZA3TCCjvSb"
      },
      "source": [
        "### Pre-Processing Categorical Columns"
      ]
    },
    {
      "cell_type": "code",
      "metadata": {
        "id": "rfXTP_GHjGUD"
      },
      "source": [
        "Needs_processing = [\"City_Code\", \"Health Indicator\"]"
      ],
      "execution_count": 37,
      "outputs": []
    },
    {
      "cell_type": "markdown",
      "metadata": {
        "id": "RpJcT1ymqEXx"
      },
      "source": [
        "Holding it, as unable to clearly identify a method"
      ]
    },
    {
      "cell_type": "markdown",
      "metadata": {
        "id": "zKjYm4aXuDa2"
      },
      "source": [
        "Response variable Imbalance is handled by Class_weights"
      ]
    },
    {
      "cell_type": "markdown",
      "metadata": {
        "id": "tdIntRAEqgck"
      },
      "source": [
        "### Function for Pre-Processing"
      ]
    },
    {
      "cell_type": "code",
      "metadata": {
        "id": "45bu1F-nkfF3"
      },
      "source": [
        "def pre_process_data(df, group_UA_LA = False, drop_UA_LA = False, fourteenPlusConversion = '20'):\r\n",
        "    \"\"\"\r\n",
        "    Take the dataframe as input and return the preprocessed dataframe.\r\n",
        "    \"\"\"\r\n",
        "    df_proc = df.copy()\r\n",
        "\r\n",
        "    # Impute Missing Values\r\n",
        "    df_proc['Holding_Policy_Duration'].fillna(value=0.0, inplace=True)\r\n",
        "    df_proc['Holding_Policy_Type'].fillna(value=0.0, inplace=True)\r\n",
        "    df_proc['Health Indicator'].fillna(value='Not-Provided', inplace=True)\r\n",
        "\r\n",
        "    # Changes in Numerical Columns\r\n",
        "    df_proc.replace({'Holding_Policy_Duration': {'14+': fourteenPlusConversion}}, inplace=True)\r\n",
        "    df_proc['Holding_Policy_Duration'] = df_proc['Holding_Policy_Duration'].astype('float')\r\n",
        "\r\n",
        "    # Miscellaneous\r\n",
        "    df_proc.set_index('ID', inplace=True)\r\n",
        "    df_proc.drop(labels=['Region_Code'], axis=1, inplace=True)\r\n",
        "\r\n",
        "    # UA, LA\r\n",
        "    if group_UA_LA:\r\n",
        "      df_proc[\"UA_LA\"] = (df_proc[\"Upper_Age\"] * df_proc['Lower_Age']) / (df_proc[\"Upper_Age\"] + df_proc['Lower_Age'])\r\n",
        "    \r\n",
        "    if drop_UA_LA:\r\n",
        "      df_proc.drop(labels=[\"Upper_Age\", \"Lower_Age\"], axis=1, inplace=True)\r\n",
        "\r\n",
        "    df_proc_onehot = df_proc.copy()\r\n",
        "    df_proc_onehot = pd.get_dummies(df_proc_onehot, prefix=['City','Accom', 'InsTyp', 'Spouse', 'HI', 'Hol_PT', 'Reco_cat'],\r\n",
        "                                    columns=['City_Code','Accomodation_Type', 'Reco_Insurance_Type', 'Is_Spouse',\r\n",
        "                                             'Health Indicator','Holding_Policy_Type', 'Reco_Policy_Cat']\r\n",
        "                                    # ,drop_first=True # excluded as when run on the Val/Test Data then it can delete a different row, which can cause problems\r\n",
        "                                    )\r\n",
        "    return df_proc_onehot"
      ],
      "execution_count": 38,
      "outputs": []
    },
    {
      "cell_type": "code",
      "metadata": {
        "id": "FYGvRUBpqfZJ"
      },
      "source": [
        "train_val_proc_onehot = pre_process_data(train_val, fourteenPlusConversion='25')"
      ],
      "execution_count": 39,
      "outputs": []
    },
    {
      "cell_type": "code",
      "metadata": {
        "colab": {
          "base_uri": "https://localhost:8080/"
        },
        "id": "Ry_LEB_wsWEN",
        "outputId": "eca8b9e1-ddaf-477d-a1e3-f6c1aae05bbe"
      },
      "source": [
        "train_val_proc_onehot.shape"
      ],
      "execution_count": 40,
      "outputs": [
        {
          "output_type": "execute_result",
          "data": {
            "text/plain": [
              "(50882, 84)"
            ]
          },
          "metadata": {
            "tags": []
          },
          "execution_count": 40
        }
      ]
    },
    {
      "cell_type": "markdown",
      "metadata": {
        "id": "AYWukUU3sZnc"
      },
      "source": [
        "### Train-Validation Split"
      ]
    },
    {
      "cell_type": "code",
      "metadata": {
        "id": "jMACDbwhsXOl"
      },
      "source": [
        "X = train_val_proc_onehot.drop('Response', axis=1)\r\n",
        "y = train_val_proc_onehot['Response']"
      ],
      "execution_count": 41,
      "outputs": []
    },
    {
      "cell_type": "code",
      "metadata": {
        "id": "KFaaJ-knseWl"
      },
      "source": [
        "X_train, X_val, y_train, y_val = train_test_split(X, y, test_size=0.3, random_state=12)"
      ],
      "execution_count": 42,
      "outputs": []
    },
    {
      "cell_type": "markdown",
      "metadata": {
        "id": "K_nkZT50shMG"
      },
      "source": [
        "## Modelling"
      ]
    },
    {
      "cell_type": "markdown",
      "metadata": {
        "id": "wGA0r-LptuOv"
      },
      "source": [
        "### Without Interactions"
      ]
    },
    {
      "cell_type": "markdown",
      "metadata": {
        "id": "ALEBqNT5t0KL"
      },
      "source": [
        "#### Stats Model"
      ]
    },
    {
      "cell_type": "code",
      "metadata": {
        "colab": {
          "base_uri": "https://localhost:8080/",
          "height": 1000
        },
        "id": "AXOQ-5_Gsfqy",
        "outputId": "78063259-fa03-45cb-a119-35535ea63e4d"
      },
      "source": [
        "stats_logit = sm.Logit(y_train, X_train).fit()\r\n",
        "stats_logit.summary()"
      ],
      "execution_count": 43,
      "outputs": [
        {
          "output_type": "stream",
          "text": [
            "Optimization terminated successfully.\n",
            "         Current function value: 0.526074\n",
            "         Iterations 10\n"
          ],
          "name": "stdout"
        },
        {
          "output_type": "stream",
          "text": [
            "/usr/local/lib/python3.7/dist-packages/statsmodels/base/model.py:1286: RuntimeWarning: invalid value encountered in sqrt\n",
            "  bse_ = np.sqrt(np.diag(self.cov_params()))\n"
          ],
          "name": "stderr"
        },
        {
          "output_type": "execute_result",
          "data": {
            "text/html": [
              "<table class=\"simpletable\">\n",
              "<caption>Logit Regression Results</caption>\n",
              "<tr>\n",
              "  <th>Dep. Variable:</th>       <td>Response</td>     <th>  No. Observations:  </th>  <td> 35617</td> \n",
              "</tr>\n",
              "<tr>\n",
              "  <th>Model:</th>                 <td>Logit</td>      <th>  Df Residuals:      </th>  <td> 35540</td> \n",
              "</tr>\n",
              "<tr>\n",
              "  <th>Method:</th>                 <td>MLE</td>       <th>  Df Model:          </th>  <td>    76</td> \n",
              "</tr>\n",
              "<tr>\n",
              "  <th>Date:</th>            <td>Sun, 28 Feb 2021</td> <th>  Pseudo R-squ.:     </th>  <td>0.04560</td>\n",
              "</tr>\n",
              "<tr>\n",
              "  <th>Time:</th>                <td>14:59:07</td>     <th>  Log-Likelihood:    </th> <td> -18737.</td>\n",
              "</tr>\n",
              "<tr>\n",
              "  <th>converged:</th>             <td>True</td>       <th>  LL-Null:           </th> <td> -19632.</td>\n",
              "</tr>\n",
              "<tr>\n",
              "  <th>Covariance Type:</th>     <td>nonrobust</td>    <th>  LLR p-value:       </th>  <td> 0.000</td> \n",
              "</tr>\n",
              "</table>\n",
              "<table class=\"simpletable\">\n",
              "<tr>\n",
              "             <td></td>                <th>coef</th>     <th>std err</th>      <th>z</th>      <th>P>|z|</th>  <th>[0.025</th>    <th>0.975]</th>  \n",
              "</tr>\n",
              "<tr>\n",
              "  <th>Upper_Age</th>               <td>    0.0026</td> <td>    0.003</td> <td>    0.846</td> <td> 0.398</td> <td>   -0.003</td> <td>    0.009</td>\n",
              "</tr>\n",
              "<tr>\n",
              "  <th>Lower_Age</th>               <td>   -0.0005</td> <td>    0.003</td> <td>   -0.203</td> <td> 0.840</td> <td>   -0.006</td> <td>    0.005</td>\n",
              "</tr>\n",
              "<tr>\n",
              "  <th>Holding_Policy_Duration</th> <td>    0.0067</td> <td>    0.002</td> <td>    3.091</td> <td> 0.002</td> <td>    0.002</td> <td>    0.011</td>\n",
              "</tr>\n",
              "<tr>\n",
              "  <th>Reco_Policy_Premium</th>     <td>-4.915e-06</td> <td> 4.55e-06</td> <td>   -1.080</td> <td> 0.280</td> <td>-1.38e-05</td> <td> 4.01e-06</td>\n",
              "</tr>\n",
              "<tr>\n",
              "  <th>City_C1</th>                 <td>    0.4562</td> <td>      nan</td> <td>      nan</td> <td>   nan</td> <td>      nan</td> <td>      nan</td>\n",
              "</tr>\n",
              "<tr>\n",
              "  <th>City_C10</th>                <td>    0.4939</td> <td>      nan</td> <td>      nan</td> <td>   nan</td> <td>      nan</td> <td>      nan</td>\n",
              "</tr>\n",
              "<tr>\n",
              "  <th>City_C11</th>                <td>    0.4214</td> <td>      nan</td> <td>      nan</td> <td>   nan</td> <td>      nan</td> <td>      nan</td>\n",
              "</tr>\n",
              "<tr>\n",
              "  <th>City_C12</th>                <td>    0.5172</td> <td>      nan</td> <td>      nan</td> <td>   nan</td> <td>      nan</td> <td>      nan</td>\n",
              "</tr>\n",
              "<tr>\n",
              "  <th>City_C13</th>                <td>    0.8734</td> <td>      nan</td> <td>      nan</td> <td>   nan</td> <td>      nan</td> <td>      nan</td>\n",
              "</tr>\n",
              "<tr>\n",
              "  <th>City_C14</th>                <td>    0.4987</td> <td>      nan</td> <td>      nan</td> <td>   nan</td> <td>      nan</td> <td>      nan</td>\n",
              "</tr>\n",
              "<tr>\n",
              "  <th>City_C15</th>                <td>    0.3651</td> <td>      nan</td> <td>      nan</td> <td>   nan</td> <td>      nan</td> <td>      nan</td>\n",
              "</tr>\n",
              "<tr>\n",
              "  <th>City_C16</th>                <td>    0.5164</td> <td>      nan</td> <td>      nan</td> <td>   nan</td> <td>      nan</td> <td>      nan</td>\n",
              "</tr>\n",
              "<tr>\n",
              "  <th>City_C17</th>                <td>    0.6510</td> <td>      nan</td> <td>      nan</td> <td>   nan</td> <td>      nan</td> <td>      nan</td>\n",
              "</tr>\n",
              "<tr>\n",
              "  <th>City_C18</th>                <td>    0.5190</td> <td>      nan</td> <td>      nan</td> <td>   nan</td> <td>      nan</td> <td>      nan</td>\n",
              "</tr>\n",
              "<tr>\n",
              "  <th>City_C19</th>                <td>    1.0342</td> <td>      nan</td> <td>      nan</td> <td>   nan</td> <td>      nan</td> <td>      nan</td>\n",
              "</tr>\n",
              "<tr>\n",
              "  <th>City_C2</th>                 <td>    0.5321</td> <td>      nan</td> <td>      nan</td> <td>   nan</td> <td>      nan</td> <td>      nan</td>\n",
              "</tr>\n",
              "<tr>\n",
              "  <th>City_C20</th>                <td>    0.5378</td> <td>      nan</td> <td>      nan</td> <td>   nan</td> <td>      nan</td> <td>      nan</td>\n",
              "</tr>\n",
              "<tr>\n",
              "  <th>City_C21</th>                <td>    0.4189</td> <td>      nan</td> <td>      nan</td> <td>   nan</td> <td>      nan</td> <td>      nan</td>\n",
              "</tr>\n",
              "<tr>\n",
              "  <th>City_C22</th>                <td>    0.4522</td> <td>      nan</td> <td>      nan</td> <td>   nan</td> <td>      nan</td> <td>      nan</td>\n",
              "</tr>\n",
              "<tr>\n",
              "  <th>City_C23</th>                <td>    0.6718</td> <td>      nan</td> <td>      nan</td> <td>   nan</td> <td>      nan</td> <td>      nan</td>\n",
              "</tr>\n",
              "<tr>\n",
              "  <th>City_C24</th>                <td>    0.6546</td> <td>      nan</td> <td>      nan</td> <td>   nan</td> <td>      nan</td> <td>      nan</td>\n",
              "</tr>\n",
              "<tr>\n",
              "  <th>City_C25</th>                <td>    0.7329</td> <td>      nan</td> <td>      nan</td> <td>   nan</td> <td>      nan</td> <td>      nan</td>\n",
              "</tr>\n",
              "<tr>\n",
              "  <th>City_C26</th>                <td>    0.4331</td> <td>      nan</td> <td>      nan</td> <td>   nan</td> <td>      nan</td> <td>      nan</td>\n",
              "</tr>\n",
              "<tr>\n",
              "  <th>City_C27</th>                <td>    0.9471</td> <td>      nan</td> <td>      nan</td> <td>   nan</td> <td>      nan</td> <td>      nan</td>\n",
              "</tr>\n",
              "<tr>\n",
              "  <th>City_C28</th>                <td>    0.9375</td> <td>      nan</td> <td>      nan</td> <td>   nan</td> <td>      nan</td> <td>      nan</td>\n",
              "</tr>\n",
              "<tr>\n",
              "  <th>City_C29</th>                <td>    0.6183</td> <td>      nan</td> <td>      nan</td> <td>   nan</td> <td>      nan</td> <td>      nan</td>\n",
              "</tr>\n",
              "<tr>\n",
              "  <th>City_C3</th>                 <td>    0.5023</td> <td>      nan</td> <td>      nan</td> <td>   nan</td> <td>      nan</td> <td>      nan</td>\n",
              "</tr>\n",
              "<tr>\n",
              "  <th>City_C30</th>                <td>    1.0768</td> <td>      nan</td> <td>      nan</td> <td>   nan</td> <td>      nan</td> <td>      nan</td>\n",
              "</tr>\n",
              "<tr>\n",
              "  <th>City_C31</th>                <td>   -0.3021</td> <td>      nan</td> <td>      nan</td> <td>   nan</td> <td>      nan</td> <td>      nan</td>\n",
              "</tr>\n",
              "<tr>\n",
              "  <th>City_C32</th>                <td>    1.1182</td> <td>      nan</td> <td>      nan</td> <td>   nan</td> <td>      nan</td> <td>      nan</td>\n",
              "</tr>\n",
              "<tr>\n",
              "  <th>City_C33</th>                <td>    0.6888</td> <td>      nan</td> <td>      nan</td> <td>   nan</td> <td>      nan</td> <td>      nan</td>\n",
              "</tr>\n",
              "<tr>\n",
              "  <th>City_C34</th>                <td>    0.8867</td> <td>      nan</td> <td>      nan</td> <td>   nan</td> <td>      nan</td> <td>      nan</td>\n",
              "</tr>\n",
              "<tr>\n",
              "  <th>City_C35</th>                <td>    0.8338</td> <td>      nan</td> <td>      nan</td> <td>   nan</td> <td>      nan</td> <td>      nan</td>\n",
              "</tr>\n",
              "<tr>\n",
              "  <th>City_C36</th>                <td>   -0.2787</td> <td>      nan</td> <td>      nan</td> <td>   nan</td> <td>      nan</td> <td>      nan</td>\n",
              "</tr>\n",
              "<tr>\n",
              "  <th>City_C4</th>                 <td>    0.5692</td> <td>      nan</td> <td>      nan</td> <td>   nan</td> <td>      nan</td> <td>      nan</td>\n",
              "</tr>\n",
              "<tr>\n",
              "  <th>City_C5</th>                 <td>    0.6607</td> <td>      nan</td> <td>      nan</td> <td>   nan</td> <td>      nan</td> <td>      nan</td>\n",
              "</tr>\n",
              "<tr>\n",
              "  <th>City_C6</th>                 <td>    0.5328</td> <td>      nan</td> <td>      nan</td> <td>   nan</td> <td>      nan</td> <td>      nan</td>\n",
              "</tr>\n",
              "<tr>\n",
              "  <th>City_C7</th>                 <td>    0.4493</td> <td>      nan</td> <td>      nan</td> <td>   nan</td> <td>      nan</td> <td>      nan</td>\n",
              "</tr>\n",
              "<tr>\n",
              "  <th>City_C8</th>                 <td>    0.7193</td> <td>      nan</td> <td>      nan</td> <td>   nan</td> <td>      nan</td> <td>      nan</td>\n",
              "</tr>\n",
              "<tr>\n",
              "  <th>City_C9</th>                 <td>    0.6732</td> <td>      nan</td> <td>      nan</td> <td>   nan</td> <td>      nan</td> <td>      nan</td>\n",
              "</tr>\n",
              "<tr>\n",
              "  <th>Accom_Owned</th>             <td>   -1.2957</td> <td>      nan</td> <td>      nan</td> <td>   nan</td> <td>      nan</td> <td>      nan</td>\n",
              "</tr>\n",
              "<tr>\n",
              "  <th>Accom_Rented</th>            <td>   -1.2848</td> <td>      nan</td> <td>      nan</td> <td>   nan</td> <td>      nan</td> <td>      nan</td>\n",
              "</tr>\n",
              "<tr>\n",
              "  <th>InsTyp_Individual</th>       <td>   -0.2110</td> <td>      nan</td> <td>      nan</td> <td>   nan</td> <td>      nan</td> <td>      nan</td>\n",
              "</tr>\n",
              "<tr>\n",
              "  <th>InsTyp_Joint</th>            <td>   -0.0464</td> <td>      nan</td> <td>      nan</td> <td>   nan</td> <td>      nan</td> <td>      nan</td>\n",
              "</tr>\n",
              "<tr>\n",
              "  <th>Spouse_No</th>               <td>   -0.3395</td> <td> 2.89e+05</td> <td>-1.17e-06</td> <td> 1.000</td> <td>-5.67e+05</td> <td> 5.67e+05</td>\n",
              "</tr>\n",
              "<tr>\n",
              "  <th>Spouse_Yes</th>              <td>   -0.4624</td> <td> 2.92e+05</td> <td>-1.59e-06</td> <td> 1.000</td> <td>-5.71e+05</td> <td> 5.71e+05</td>\n",
              "</tr>\n",
              "<tr>\n",
              "  <th>HI_Not-Provided</th>         <td>   -0.1271</td> <td>      nan</td> <td>      nan</td> <td>   nan</td> <td>      nan</td> <td>      nan</td>\n",
              "</tr>\n",
              "<tr>\n",
              "  <th>HI_X1</th>                   <td>   -0.0584</td> <td>      nan</td> <td>      nan</td> <td>   nan</td> <td>      nan</td> <td>      nan</td>\n",
              "</tr>\n",
              "<tr>\n",
              "  <th>HI_X2</th>                   <td>   -0.0536</td> <td>      nan</td> <td>      nan</td> <td>   nan</td> <td>      nan</td> <td>      nan</td>\n",
              "</tr>\n",
              "<tr>\n",
              "  <th>HI_X3</th>                   <td>   -0.0960</td> <td>      nan</td> <td>      nan</td> <td>   nan</td> <td>      nan</td> <td>      nan</td>\n",
              "</tr>\n",
              "<tr>\n",
              "  <th>HI_X4</th>                   <td>   -0.0124</td> <td>      nan</td> <td>      nan</td> <td>   nan</td> <td>      nan</td> <td>      nan</td>\n",
              "</tr>\n",
              "<tr>\n",
              "  <th>HI_X5</th>                   <td>   -0.1112</td> <td>      nan</td> <td>      nan</td> <td>   nan</td> <td>      nan</td> <td>      nan</td>\n",
              "</tr>\n",
              "<tr>\n",
              "  <th>HI_X6</th>                   <td>   -0.0778</td> <td>      nan</td> <td>      nan</td> <td>   nan</td> <td>      nan</td> <td>      nan</td>\n",
              "</tr>\n",
              "<tr>\n",
              "  <th>HI_X7</th>                   <td>    0.1584</td> <td>      nan</td> <td>      nan</td> <td>   nan</td> <td>      nan</td> <td>      nan</td>\n",
              "</tr>\n",
              "<tr>\n",
              "  <th>HI_X8</th>                   <td>   -0.0646</td> <td>      nan</td> <td>      nan</td> <td>   nan</td> <td>      nan</td> <td>      nan</td>\n",
              "</tr>\n",
              "<tr>\n",
              "  <th>HI_X9</th>                   <td>   -0.3591</td> <td>      nan</td> <td>      nan</td> <td>   nan</td> <td>      nan</td> <td>      nan</td>\n",
              "</tr>\n",
              "<tr>\n",
              "  <th>Hol_PT_0.0</th>              <td>   -0.0985</td> <td>      nan</td> <td>      nan</td> <td>   nan</td> <td>      nan</td> <td>      nan</td>\n",
              "</tr>\n",
              "<tr>\n",
              "  <th>Hol_PT_1.0</th>              <td>   -0.1735</td> <td>      nan</td> <td>      nan</td> <td>   nan</td> <td>      nan</td> <td>      nan</td>\n",
              "</tr>\n",
              "<tr>\n",
              "  <th>Hol_PT_2.0</th>              <td>   -0.2253</td> <td>      nan</td> <td>      nan</td> <td>   nan</td> <td>      nan</td> <td>      nan</td>\n",
              "</tr>\n",
              "<tr>\n",
              "  <th>Hol_PT_3.0</th>              <td>   -0.0759</td> <td>      nan</td> <td>      nan</td> <td>   nan</td> <td>      nan</td> <td>      nan</td>\n",
              "</tr>\n",
              "<tr>\n",
              "  <th>Hol_PT_4.0</th>              <td>   -0.2287</td> <td>      nan</td> <td>      nan</td> <td>   nan</td> <td>      nan</td> <td>      nan</td>\n",
              "</tr>\n",
              "<tr>\n",
              "  <th>Reco_cat_1</th>              <td>   -3.9782</td> <td>      nan</td> <td>      nan</td> <td>   nan</td> <td>      nan</td> <td>      nan</td>\n",
              "</tr>\n",
              "<tr>\n",
              "  <th>Reco_cat_2</th>              <td>   -0.4922</td> <td>      nan</td> <td>      nan</td> <td>   nan</td> <td>      nan</td> <td>      nan</td>\n",
              "</tr>\n",
              "<tr>\n",
              "  <th>Reco_cat_3</th>              <td>   -0.0030</td> <td>      nan</td> <td>      nan</td> <td>   nan</td> <td>      nan</td> <td>      nan</td>\n",
              "</tr>\n",
              "<tr>\n",
              "  <th>Reco_cat_4</th>              <td>   -1.2322</td> <td>      nan</td> <td>      nan</td> <td>   nan</td> <td>      nan</td> <td>      nan</td>\n",
              "</tr>\n",
              "<tr>\n",
              "  <th>Reco_cat_5</th>              <td>    0.5169</td> <td>      nan</td> <td>      nan</td> <td>   nan</td> <td>      nan</td> <td>      nan</td>\n",
              "</tr>\n",
              "<tr>\n",
              "  <th>Reco_cat_6</th>              <td>   -0.2922</td> <td>      nan</td> <td>      nan</td> <td>   nan</td> <td>      nan</td> <td>      nan</td>\n",
              "</tr>\n",
              "<tr>\n",
              "  <th>Reco_cat_7</th>              <td>   -0.0589</td> <td>      nan</td> <td>      nan</td> <td>   nan</td> <td>      nan</td> <td>      nan</td>\n",
              "</tr>\n",
              "<tr>\n",
              "  <th>Reco_cat_8</th>              <td>    0.3512</td> <td>      nan</td> <td>      nan</td> <td>   nan</td> <td>      nan</td> <td>      nan</td>\n",
              "</tr>\n",
              "<tr>\n",
              "  <th>Reco_cat_9</th>              <td>   -0.2611</td> <td>      nan</td> <td>      nan</td> <td>   nan</td> <td>      nan</td> <td>      nan</td>\n",
              "</tr>\n",
              "<tr>\n",
              "  <th>Reco_cat_10</th>             <td>   -0.1415</td> <td>      nan</td> <td>      nan</td> <td>   nan</td> <td>      nan</td> <td>      nan</td>\n",
              "</tr>\n",
              "<tr>\n",
              "  <th>Reco_cat_11</th>             <td>   -0.1758</td> <td>      nan</td> <td>      nan</td> <td>   nan</td> <td>      nan</td> <td>      nan</td>\n",
              "</tr>\n",
              "<tr>\n",
              "  <th>Reco_cat_12</th>             <td>    0.6522</td> <td>      nan</td> <td>      nan</td> <td>   nan</td> <td>      nan</td> <td>      nan</td>\n",
              "</tr>\n",
              "<tr>\n",
              "  <th>Reco_cat_13</th>             <td>    0.1565</td> <td>      nan</td> <td>      nan</td> <td>   nan</td> <td>      nan</td> <td>      nan</td>\n",
              "</tr>\n",
              "<tr>\n",
              "  <th>Reco_cat_14</th>             <td>    0.2971</td> <td>      nan</td> <td>      nan</td> <td>   nan</td> <td>      nan</td> <td>      nan</td>\n",
              "</tr>\n",
              "<tr>\n",
              "  <th>Reco_cat_15</th>             <td>    1.2874</td> <td>      nan</td> <td>      nan</td> <td>   nan</td> <td>      nan</td> <td>      nan</td>\n",
              "</tr>\n",
              "<tr>\n",
              "  <th>Reco_cat_16</th>             <td>    0.1837</td> <td>      nan</td> <td>      nan</td> <td>   nan</td> <td>      nan</td> <td>      nan</td>\n",
              "</tr>\n",
              "<tr>\n",
              "  <th>Reco_cat_17</th>             <td>    0.6446</td> <td>      nan</td> <td>      nan</td> <td>   nan</td> <td>      nan</td> <td>      nan</td>\n",
              "</tr>\n",
              "<tr>\n",
              "  <th>Reco_cat_18</th>             <td>    0.1466</td> <td>      nan</td> <td>      nan</td> <td>   nan</td> <td>      nan</td> <td>      nan</td>\n",
              "</tr>\n",
              "<tr>\n",
              "  <th>Reco_cat_19</th>             <td>    0.5076</td> <td>      nan</td> <td>      nan</td> <td>   nan</td> <td>      nan</td> <td>      nan</td>\n",
              "</tr>\n",
              "<tr>\n",
              "  <th>Reco_cat_20</th>             <td>    0.3794</td> <td>      nan</td> <td>      nan</td> <td>   nan</td> <td>      nan</td> <td>      nan</td>\n",
              "</tr>\n",
              "<tr>\n",
              "  <th>Reco_cat_21</th>             <td>   -0.0139</td> <td>      nan</td> <td>      nan</td> <td>   nan</td> <td>      nan</td> <td>      nan</td>\n",
              "</tr>\n",
              "<tr>\n",
              "  <th>Reco_cat_22</th>             <td>    0.7239</td> <td>      nan</td> <td>      nan</td> <td>   nan</td> <td>      nan</td> <td>      nan</td>\n",
              "</tr>\n",
              "</table>"
            ],
            "text/plain": [
              "<class 'statsmodels.iolib.summary.Summary'>\n",
              "\"\"\"\n",
              "                           Logit Regression Results                           \n",
              "==============================================================================\n",
              "Dep. Variable:               Response   No. Observations:                35617\n",
              "Model:                          Logit   Df Residuals:                    35540\n",
              "Method:                           MLE   Df Model:                           76\n",
              "Date:                Sun, 28 Feb 2021   Pseudo R-squ.:                 0.04560\n",
              "Time:                        14:59:07   Log-Likelihood:                -18737.\n",
              "converged:                       True   LL-Null:                       -19632.\n",
              "Covariance Type:            nonrobust   LLR p-value:                     0.000\n",
              "===========================================================================================\n",
              "                              coef    std err          z      P>|z|      [0.025      0.975]\n",
              "-------------------------------------------------------------------------------------------\n",
              "Upper_Age                   0.0026      0.003      0.846      0.398      -0.003       0.009\n",
              "Lower_Age                  -0.0005      0.003     -0.203      0.840      -0.006       0.005\n",
              "Holding_Policy_Duration     0.0067      0.002      3.091      0.002       0.002       0.011\n",
              "Reco_Policy_Premium     -4.915e-06   4.55e-06     -1.080      0.280   -1.38e-05    4.01e-06\n",
              "City_C1                     0.4562        nan        nan        nan         nan         nan\n",
              "City_C10                    0.4939        nan        nan        nan         nan         nan\n",
              "City_C11                    0.4214        nan        nan        nan         nan         nan\n",
              "City_C12                    0.5172        nan        nan        nan         nan         nan\n",
              "City_C13                    0.8734        nan        nan        nan         nan         nan\n",
              "City_C14                    0.4987        nan        nan        nan         nan         nan\n",
              "City_C15                    0.3651        nan        nan        nan         nan         nan\n",
              "City_C16                    0.5164        nan        nan        nan         nan         nan\n",
              "City_C17                    0.6510        nan        nan        nan         nan         nan\n",
              "City_C18                    0.5190        nan        nan        nan         nan         nan\n",
              "City_C19                    1.0342        nan        nan        nan         nan         nan\n",
              "City_C2                     0.5321        nan        nan        nan         nan         nan\n",
              "City_C20                    0.5378        nan        nan        nan         nan         nan\n",
              "City_C21                    0.4189        nan        nan        nan         nan         nan\n",
              "City_C22                    0.4522        nan        nan        nan         nan         nan\n",
              "City_C23                    0.6718        nan        nan        nan         nan         nan\n",
              "City_C24                    0.6546        nan        nan        nan         nan         nan\n",
              "City_C25                    0.7329        nan        nan        nan         nan         nan\n",
              "City_C26                    0.4331        nan        nan        nan         nan         nan\n",
              "City_C27                    0.9471        nan        nan        nan         nan         nan\n",
              "City_C28                    0.9375        nan        nan        nan         nan         nan\n",
              "City_C29                    0.6183        nan        nan        nan         nan         nan\n",
              "City_C3                     0.5023        nan        nan        nan         nan         nan\n",
              "City_C30                    1.0768        nan        nan        nan         nan         nan\n",
              "City_C31                   -0.3021        nan        nan        nan         nan         nan\n",
              "City_C32                    1.1182        nan        nan        nan         nan         nan\n",
              "City_C33                    0.6888        nan        nan        nan         nan         nan\n",
              "City_C34                    0.8867        nan        nan        nan         nan         nan\n",
              "City_C35                    0.8338        nan        nan        nan         nan         nan\n",
              "City_C36                   -0.2787        nan        nan        nan         nan         nan\n",
              "City_C4                     0.5692        nan        nan        nan         nan         nan\n",
              "City_C5                     0.6607        nan        nan        nan         nan         nan\n",
              "City_C6                     0.5328        nan        nan        nan         nan         nan\n",
              "City_C7                     0.4493        nan        nan        nan         nan         nan\n",
              "City_C8                     0.7193        nan        nan        nan         nan         nan\n",
              "City_C9                     0.6732        nan        nan        nan         nan         nan\n",
              "Accom_Owned                -1.2957        nan        nan        nan         nan         nan\n",
              "Accom_Rented               -1.2848        nan        nan        nan         nan         nan\n",
              "InsTyp_Individual          -0.2110        nan        nan        nan         nan         nan\n",
              "InsTyp_Joint               -0.0464        nan        nan        nan         nan         nan\n",
              "Spouse_No                  -0.3395   2.89e+05  -1.17e-06      1.000   -5.67e+05    5.67e+05\n",
              "Spouse_Yes                 -0.4624   2.92e+05  -1.59e-06      1.000   -5.71e+05    5.71e+05\n",
              "HI_Not-Provided            -0.1271        nan        nan        nan         nan         nan\n",
              "HI_X1                      -0.0584        nan        nan        nan         nan         nan\n",
              "HI_X2                      -0.0536        nan        nan        nan         nan         nan\n",
              "HI_X3                      -0.0960        nan        nan        nan         nan         nan\n",
              "HI_X4                      -0.0124        nan        nan        nan         nan         nan\n",
              "HI_X5                      -0.1112        nan        nan        nan         nan         nan\n",
              "HI_X6                      -0.0778        nan        nan        nan         nan         nan\n",
              "HI_X7                       0.1584        nan        nan        nan         nan         nan\n",
              "HI_X8                      -0.0646        nan        nan        nan         nan         nan\n",
              "HI_X9                      -0.3591        nan        nan        nan         nan         nan\n",
              "Hol_PT_0.0                 -0.0985        nan        nan        nan         nan         nan\n",
              "Hol_PT_1.0                 -0.1735        nan        nan        nan         nan         nan\n",
              "Hol_PT_2.0                 -0.2253        nan        nan        nan         nan         nan\n",
              "Hol_PT_3.0                 -0.0759        nan        nan        nan         nan         nan\n",
              "Hol_PT_4.0                 -0.2287        nan        nan        nan         nan         nan\n",
              "Reco_cat_1                 -3.9782        nan        nan        nan         nan         nan\n",
              "Reco_cat_2                 -0.4922        nan        nan        nan         nan         nan\n",
              "Reco_cat_3                 -0.0030        nan        nan        nan         nan         nan\n",
              "Reco_cat_4                 -1.2322        nan        nan        nan         nan         nan\n",
              "Reco_cat_5                  0.5169        nan        nan        nan         nan         nan\n",
              "Reco_cat_6                 -0.2922        nan        nan        nan         nan         nan\n",
              "Reco_cat_7                 -0.0589        nan        nan        nan         nan         nan\n",
              "Reco_cat_8                  0.3512        nan        nan        nan         nan         nan\n",
              "Reco_cat_9                 -0.2611        nan        nan        nan         nan         nan\n",
              "Reco_cat_10                -0.1415        nan        nan        nan         nan         nan\n",
              "Reco_cat_11                -0.1758        nan        nan        nan         nan         nan\n",
              "Reco_cat_12                 0.6522        nan        nan        nan         nan         nan\n",
              "Reco_cat_13                 0.1565        nan        nan        nan         nan         nan\n",
              "Reco_cat_14                 0.2971        nan        nan        nan         nan         nan\n",
              "Reco_cat_15                 1.2874        nan        nan        nan         nan         nan\n",
              "Reco_cat_16                 0.1837        nan        nan        nan         nan         nan\n",
              "Reco_cat_17                 0.6446        nan        nan        nan         nan         nan\n",
              "Reco_cat_18                 0.1466        nan        nan        nan         nan         nan\n",
              "Reco_cat_19                 0.5076        nan        nan        nan         nan         nan\n",
              "Reco_cat_20                 0.3794        nan        nan        nan         nan         nan\n",
              "Reco_cat_21                -0.0139        nan        nan        nan         nan         nan\n",
              "Reco_cat_22                 0.7239        nan        nan        nan         nan         nan\n",
              "===========================================================================================\n",
              "\"\"\""
            ]
          },
          "metadata": {
            "tags": []
          },
          "execution_count": 43
        }
      ]
    },
    {
      "cell_type": "code",
      "metadata": {
        "colab": {
          "base_uri": "https://localhost:8080/"
        },
        "id": "9RbGPE8HtKk7",
        "outputId": "d7f30a1d-f96a-4bae-b874-49e071c53745"
      },
      "source": [
        "y_preds_sm = stats_logit.predict(X_val)\r\n",
        "roc_auc_score(y_val, y_preds_sm)"
      ],
      "execution_count": 44,
      "outputs": [
        {
          "output_type": "execute_result",
          "data": {
            "text/plain": [
              "0.6215010976560534"
            ]
          },
          "metadata": {
            "tags": []
          },
          "execution_count": 44
        }
      ]
    },
    {
      "cell_type": "markdown",
      "metadata": {
        "id": "ldnfV1G1t9Hg"
      },
      "source": [
        "#### Logistic Regression"
      ]
    },
    {
      "cell_type": "code",
      "metadata": {
        "colab": {
          "base_uri": "https://localhost:8080/"
        },
        "id": "YyGzNpkKtpSI",
        "outputId": "13ec843e-e56c-4618-e265-863d5c396b86"
      },
      "source": [
        "class_weights = dict(1 - (y_train.value_counts())/len(y_train))\r\n",
        "class_weights"
      ],
      "execution_count": 45,
      "outputs": [
        {
          "output_type": "execute_result",
          "data": {
            "text/plain": [
              "{0: 0.24011005980290312, 1: 0.7598899401970969}"
            ]
          },
          "metadata": {
            "tags": []
          },
          "execution_count": 45
        }
      ]
    },
    {
      "cell_type": "code",
      "metadata": {
        "colab": {
          "base_uri": "https://localhost:8080/"
        },
        "id": "HghXa6ApuJPd",
        "outputId": "78c323c0-836c-4cb3-c9ea-793e56647ee2"
      },
      "source": [
        "log_reg = LogisticRegression(max_iter = 200, class_weight=class_weights)\r\n",
        "log_reg.fit(X_train,y_train)"
      ],
      "execution_count": 46,
      "outputs": [
        {
          "output_type": "execute_result",
          "data": {
            "text/plain": [
              "LogisticRegression(C=1.0,\n",
              "                   class_weight={0: 0.24011005980290312, 1: 0.7598899401970969},\n",
              "                   dual=False, fit_intercept=True, intercept_scaling=1,\n",
              "                   l1_ratio=None, max_iter=200, multi_class='auto', n_jobs=None,\n",
              "                   penalty='l2', random_state=None, solver='lbfgs', tol=0.0001,\n",
              "                   verbose=0, warm_start=False)"
            ]
          },
          "metadata": {
            "tags": []
          },
          "execution_count": 46
        }
      ]
    },
    {
      "cell_type": "markdown",
      "metadata": {
        "id": "IbV_vQbduQHI"
      },
      "source": [
        "Lets plot the ROC Curve to decide on the best threshould..."
      ]
    },
    {
      "cell_type": "code",
      "metadata": {
        "colab": {
          "base_uri": "https://localhost:8080/",
          "height": 297
        },
        "id": "ZjQq5eY0uMdO",
        "outputId": "c9fa6d7e-3894-4cb1-fe0b-8bf6f1288419"
      },
      "source": [
        "plot_roc_curve(log_reg,X_val, y_val)"
      ],
      "execution_count": 47,
      "outputs": [
        {
          "output_type": "execute_result",
          "data": {
            "text/plain": [
              "<sklearn.metrics._plot.roc_curve.RocCurveDisplay at 0x7fa8c2506a10>"
            ]
          },
          "metadata": {
            "tags": []
          },
          "execution_count": 47
        },
        {
          "output_type": "display_data",
          "data": {
            "image/png": "[encoded data removed]",
            "text/plain": [
              "<Figure size 432x288 with 1 Axes>"
            ]
          },
          "metadata": {
            "tags": [],
            "needs_background": "light"
          }
        }
      ]
    },
    {
      "cell_type": "code",
      "metadata": {
        "colab": {
          "base_uri": "https://localhost:8080/"
        },
        "id": "MSLy80JNuRwc",
        "outputId": "74f3317f-1f94-4aa0-b06b-8027b728bec4"
      },
      "source": [
        "y_preds_lr = log_reg.predict(X_val)\r\n",
        "roc_auc_score(y_val, y_preds_lr)"
      ],
      "execution_count": 48,
      "outputs": [
        {
          "output_type": "execute_result",
          "data": {
            "text/plain": [
              "0.5104692986101257"
            ]
          },
          "metadata": {
            "tags": []
          },
          "execution_count": 48
        }
      ]
    },
    {
      "cell_type": "code",
      "metadata": {
        "colab": {
          "base_uri": "https://localhost:8080/",
          "height": 297
        },
        "id": "0HHEdcqVuVEJ",
        "outputId": "318f3295-b25e-4fc3-bda8-4a9d82054b8c"
      },
      "source": [
        "plot_confusion_matrix(log_reg, X_val, y_val)"
      ],
      "execution_count": 49,
      "outputs": [
        {
          "output_type": "execute_result",
          "data": {
            "text/plain": [
              "<sklearn.metrics._plot.confusion_matrix.ConfusionMatrixDisplay at 0x7fa8e0dc2dd0>"
            ]
          },
          "metadata": {
            "tags": []
          },
          "execution_count": 49
        },
        {
          "output_type": "display_data",
          "data": {
            "image/png": "[encoded data removed]",
            "text/plain": [
              "<Figure size 432x288 with 2 Axes>"
            ]
          },
          "metadata": {
            "tags": [],
            "needs_background": "light"
          }
        }
      ]
    },
    {
      "cell_type": "markdown",
      "metadata": {
        "id": "tyMm1tU8uhJw"
      },
      "source": [
        "#### Random Forest"
      ]
    },
    {
      "cell_type": "code",
      "metadata": {
        "colab": {
          "base_uri": "https://localhost:8080/"
        },
        "id": "wFglWdQbuXNA",
        "outputId": "001a8bac-ac28-4781-d23b-1a5918536136"
      },
      "source": [
        "rfc = RandomForestClassifier(class_weight=class_weights, n_estimators=300)\r\n",
        "rfc.fit(X_train, y_train)"
      ],
      "execution_count": 50,
      "outputs": [
        {
          "output_type": "execute_result",
          "data": {
            "text/plain": [
              "RandomForestClassifier(bootstrap=True, ccp_alpha=0.0,\n",
              "                       class_weight={0: 0.24011005980290312,\n",
              "                                     1: 0.7598899401970969},\n",
              "                       criterion='gini', max_depth=None, max_features='auto',\n",
              "                       max_leaf_nodes=None, max_samples=None,\n",
              "                       min_impurity_decrease=0.0, min_impurity_split=None,\n",
              "                       min_samples_leaf=1, min_samples_split=2,\n",
              "                       min_weight_fraction_leaf=0.0, n_estimators=300,\n",
              "                       n_jobs=None, oob_score=False, random_state=None,\n",
              "                       verbose=0, warm_start=False)"
            ]
          },
          "metadata": {
            "tags": []
          },
          "execution_count": 50
        }
      ]
    },
    {
      "cell_type": "code",
      "metadata": {
        "colab": {
          "base_uri": "https://localhost:8080/"
        },
        "id": "ilJu0EUbujvV",
        "outputId": "7ef4fe1a-ac8e-4c25-b6e0-c6da56d985a5"
      },
      "source": [
        "y_preds_rfc = rfc.predict(X_val)\r\n",
        "roc_auc_score(y_val, y_preds_rfc)"
      ],
      "execution_count": 51,
      "outputs": [
        {
          "output_type": "execute_result",
          "data": {
            "text/plain": [
              "0.528337410556909"
            ]
          },
          "metadata": {
            "tags": []
          },
          "execution_count": 51
        }
      ]
    },
    {
      "cell_type": "markdown",
      "metadata": {
        "id": "j-exeYoxunNW"
      },
      "source": [
        "Feature Importances..."
      ]
    },
    {
      "cell_type": "code",
      "metadata": {
        "colab": {
          "base_uri": "https://localhost:8080/",
          "height": 881
        },
        "id": "jclj9c0Bunfe",
        "outputId": "b06b7746-4d2c-45f8-da43-8b21b7463005"
      },
      "source": [
        "fig, ax = plt.subplots(figsize=(15, 15))\r\n",
        "sns.barplot(x=rfc.feature_importances_, y=X_train.columns, orient=\"h\")"
      ],
      "execution_count": 52,
      "outputs": [
        {
          "output_type": "execute_result",
          "data": {
            "text/plain": [
              "<matplotlib.axes._subplots.AxesSubplot at 0x7fa8c23861d0>"
            ]
          },
          "metadata": {
            "tags": []
          },
          "execution_count": 52
        },
        {
          "output_type": "display_data",
          "data": {
            "image/png": "[encoded data removed]",
            "text/plain": [
              "<Figure size 1080x1080 with 1 Axes>"
            ]
          },
          "metadata": {
            "tags": [],
            "needs_background": "light"
          }
        }
      ]
    },
    {
      "cell_type": "code",
      "metadata": {
        "colab": {
          "base_uri": "https://localhost:8080/",
          "height": 297
        },
        "id": "Hexu0l5IurKd",
        "outputId": "49ddbd83-632e-4ebc-de25-9d26113621de"
      },
      "source": [
        "plot_confusion_matrix(rfc, X_val, y_val)"
      ],
      "execution_count": 53,
      "outputs": [
        {
          "output_type": "execute_result",
          "data": {
            "text/plain": [
              "<sklearn.metrics._plot.confusion_matrix.ConfusionMatrixDisplay at 0x7fa8c2332590>"
            ]
          },
          "metadata": {
            "tags": []
          },
          "execution_count": 53
        },
        {
          "output_type": "display_data",
          "data": {
            "image/png": "[encoded data removed]",
            "text/plain": [
              "<Figure size 432x288 with 2 Axes>"
            ]
          },
          "metadata": {
            "tags": [],
            "needs_background": "light"
          }
        }
      ]
    },
    {
      "cell_type": "markdown",
      "metadata": {
        "id": "Y5JOTroku6AK"
      },
      "source": [
        "Lets plot the ROC Curve to decide on the best threshould..."
      ]
    },
    {
      "cell_type": "code",
      "metadata": {
        "colab": {
          "base_uri": "https://localhost:8080/",
          "height": 297
        },
        "id": "cr5_JAEUurG1",
        "outputId": "4da5d412-200e-4617-f7a6-3320bdf86bdf"
      },
      "source": [
        "plot_roc_curve(rfc,X_val, y_val)"
      ],
      "execution_count": 54,
      "outputs": [
        {
          "output_type": "execute_result",
          "data": {
            "text/plain": [
              "<sklearn.metrics._plot.roc_curve.RocCurveDisplay at 0x7fa8c1ff2610>"
            ]
          },
          "metadata": {
            "tags": []
          },
          "execution_count": 54
        },
        {
          "output_type": "display_data",
          "data": {
            "image/png": "[encoded data removed]",
            "text/plain": [
              "<Figure size 432x288 with 1 Axes>"
            ]
          },
          "metadata": {
            "tags": [],
            "needs_background": "light"
          }
        }
      ]
    },
    {
      "cell_type": "markdown",
      "metadata": {
        "id": "m7BoL7ravFWA"
      },
      "source": [
        "We want to boost the True Positive Rate, i.e the Recall, i.e the portion of positive samples which are correctly Identified"
      ]
    },
    {
      "cell_type": "markdown",
      "metadata": {
        "id": "4nDlwJBNvI13"
      },
      "source": [
        "##### Function for Getting Best Threshold"
      ]
    },
    {
      "cell_type": "code",
      "metadata": {
        "id": "DuBWe5QPurDu"
      },
      "source": [
        "def get_best_threshold(y_true, y_probs, slice_probs=True):\r\n",
        "    \"\"\"\r\n",
        "    Takes the true labels & the predicted probabilities and\r\n",
        "    returns the best thresold for the given criteria.\r\n",
        "    \"\"\"\r\n",
        "    if slice_probs:\r\n",
        "      # keep probabilities for the positive outcome only\r\n",
        "      y_probs_true = y_probs[:, 1]\r\n",
        "    else:\r\n",
        "      y_probs_true = y_probs[:]\r\n",
        "    # calculate roc curves\r\n",
        "    fpr, tpr, thresholds = roc_curve(y_true, y_probs_true)\r\n",
        "    # calculate the g-mean for each threshold\r\n",
        "    gmeans = np.sqrt(tpr * (1-fpr))\r\n",
        "    # locate the index of the largest g-mean\r\n",
        "    ix = np.argmax(gmeans)\r\n",
        "    best_threshold = thresholds[ix]\r\n",
        "    best_gmeans = gmeans[ix]\r\n",
        "    print('Best Threshold=%f, G-Mean=%.3f' % (thresholds[ix], gmeans[ix]))\r\n",
        "    return best_threshold, best_gmeans"
      ],
      "execution_count": 55,
      "outputs": []
    },
    {
      "cell_type": "code",
      "metadata": {
        "colab": {
          "base_uri": "https://localhost:8080/"
        },
        "id": "MCCKN5EBvRbQ",
        "outputId": "ed974149-45b0-4add-f001-37fdbce8dff3"
      },
      "source": [
        "y_preds_proba_rfc = rfc.predict_proba(X_val)\r\n",
        "best_threshold, _ = get_best_threshold(y_val, y_preds_proba_rfc)"
      ],
      "execution_count": 56,
      "outputs": [
        {
          "output_type": "stream",
          "text": [
            "Best Threshold=0.223333, G-Mean=0.601\n"
          ],
          "name": "stdout"
        }
      ]
    },
    {
      "cell_type": "code",
      "metadata": {
        "colab": {
          "base_uri": "https://localhost:8080/"
        },
        "id": "WY8S1GgqvVQW",
        "outputId": "3b26fc87-9007-4cc3-9535-01b5e71b47f0"
      },
      "source": [
        "y_pred_rfc_thr = (pd.Series(y_preds_proba_rfc[:,1]) >= best_threshold).astype(int)\r\n",
        "roc_auc_score(y_val, y_pred_rfc_thr)"
      ],
      "execution_count": 57,
      "outputs": [
        {
          "output_type": "execute_result",
          "data": {
            "text/plain": [
              "0.6027982361367331"
            ]
          },
          "metadata": {
            "tags": []
          },
          "execution_count": 57
        }
      ]
    },
    {
      "cell_type": "code",
      "metadata": {
        "colab": {
          "base_uri": "https://localhost:8080/"
        },
        "id": "CeHGaTgfvZic",
        "outputId": "d10ed867-03d8-4c2b-8818-89d54dc94a21"
      },
      "source": [
        "confusion_matrix(y_val, y_pred_rfc_thr)"
      ],
      "execution_count": 58,
      "outputs": [
        {
          "output_type": "execute_result",
          "data": {
            "text/plain": [
              "array([[6440, 5168],\n",
              "       [1277, 2380]])"
            ]
          },
          "metadata": {
            "tags": []
          },
          "execution_count": 58
        }
      ]
    },
    {
      "cell_type": "markdown",
      "metadata": {
        "id": "plI0gqULvesD"
      },
      "source": [
        "#### Gradient Boost"
      ]
    },
    {
      "cell_type": "code",
      "metadata": {
        "colab": {
          "base_uri": "https://localhost:8080/"
        },
        "id": "Vbo13dImvbVq",
        "outputId": "b564bb50-4368-4007-b9a0-25c01564a3dd"
      },
      "source": [
        "GB = GradientBoostingClassifier()\r\n",
        "GB.fit(X_train, y_train)"
      ],
      "execution_count": 59,
      "outputs": [
        {
          "output_type": "execute_result",
          "data": {
            "text/plain": [
              "GradientBoostingClassifier(ccp_alpha=0.0, criterion='friedman_mse', init=None,\n",
              "                           learning_rate=0.1, loss='deviance', max_depth=3,\n",
              "                           max_features=None, max_leaf_nodes=None,\n",
              "                           min_impurity_decrease=0.0, min_impurity_split=None,\n",
              "                           min_samples_leaf=1, min_samples_split=2,\n",
              "                           min_weight_fraction_leaf=0.0, n_estimators=100,\n",
              "                           n_iter_no_change=None, presort='deprecated',\n",
              "                           random_state=None, subsample=1.0, tol=0.0001,\n",
              "                           validation_fraction=0.1, verbose=0,\n",
              "                           warm_start=False)"
            ]
          },
          "metadata": {
            "tags": []
          },
          "execution_count": 59
        }
      ]
    },
    {
      "cell_type": "code",
      "metadata": {
        "colab": {
          "base_uri": "https://localhost:8080/"
        },
        "id": "ZaQ1Gl2Ivhds",
        "outputId": "5e8d3df1-7a96-4b34-94d5-d417006ab0a4"
      },
      "source": [
        "y_preds_gb = GB.predict(X_val)\r\n",
        "roc_auc_score(y_val, y_preds_gb)"
      ],
      "execution_count": 60,
      "outputs": [
        {
          "output_type": "execute_result",
          "data": {
            "text/plain": [
              "0.5038302179839953"
            ]
          },
          "metadata": {
            "tags": []
          },
          "execution_count": 60
        }
      ]
    },
    {
      "cell_type": "code",
      "metadata": {
        "colab": {
          "base_uri": "https://localhost:8080/",
          "height": 297
        },
        "id": "6gTx0iCGviVe",
        "outputId": "fcac6e78-4f00-404e-84d0-5098656f00f9"
      },
      "source": [
        "plot_confusion_matrix(GB, X_val, y_val)"
      ],
      "execution_count": 61,
      "outputs": [
        {
          "output_type": "execute_result",
          "data": {
            "text/plain": [
              "<sklearn.metrics._plot.confusion_matrix.ConfusionMatrixDisplay at 0x7fa8c2060fd0>"
            ]
          },
          "metadata": {
            "tags": []
          },
          "execution_count": 61
        },
        {
          "output_type": "display_data",
          "data": {
            "image/png": "[encoded data removed]",
            "text/plain": [
              "<Figure size 432x288 with 2 Axes>"
            ]
          },
          "metadata": {
            "tags": [],
            "needs_background": "light"
          }
        }
      ]
    },
    {
      "cell_type": "markdown",
      "metadata": {
        "id": "7HYp56XPQNv6"
      },
      "source": [
        "#### XGBoost"
      ]
    },
    {
      "cell_type": "code",
      "metadata": {
        "id": "bxnQiC5XQQ1t"
      },
      "source": [
        "from xgboost import XGBClassifier"
      ],
      "execution_count": 62,
      "outputs": []
    },
    {
      "cell_type": "code",
      "metadata": {
        "id": "TzU3tvLXQh8a",
        "colab": {
          "base_uri": "https://localhost:8080/"
        },
        "outputId": "80a6c5c0-568b-4b64-aeb4-c9b184002fbe"
      },
      "source": [
        "xgb = XGBClassifier()\r\n",
        "xgb.fit(X_train, y_train)"
      ],
      "execution_count": 63,
      "outputs": [
        {
          "output_type": "execute_result",
          "data": {
            "text/plain": [
              "XGBClassifier(base_score=0.5, booster='gbtree', colsample_bylevel=1,\n",
              "              colsample_bynode=1, colsample_bytree=1, gamma=0,\n",
              "              learning_rate=0.1, max_delta_step=0, max_depth=3,\n",
              "              min_child_weight=1, missing=None, n_estimators=100, n_jobs=1,\n",
              "              nthread=None, objective='binary:logistic', random_state=0,\n",
              "              reg_alpha=0, reg_lambda=1, scale_pos_weight=1, seed=None,\n",
              "              silent=None, subsample=1, verbosity=1)"
            ]
          },
          "metadata": {
            "tags": []
          },
          "execution_count": 63
        }
      ]
    },
    {
      "cell_type": "code",
      "metadata": {
        "id": "0tm9l584QhxQ",
        "colab": {
          "base_uri": "https://localhost:8080/"
        },
        "outputId": "23a70956-079a-47ab-c731-d0b7066e93ce"
      },
      "source": [
        "y_preds_xgb = xgb.predict(X_val)\r\n",
        "roc_auc_score(y_val, y_preds_xgb)"
      ],
      "execution_count": 64,
      "outputs": [
        {
          "output_type": "execute_result",
          "data": {
            "text/plain": [
              "0.5012024488029057"
            ]
          },
          "metadata": {
            "tags": []
          },
          "execution_count": 64
        }
      ]
    },
    {
      "cell_type": "code",
      "metadata": {
        "id": "bahGpcVJQhuF",
        "colab": {
          "base_uri": "https://localhost:8080/"
        },
        "outputId": "9eab4d09-ecf5-47e6-90a6-cdd702134c16"
      },
      "source": [
        "y_preds_proba_xgb = xgb.predict_proba(X_val)\r\n",
        "best_threshold_xgb, _ = get_best_threshold(y_val, y_preds_proba_xgb)"
      ],
      "execution_count": 65,
      "outputs": [
        {
          "output_type": "stream",
          "text": [
            "Best Threshold=0.235111, G-Mean=0.596\n"
          ],
          "name": "stdout"
        }
      ]
    },
    {
      "cell_type": "code",
      "metadata": {
        "id": "Q_FoM8ncQhq9",
        "colab": {
          "base_uri": "https://localhost:8080/"
        },
        "outputId": "557a9c60-5e8f-4c2d-ea9c-eb45e966fafb"
      },
      "source": [
        "y_pred_xgb_thr = (pd.Series(y_preds_proba_xgb[:,1]) >= best_threshold_xgb).astype(int)\r\n",
        "roc_auc_score(y_val, y_pred_xgb_thr)"
      ],
      "execution_count": 66,
      "outputs": [
        {
          "output_type": "execute_result",
          "data": {
            "text/plain": [
              "0.5978892311545487"
            ]
          },
          "metadata": {
            "tags": []
          },
          "execution_count": 66
        }
      ]
    },
    {
      "cell_type": "markdown",
      "metadata": {
        "id": "4PXZOMraWc7v"
      },
      "source": [
        "#### Neural Net"
      ]
    },
    {
      "cell_type": "code",
      "metadata": {
        "id": "FUOvzVrMWbrO"
      },
      "source": [
        "from keras.models import Sequential\r\n",
        "from keras.layers import Dense\r\n",
        "from keras.activations import relu, softmax\r\n",
        "from keras.optimizers import Adam\r\n",
        "from keras.metrics import AUC\r\n",
        "from keras.losses import CategoricalCrossentropy\r\n",
        "import keras"
      ],
      "execution_count": 298,
      "outputs": []
    },
    {
      "cell_type": "code",
      "metadata": {
        "id": "5WUyMP0BWbn-"
      },
      "source": [
        "NN = Sequential()\r\n",
        "NN.add(Dense(16, input_shape=(len(X_train.columns),), activation='relu'))\r\n",
        "NN.add(Dense(32, activation='relu'))\r\n",
        "NN.add(Dense(2, activation='softmax'))"
      ],
      "execution_count": 297,
      "outputs": []
    },
    {
      "cell_type": "code",
      "metadata": {
        "colab": {
          "base_uri": "https://localhost:8080/"
        },
        "id": "U8THcnl5WblW",
        "outputId": "49eec031-b1a3-46e8-9002-4888f16b64ac"
      },
      "source": [
        "NN.summary()"
      ],
      "execution_count": 288,
      "outputs": [
        {
          "output_type": "stream",
          "text": [
            "Model: \"sequential_6\"\n",
            "_________________________________________________________________\n",
            "Layer (type)                 Output Shape              Param #   \n",
            "=================================================================\n",
            "dense_14 (Dense)             (None, 16)                1344      \n",
            "_________________________________________________________________\n",
            "dense_15 (Dense)             (None, 32)                544       \n",
            "_________________________________________________________________\n",
            "dense_16 (Dense)             (None, 2)                 66        \n",
            "=================================================================\n",
            "Total params: 1,954\n",
            "Trainable params: 1,954\n",
            "Non-trainable params: 0\n",
            "_________________________________________________________________\n"
          ],
          "name": "stdout"
        }
      ]
    },
    {
      "cell_type": "code",
      "metadata": {
        "id": "Dq2yO0BGWbie"
      },
      "source": [
        "NN.compile(optimizer=Adam(lr=0.001), loss=CategoricalCrossentropy(), metrics=AUC())"
      ],
      "execution_count": 299,
      "outputs": []
    },
    {
      "cell_type": "code",
      "metadata": {
        "id": "BOfsS8JHbJJN"
      },
      "source": [
        "def get_labels_as_tuples(labels):\r\n",
        "  \"\"\"\r\n",
        "  Takes in 1D labels and then converts them into two dimension labels and returns it.\r\n",
        "  \"\"\"\r\n",
        "  labels_2D = pd.DataFrame(labels)\r\n",
        "  labels_2D['Negate_Response'] = (1-labels)\r\n",
        "  return labels_2D"
      ],
      "execution_count": 290,
      "outputs": []
    },
    {
      "cell_type": "code",
      "metadata": {
        "id": "oyAdVkMrghhl"
      },
      "source": [
        "# create early stopping callback\r\n",
        "early_stopping = keras.callbacks.EarlyStopping(monitor=\"val_auc_7\",\r\n",
        "                                                  patience=5)"
      ],
      "execution_count": 312,
      "outputs": []
    },
    {
      "cell_type": "code",
      "metadata": {
        "id": "ewJIvZAyWbfl"
      },
      "source": [
        "y_train_2D = get_labels_as_tuples(y_train)\r\n",
        "y_val_2D = get_labels_as_tuples(y_val)\r\n",
        "y_2D = get_labels_as_tuples(y)\r\n",
        "valid_set = tuple(zip(X_val.to_numpy(), y_val.to_numpy()))"
      ],
      "execution_count": 310,
      "outputs": []
    },
    {
      "cell_type": "code",
      "metadata": {
        "colab": {
          "base_uri": "https://localhost:8080/"
        },
        "id": "hDpQKLkDWbdb",
        "outputId": "0e87afe0-12c7-45e7-a4f0-bed7b7a8fb5f"
      },
      "source": [
        "NN.fit(X_train, y_train_2D, batch_size=32, epochs=50, shuffle=True, verbose=2, validation_split=0.3, callbacks=[early_stopping])"
      ],
      "execution_count": 313,
      "outputs": [
        {
          "output_type": "stream",
          "text": [
            "Epoch 1/50\n",
            "780/780 - 1s - loss: 0.5478 - auc_7: 0.7630 - val_loss: 0.5592 - val_auc_7: 0.7529\n",
            "Epoch 2/50\n",
            "780/780 - 1s - loss: 0.5479 - auc_7: 0.7598 - val_loss: 0.5592 - val_auc_7: 0.7529\n",
            "Epoch 3/50\n",
            "780/780 - 1s - loss: 0.5479 - auc_7: 0.7616 - val_loss: 0.5593 - val_auc_7: 0.7529\n",
            "Epoch 4/50\n",
            "780/780 - 1s - loss: 0.5478 - auc_7: 0.7623 - val_loss: 0.5591 - val_auc_7: 0.7529\n",
            "Epoch 5/50\n",
            "780/780 - 1s - loss: 0.5479 - auc_7: 0.7622 - val_loss: 0.5592 - val_auc_7: 0.7529\n",
            "Epoch 6/50\n",
            "780/780 - 1s - loss: 0.5478 - auc_7: 0.7620 - val_loss: 0.5596 - val_auc_7: 0.7529\n"
          ],
          "name": "stdout"
        },
        {
          "output_type": "execute_result",
          "data": {
            "text/plain": [
              "<tensorflow.python.keras.callbacks.History at 0x7f29c25aee50>"
            ]
          },
          "metadata": {
            "tags": []
          },
          "execution_count": 313
        }
      ]
    },
    {
      "cell_type": "code",
      "metadata": {
        "colab": {
          "base_uri": "https://localhost:8080/"
        },
        "id": "e_Q2FRVljIjB",
        "outputId": "f05ea0b9-7430-4f0e-c1d8-453a4064d957"
      },
      "source": [
        "y_preds_NN = NN.predict(X_val)\r\n",
        "y_preds_NN"
      ],
      "execution_count": 315,
      "outputs": [
        {
          "output_type": "execute_result",
          "data": {
            "text/plain": [
              "array([[0.23272392, 0.7672761 ],\n",
              "       [0.23272392, 0.7672761 ],\n",
              "       [0.23272392, 0.7672761 ],\n",
              "       ...,\n",
              "       [0.23272392, 0.7672761 ],\n",
              "       [0.23272392, 0.7672761 ],\n",
              "       [0.23272392, 0.7672761 ]], dtype=float32)"
            ]
          },
          "metadata": {
            "tags": []
          },
          "execution_count": 315
        }
      ]
    },
    {
      "cell_type": "code",
      "metadata": {
        "colab": {
          "base_uri": "https://localhost:8080/"
        },
        "id": "epnutwZTWbZ1",
        "outputId": "58c989e2-f249-4707-ae0c-4fa16444c548"
      },
      "source": [
        "y_pred_nn_thr = (pd.Series(y_preds_proba_rfc[:,0]) >= 0.5).astype(int)\r\n",
        "roc_auc_score(y_val, y_pred_nn_thr)"
      ],
      "execution_count": 319,
      "outputs": [
        {
          "output_type": "execute_result",
          "data": {
            "text/plain": [
              "0.4759271608295562"
            ]
          },
          "metadata": {
            "tags": []
          },
          "execution_count": 319
        }
      ]
    },
    {
      "cell_type": "code",
      "metadata": {
        "id": "JZ8HUC4QWbW6"
      },
      "source": [
        "y_pred_rfc_thr = (pd.Series(y_preds_proba_rfc[:,1]) >= best_threshold).astype(int)\r\n",
        "roc_auc_score(y_val, y_pred_rfc_thr)"
      ],
      "execution_count": null,
      "outputs": []
    },
    {
      "cell_type": "markdown",
      "metadata": {
        "id": "66sY9LY0v0k8"
      },
      "source": [
        "### With Interaction"
      ]
    },
    {
      "cell_type": "code",
      "metadata": {
        "id": "kluQWW-Lvwt3"
      },
      "source": [
        "train_val_proc_inter = pre_process_data(train_val, group_UA_LA=True, drop_UA_LA=True, fourteenPlusConversion='25')"
      ],
      "execution_count": null,
      "outputs": []
    },
    {
      "cell_type": "code",
      "metadata": {
        "id": "T4xLgRTUyAt8"
      },
      "source": [
        "X_inter = train_val_proc_inter.drop('Response', axis=1)\r\n",
        "y_inter = train_val_proc_inter['Response']\r\n",
        "\r\n",
        "X_train_inter, X_val_inter, y_train_inter, y_val_inter = train_test_split(X_inter, y_inter, test_size=0.3, random_state=12)"
      ],
      "execution_count": null,
      "outputs": []
    },
    {
      "cell_type": "markdown",
      "metadata": {
        "id": "lCTCR1okykX9"
      },
      "source": [
        "#### Random Forest"
      ]
    },
    {
      "cell_type": "code",
      "metadata": {
        "colab": {
          "base_uri": "https://localhost:8080/"
        },
        "id": "ZX3VCP9HyetL",
        "outputId": "894db1e2-2491-4fa4-8fd7-a32ff203fccb"
      },
      "source": [
        "rfc_inter = RandomForestClassifier(class_weight=class_weights, n_estimators=300)\r\n",
        "rfc_inter.fit(X_train_inter, y_train_inter)"
      ],
      "execution_count": null,
      "outputs": [
        {
          "output_type": "execute_result",
          "data": {
            "text/plain": [
              "RandomForestClassifier(bootstrap=True, ccp_alpha=0.0,\n",
              "                       class_weight={0: 0.24011005980290312,\n",
              "                                     1: 0.7598899401970969},\n",
              "                       criterion='gini', max_depth=None, max_features='auto',\n",
              "                       max_leaf_nodes=None, max_samples=None,\n",
              "                       min_impurity_decrease=0.0, min_impurity_split=None,\n",
              "                       min_samples_leaf=1, min_samples_split=2,\n",
              "                       min_weight_fraction_leaf=0.0, n_estimators=300,\n",
              "                       n_jobs=None, oob_score=False, random_state=None,\n",
              "                       verbose=0, warm_start=False)"
            ]
          },
          "metadata": {
            "tags": []
          },
          "execution_count": 65
        }
      ]
    },
    {
      "cell_type": "code",
      "metadata": {
        "colab": {
          "base_uri": "https://localhost:8080/"
        },
        "id": "s3drDVgIyraX",
        "outputId": "1371649d-b922-42ee-88d0-2825672a0612"
      },
      "source": [
        "y_preds_rfc_inter = rfc_inter.predict(X_val_inter)\r\n",
        "roc_auc_score(y_val_inter, y_preds_rfc_inter)"
      ],
      "execution_count": null,
      "outputs": [
        {
          "output_type": "execute_result",
          "data": {
            "text/plain": [
              "0.5276673941971318"
            ]
          },
          "metadata": {
            "tags": []
          },
          "execution_count": 66
        }
      ]
    },
    {
      "cell_type": "code",
      "metadata": {
        "colab": {
          "base_uri": "https://localhost:8080/",
          "height": 297
        },
        "id": "yksjbDc7yz-8",
        "outputId": "bd656276-b8ec-488e-95be-bb36d788c8a7"
      },
      "source": [
        "plot_confusion_matrix(rfc_inter, X_val_inter, y_val_inter)"
      ],
      "execution_count": null,
      "outputs": [
        {
          "output_type": "execute_result",
          "data": {
            "text/plain": [
              "<sklearn.metrics._plot.confusion_matrix.ConfusionMatrixDisplay at 0x7f2a31151cd0>"
            ]
          },
          "metadata": {
            "tags": []
          },
          "execution_count": 67
        },
        {
          "output_type": "display_data",
          "data": {
            "image/png": "[encoded data removed]",
            "text/plain": [
              "<Figure size 432x288 with 2 Axes>"
            ]
          },
          "metadata": {
            "tags": [],
            "needs_background": "light"
          }
        }
      ]
    },
    {
      "cell_type": "code",
      "metadata": {
        "colab": {
          "base_uri": "https://localhost:8080/",
          "height": 297
        },
        "id": "vZ5P_-8pzZcn",
        "outputId": "ec52633f-c2be-40b2-d47e-8d46d50e1271"
      },
      "source": [
        "plot_roc_curve(rfc_inter,X_val_inter, y_val_inter)"
      ],
      "execution_count": null,
      "outputs": [
        {
          "output_type": "execute_result",
          "data": {
            "text/plain": [
              "<sklearn.metrics._plot.roc_curve.RocCurveDisplay at 0x7f2a28081310>"
            ]
          },
          "metadata": {
            "tags": []
          },
          "execution_count": 68
        },
        {
          "output_type": "display_data",
          "data": {
            "image/png": "[encoded data removed]",
            "text/plain": [
              "<Figure size 432x288 with 1 Axes>"
            ]
          },
          "metadata": {
            "tags": [],
            "needs_background": "light"
          }
        }
      ]
    },
    {
      "cell_type": "code",
      "metadata": {
        "colab": {
          "base_uri": "https://localhost:8080/"
        },
        "id": "_J4QvhrnzoB8",
        "outputId": "3c8fe824-69ac-40d7-a544-a884e3cb884f"
      },
      "source": [
        "y_preds_proba_rfc_inter = rfc_inter.predict_proba(X_val_inter)\r\n",
        "best_threshold_inter, _ = get_best_threshold(y_val_inter, y_preds_proba_rfc_inter)"
      ],
      "execution_count": null,
      "outputs": [
        {
          "output_type": "stream",
          "text": [
            "Best Threshold=0.235595, G-Mean=0.598\n"
          ],
          "name": "stdout"
        }
      ]
    },
    {
      "cell_type": "code",
      "metadata": {
        "colab": {
          "base_uri": "https://localhost:8080/"
        },
        "id": "Xnwozhfp0JM-",
        "outputId": "7b44d997-3f1a-4397-f7f5-455a8d2a1950"
      },
      "source": [
        "y_pred_rfc_thr_inter = (pd.Series(y_preds_proba_rfc_inter[:,1]) >= best_threshold_inter).astype(int)\r\n",
        "roc_auc_score(y_val_inter, y_pred_rfc_thr_inter)"
      ],
      "execution_count": null,
      "outputs": [
        {
          "output_type": "execute_result",
          "data": {
            "text/plain": [
              "0.5976233329507697"
            ]
          },
          "metadata": {
            "tags": []
          },
          "execution_count": 70
        }
      ]
    },
    {
      "cell_type": "code",
      "metadata": {
        "colab": {
          "base_uri": "https://localhost:8080/"
        },
        "id": "6As_3ncw1MX7",
        "outputId": "842c3648-d15d-4892-d8f2-6ea36d46e751"
      },
      "source": [
        "y_preds_stats = (stats_logit.predict(X_val, transform=False)).to_numpy()\r\n",
        "best_thr_stats, _ = get_best_threshold(y_val, y_preds_stats, slice_probs=False)"
      ],
      "execution_count": null,
      "outputs": [
        {
          "output_type": "stream",
          "text": [
            "Best Threshold=0.240830, G-Mean=0.581\n"
          ],
          "name": "stdout"
        }
      ]
    },
    {
      "cell_type": "code",
      "metadata": {
        "colab": {
          "base_uri": "https://localhost:8080/"
        },
        "id": "Ur0lyAnT5LRJ",
        "outputId": "20fbef7e-a926-41c7-dc42-f744b290296a"
      },
      "source": [
        "y_preds_stats_thr = (pd.Series(y_preds_stats) >= best_thr_stats).astype(int)\r\n",
        "roc_auc_score(y_val, y_preds_stats_thr)"
      ],
      "execution_count": null,
      "outputs": [
        {
          "output_type": "execute_result",
          "data": {
            "text/plain": [
              "0.5817521724619401"
            ]
          },
          "metadata": {
            "tags": []
          },
          "execution_count": 73
        }
      ]
    },
    {
      "cell_type": "markdown",
      "metadata": {
        "id": "MExLS2N37dEW"
      },
      "source": [
        "## Predictions"
      ]
    },
    {
      "cell_type": "code",
      "metadata": {
        "id": "unz1OkPL7efQ"
      },
      "source": [
        "def predict_on_best_threshould(model, Xs, model_type='normal', best_threshold=0.5):\r\n",
        "    \"\"\"\r\n",
        "    Takes the model, Xs, best_threshould as input and\r\n",
        "    returns the predictions based on the best_threshould\r\n",
        "    \"\"\"\r\n",
        "    if model_type == 'normal':\r\n",
        "      y_preds = model.predict_proba(Xs)\r\n",
        "      y_preds_true = y_preds[:,1]\r\n",
        "    elif model_type == 'stats':\r\n",
        "      y_preds_true = model.predict(Xs, transform=False).to_numpy()\r\n",
        "    y_preds_best_thr = (pd.Series(y_preds_true) >= best_threshold).astype(int)\r\n",
        "    return y_preds_best_thr.to_numpy()"
      ],
      "execution_count": null,
      "outputs": []
    },
    {
      "cell_type": "code",
      "metadata": {
        "colab": {
          "base_uri": "https://localhost:8080/",
          "height": 1000
        },
        "id": "0BuzeHf-7f_t",
        "outputId": "c6dfa7ec-3721-46f9-8135-4c93d45b46df"
      },
      "source": [
        "stats_logit_full = sm.Logit(y, X).fit()\r\n",
        "stats_logit_full.summary()"
      ],
      "execution_count": null,
      "outputs": [
        {
          "output_type": "stream",
          "text": [
            "Optimization terminated successfully.\n",
            "         Current function value: 0.526185\n",
            "         Iterations 9\n"
          ],
          "name": "stdout"
        },
        {
          "output_type": "stream",
          "text": [
            "/usr/local/lib/python3.7/dist-packages/statsmodels/base/model.py:1286: RuntimeWarning: invalid value encountered in sqrt\n",
            "  bse_ = np.sqrt(np.diag(self.cov_params()))\n"
          ],
          "name": "stderr"
        },
        {
          "output_type": "execute_result",
          "data": {
            "text/html": [
              "<table class=\"simpletable\">\n",
              "<caption>Logit Regression Results</caption>\n",
              "<tr>\n",
              "  <th>Dep. Variable:</th>       <td>Response</td>     <th>  No. Observations:  </th>  <td> 50882</td> \n",
              "</tr>\n",
              "<tr>\n",
              "  <th>Model:</th>                 <td>Logit</td>      <th>  Df Residuals:      </th>  <td> 50805</td> \n",
              "</tr>\n",
              "<tr>\n",
              "  <th>Method:</th>                 <td>MLE</td>       <th>  Df Model:          </th>  <td>    76</td> \n",
              "</tr>\n",
              "<tr>\n",
              "  <th>Date:</th>            <td>Sun, 28 Feb 2021</td> <th>  Pseudo R-squ.:     </th>  <td>0.04507</td>\n",
              "</tr>\n",
              "<tr>\n",
              "  <th>Time:</th>                <td>05:24:35</td>     <th>  Log-Likelihood:    </th> <td> -26773.</td>\n",
              "</tr>\n",
              "<tr>\n",
              "  <th>converged:</th>             <td>True</td>       <th>  LL-Null:           </th> <td> -28037.</td>\n",
              "</tr>\n",
              "<tr>\n",
              "  <th>Covariance Type:</th>     <td>nonrobust</td>    <th>  LLR p-value:       </th>  <td> 0.000</td> \n",
              "</tr>\n",
              "</table>\n",
              "<table class=\"simpletable\">\n",
              "<tr>\n",
              "             <td></td>                <th>coef</th>     <th>std err</th>      <th>z</th>      <th>P>|z|</th>  <th>[0.025</th>    <th>0.975]</th>  \n",
              "</tr>\n",
              "<tr>\n",
              "  <th>Upper_Age</th>               <td>    0.0005</td> <td>    0.003</td> <td>    0.203</td> <td> 0.839</td> <td>   -0.005</td> <td>    0.006</td>\n",
              "</tr>\n",
              "<tr>\n",
              "  <th>Lower_Age</th>               <td>   -0.0001</td> <td>    0.002</td> <td>   -0.049</td> <td> 0.961</td> <td>   -0.004</td> <td>    0.004</td>\n",
              "</tr>\n",
              "<tr>\n",
              "  <th>Holding_Policy_Duration</th> <td>    0.0050</td> <td>    0.002</td> <td>    2.773</td> <td> 0.006</td> <td>    0.001</td> <td>    0.009</td>\n",
              "</tr>\n",
              "<tr>\n",
              "  <th>Reco_Policy_Premium</th>     <td>-1.987e-06</td> <td>  3.8e-06</td> <td>   -0.522</td> <td> 0.601</td> <td>-9.44e-06</td> <td> 5.47e-06</td>\n",
              "</tr>\n",
              "<tr>\n",
              "  <th>City_C1</th>                 <td>   -0.0707</td> <td>      nan</td> <td>      nan</td> <td>   nan</td> <td>      nan</td> <td>      nan</td>\n",
              "</tr>\n",
              "<tr>\n",
              "  <th>City_C10</th>                <td>   -0.0132</td> <td>      nan</td> <td>      nan</td> <td>   nan</td> <td>      nan</td> <td>      nan</td>\n",
              "</tr>\n",
              "<tr>\n",
              "  <th>City_C11</th>                <td>   -0.0233</td> <td>      nan</td> <td>      nan</td> <td>   nan</td> <td>      nan</td> <td>      nan</td>\n",
              "</tr>\n",
              "<tr>\n",
              "  <th>City_C12</th>                <td>   -0.0615</td> <td>      nan</td> <td>      nan</td> <td>   nan</td> <td>      nan</td> <td>      nan</td>\n",
              "</tr>\n",
              "<tr>\n",
              "  <th>City_C13</th>                <td>    0.3146</td> <td>      nan</td> <td>      nan</td> <td>   nan</td> <td>      nan</td> <td>      nan</td>\n",
              "</tr>\n",
              "<tr>\n",
              "  <th>City_C14</th>                <td>    0.0011</td> <td>      nan</td> <td>      nan</td> <td>   nan</td> <td>      nan</td> <td>      nan</td>\n",
              "</tr>\n",
              "<tr>\n",
              "  <th>City_C15</th>                <td>   -0.2109</td> <td>      nan</td> <td>      nan</td> <td>   nan</td> <td>      nan</td> <td>      nan</td>\n",
              "</tr>\n",
              "<tr>\n",
              "  <th>City_C16</th>                <td>   -0.0671</td> <td>      nan</td> <td>      nan</td> <td>   nan</td> <td>      nan</td> <td>      nan</td>\n",
              "</tr>\n",
              "<tr>\n",
              "  <th>City_C17</th>                <td>    0.0516</td> <td>      nan</td> <td>      nan</td> <td>   nan</td> <td>      nan</td> <td>      nan</td>\n",
              "</tr>\n",
              "<tr>\n",
              "  <th>City_C18</th>                <td>    0.0011</td> <td>      nan</td> <td>      nan</td> <td>   nan</td> <td>      nan</td> <td>      nan</td>\n",
              "</tr>\n",
              "<tr>\n",
              "  <th>City_C19</th>                <td>    0.4036</td> <td>      nan</td> <td>      nan</td> <td>   nan</td> <td>      nan</td> <td>      nan</td>\n",
              "</tr>\n",
              "<tr>\n",
              "  <th>City_C2</th>                 <td>   -0.0367</td> <td>      nan</td> <td>      nan</td> <td>   nan</td> <td>      nan</td> <td>      nan</td>\n",
              "</tr>\n",
              "<tr>\n",
              "  <th>City_C20</th>                <td>   -0.0692</td> <td>      nan</td> <td>      nan</td> <td>   nan</td> <td>      nan</td> <td>      nan</td>\n",
              "</tr>\n",
              "<tr>\n",
              "  <th>City_C21</th>                <td>   -0.1614</td> <td>      nan</td> <td>      nan</td> <td>   nan</td> <td>      nan</td> <td>      nan</td>\n",
              "</tr>\n",
              "<tr>\n",
              "  <th>City_C22</th>                <td>    0.0590</td> <td>      nan</td> <td>      nan</td> <td>   nan</td> <td>      nan</td> <td>      nan</td>\n",
              "</tr>\n",
              "<tr>\n",
              "  <th>City_C23</th>                <td>    0.2208</td> <td>      nan</td> <td>      nan</td> <td>   nan</td> <td>      nan</td> <td>      nan</td>\n",
              "</tr>\n",
              "<tr>\n",
              "  <th>City_C24</th>                <td>    0.2073</td> <td>      nan</td> <td>      nan</td> <td>   nan</td> <td>      nan</td> <td>      nan</td>\n",
              "</tr>\n",
              "<tr>\n",
              "  <th>City_C25</th>                <td>    0.1271</td> <td>      nan</td> <td>      nan</td> <td>   nan</td> <td>      nan</td> <td>      nan</td>\n",
              "</tr>\n",
              "<tr>\n",
              "  <th>City_C26</th>                <td>   -0.0855</td> <td>      nan</td> <td>      nan</td> <td>   nan</td> <td>      nan</td> <td>      nan</td>\n",
              "</tr>\n",
              "<tr>\n",
              "  <th>City_C27</th>                <td>    0.3891</td> <td>      nan</td> <td>      nan</td> <td>   nan</td> <td>      nan</td> <td>      nan</td>\n",
              "</tr>\n",
              "<tr>\n",
              "  <th>City_C28</th>                <td>    0.3202</td> <td>      nan</td> <td>      nan</td> <td>   nan</td> <td>      nan</td> <td>      nan</td>\n",
              "</tr>\n",
              "<tr>\n",
              "  <th>City_C29</th>                <td>    0.1487</td> <td>      nan</td> <td>      nan</td> <td>   nan</td> <td>      nan</td> <td>      nan</td>\n",
              "</tr>\n",
              "<tr>\n",
              "  <th>City_C3</th>                 <td>   -0.0131</td> <td>      nan</td> <td>      nan</td> <td>   nan</td> <td>      nan</td> <td>      nan</td>\n",
              "</tr>\n",
              "<tr>\n",
              "  <th>City_C30</th>                <td>    0.5291</td> <td>      nan</td> <td>      nan</td> <td>   nan</td> <td>      nan</td> <td>      nan</td>\n",
              "</tr>\n",
              "<tr>\n",
              "  <th>City_C31</th>                <td>   -0.6794</td> <td>      nan</td> <td>      nan</td> <td>   nan</td> <td>      nan</td> <td>      nan</td>\n",
              "</tr>\n",
              "<tr>\n",
              "  <th>City_C32</th>                <td>    0.6042</td> <td>      nan</td> <td>      nan</td> <td>   nan</td> <td>      nan</td> <td>      nan</td>\n",
              "</tr>\n",
              "<tr>\n",
              "  <th>City_C33</th>                <td>    0.1406</td> <td>      nan</td> <td>      nan</td> <td>   nan</td> <td>      nan</td> <td>      nan</td>\n",
              "</tr>\n",
              "<tr>\n",
              "  <th>City_C34</th>                <td>    0.4511</td> <td>      nan</td> <td>      nan</td> <td>   nan</td> <td>      nan</td> <td>      nan</td>\n",
              "</tr>\n",
              "<tr>\n",
              "  <th>City_C35</th>                <td>    0.3986</td> <td>      nan</td> <td>      nan</td> <td>   nan</td> <td>      nan</td> <td>      nan</td>\n",
              "</tr>\n",
              "<tr>\n",
              "  <th>City_C36</th>                <td>   -0.5113</td> <td>      nan</td> <td>      nan</td> <td>   nan</td> <td>      nan</td> <td>      nan</td>\n",
              "</tr>\n",
              "<tr>\n",
              "  <th>City_C4</th>                 <td>    0.0489</td> <td>      nan</td> <td>      nan</td> <td>   nan</td> <td>      nan</td> <td>      nan</td>\n",
              "</tr>\n",
              "<tr>\n",
              "  <th>City_C5</th>                 <td>    0.1430</td> <td>      nan</td> <td>      nan</td> <td>   nan</td> <td>      nan</td> <td>      nan</td>\n",
              "</tr>\n",
              "<tr>\n",
              "  <th>City_C6</th>                 <td>   -0.0447</td> <td>      nan</td> <td>      nan</td> <td>   nan</td> <td>      nan</td> <td>      nan</td>\n",
              "</tr>\n",
              "<tr>\n",
              "  <th>City_C7</th>                 <td>   -0.0195</td> <td>      nan</td> <td>      nan</td> <td>   nan</td> <td>      nan</td> <td>      nan</td>\n",
              "</tr>\n",
              "<tr>\n",
              "  <th>City_C8</th>                 <td>    0.1343</td> <td>      nan</td> <td>      nan</td> <td>   nan</td> <td>      nan</td> <td>      nan</td>\n",
              "</tr>\n",
              "<tr>\n",
              "  <th>City_C9</th>                 <td>    0.1682</td> <td>      nan</td> <td>      nan</td> <td>   nan</td> <td>      nan</td> <td>      nan</td>\n",
              "</tr>\n",
              "<tr>\n",
              "  <th>Accom_Owned</th>             <td>   -1.0597</td> <td>      nan</td> <td>      nan</td> <td>   nan</td> <td>      nan</td> <td>      nan</td>\n",
              "</tr>\n",
              "<tr>\n",
              "  <th>Accom_Rented</th>            <td>   -1.0775</td> <td>      nan</td> <td>      nan</td> <td>   nan</td> <td>      nan</td> <td>      nan</td>\n",
              "</tr>\n",
              "<tr>\n",
              "  <th>InsTyp_Individual</th>       <td>    0.1252</td> <td>      nan</td> <td>      nan</td> <td>   nan</td> <td>      nan</td> <td>      nan</td>\n",
              "</tr>\n",
              "<tr>\n",
              "  <th>InsTyp_Joint</th>            <td>    0.2997</td> <td>      nan</td> <td>      nan</td> <td>   nan</td> <td>      nan</td> <td>      nan</td>\n",
              "</tr>\n",
              "<tr>\n",
              "  <th>Spouse_No</th>               <td>   -0.3070</td> <td>      nan</td> <td>      nan</td> <td>   nan</td> <td>      nan</td> <td>      nan</td>\n",
              "</tr>\n",
              "<tr>\n",
              "  <th>Spouse_Yes</th>              <td>   -0.4505</td> <td>      nan</td> <td>      nan</td> <td>   nan</td> <td>      nan</td> <td>      nan</td>\n",
              "</tr>\n",
              "<tr>\n",
              "  <th>HI_Not-Provided</th>         <td>   -0.1303</td> <td>      nan</td> <td>      nan</td> <td>   nan</td> <td>      nan</td> <td>      nan</td>\n",
              "</tr>\n",
              "<tr>\n",
              "  <th>HI_X1</th>                   <td>   -0.0761</td> <td>      nan</td> <td>      nan</td> <td>   nan</td> <td>      nan</td> <td>      nan</td>\n",
              "</tr>\n",
              "<tr>\n",
              "  <th>HI_X2</th>                   <td>   -0.0848</td> <td>      nan</td> <td>      nan</td> <td>   nan</td> <td>      nan</td> <td>      nan</td>\n",
              "</tr>\n",
              "<tr>\n",
              "  <th>HI_X3</th>                   <td>   -0.1139</td> <td>      nan</td> <td>      nan</td> <td>   nan</td> <td>      nan</td> <td>      nan</td>\n",
              "</tr>\n",
              "<tr>\n",
              "  <th>HI_X4</th>                   <td>   -0.0877</td> <td>      nan</td> <td>      nan</td> <td>   nan</td> <td>      nan</td> <td>      nan</td>\n",
              "</tr>\n",
              "<tr>\n",
              "  <th>HI_X5</th>                   <td>   -0.1370</td> <td>      nan</td> <td>      nan</td> <td>   nan</td> <td>      nan</td> <td>      nan</td>\n",
              "</tr>\n",
              "<tr>\n",
              "  <th>HI_X6</th>                   <td>   -0.1170</td> <td>      nan</td> <td>      nan</td> <td>   nan</td> <td>      nan</td> <td>      nan</td>\n",
              "</tr>\n",
              "<tr>\n",
              "  <th>HI_X7</th>                   <td>    0.2148</td> <td>      nan</td> <td>      nan</td> <td>   nan</td> <td>      nan</td> <td>      nan</td>\n",
              "</tr>\n",
              "<tr>\n",
              "  <th>HI_X8</th>                   <td>   -0.1161</td> <td>      nan</td> <td>      nan</td> <td>   nan</td> <td>      nan</td> <td>      nan</td>\n",
              "</tr>\n",
              "<tr>\n",
              "  <th>HI_X9</th>                   <td>   -0.1095</td> <td>      nan</td> <td>      nan</td> <td>   nan</td> <td>      nan</td> <td>      nan</td>\n",
              "</tr>\n",
              "<tr>\n",
              "  <th>Hol_PT_0.0</th>              <td>   -0.1097</td> <td>      nan</td> <td>      nan</td> <td>   nan</td> <td>      nan</td> <td>      nan</td>\n",
              "</tr>\n",
              "<tr>\n",
              "  <th>Hol_PT_1.0</th>              <td>   -0.1411</td> <td>      nan</td> <td>      nan</td> <td>   nan</td> <td>      nan</td> <td>      nan</td>\n",
              "</tr>\n",
              "<tr>\n",
              "  <th>Hol_PT_2.0</th>              <td>   -0.1884</td> <td>      nan</td> <td>      nan</td> <td>   nan</td> <td>      nan</td> <td>      nan</td>\n",
              "</tr>\n",
              "<tr>\n",
              "  <th>Hol_PT_3.0</th>              <td>   -0.0718</td> <td>      nan</td> <td>      nan</td> <td>   nan</td> <td>      nan</td> <td>      nan</td>\n",
              "</tr>\n",
              "<tr>\n",
              "  <th>Hol_PT_4.0</th>              <td>   -0.2465</td> <td>      nan</td> <td>      nan</td> <td>   nan</td> <td>      nan</td> <td>      nan</td>\n",
              "</tr>\n",
              "<tr>\n",
              "  <th>Reco_cat_1</th>              <td>   -4.1760</td> <td>      nan</td> <td>      nan</td> <td>   nan</td> <td>      nan</td> <td>      nan</td>\n",
              "</tr>\n",
              "<tr>\n",
              "  <th>Reco_cat_2</th>              <td>   -0.4893</td> <td>      nan</td> <td>      nan</td> <td>   nan</td> <td>      nan</td> <td>      nan</td>\n",
              "</tr>\n",
              "<tr>\n",
              "  <th>Reco_cat_3</th>              <td>    0.0414</td> <td>      nan</td> <td>      nan</td> <td>   nan</td> <td>      nan</td> <td>      nan</td>\n",
              "</tr>\n",
              "<tr>\n",
              "  <th>Reco_cat_4</th>              <td>   -1.2669</td> <td>      nan</td> <td>      nan</td> <td>   nan</td> <td>      nan</td> <td>      nan</td>\n",
              "</tr>\n",
              "<tr>\n",
              "  <th>Reco_cat_5</th>              <td>    0.5510</td> <td>      nan</td> <td>      nan</td> <td>   nan</td> <td>      nan</td> <td>      nan</td>\n",
              "</tr>\n",
              "<tr>\n",
              "  <th>Reco_cat_6</th>              <td>   -0.2563</td> <td>      nan</td> <td>      nan</td> <td>   nan</td> <td>      nan</td> <td>      nan</td>\n",
              "</tr>\n",
              "<tr>\n",
              "  <th>Reco_cat_7</th>              <td>   -0.0423</td> <td>      nan</td> <td>      nan</td> <td>   nan</td> <td>      nan</td> <td>      nan</td>\n",
              "</tr>\n",
              "<tr>\n",
              "  <th>Reco_cat_8</th>              <td>    0.4357</td> <td>      nan</td> <td>      nan</td> <td>   nan</td> <td>      nan</td> <td>      nan</td>\n",
              "</tr>\n",
              "<tr>\n",
              "  <th>Reco_cat_9</th>              <td>   -0.2237</td> <td>      nan</td> <td>      nan</td> <td>   nan</td> <td>      nan</td> <td>      nan</td>\n",
              "</tr>\n",
              "<tr>\n",
              "  <th>Reco_cat_10</th>             <td>   -0.1749</td> <td>      nan</td> <td>      nan</td> <td>   nan</td> <td>      nan</td> <td>      nan</td>\n",
              "</tr>\n",
              "<tr>\n",
              "  <th>Reco_cat_11</th>             <td>   -0.1454</td> <td>      nan</td> <td>      nan</td> <td>   nan</td> <td>      nan</td> <td>      nan</td>\n",
              "</tr>\n",
              "<tr>\n",
              "  <th>Reco_cat_12</th>             <td>    0.6699</td> <td>      nan</td> <td>      nan</td> <td>   nan</td> <td>      nan</td> <td>      nan</td>\n",
              "</tr>\n",
              "<tr>\n",
              "  <th>Reco_cat_13</th>             <td>    0.1950</td> <td>      nan</td> <td>      nan</td> <td>   nan</td> <td>      nan</td> <td>      nan</td>\n",
              "</tr>\n",
              "<tr>\n",
              "  <th>Reco_cat_14</th>             <td>    0.2846</td> <td>      nan</td> <td>      nan</td> <td>   nan</td> <td>      nan</td> <td>      nan</td>\n",
              "</tr>\n",
              "<tr>\n",
              "  <th>Reco_cat_15</th>             <td>    1.2979</td> <td>      nan</td> <td>      nan</td> <td>   nan</td> <td>      nan</td> <td>      nan</td>\n",
              "</tr>\n",
              "<tr>\n",
              "  <th>Reco_cat_16</th>             <td>    0.2023</td> <td>      nan</td> <td>      nan</td> <td>   nan</td> <td>      nan</td> <td>      nan</td>\n",
              "</tr>\n",
              "<tr>\n",
              "  <th>Reco_cat_17</th>             <td>    0.6078</td> <td>      nan</td> <td>      nan</td> <td>   nan</td> <td>      nan</td> <td>      nan</td>\n",
              "</tr>\n",
              "<tr>\n",
              "  <th>Reco_cat_18</th>             <td>    0.1527</td> <td>      nan</td> <td>      nan</td> <td>   nan</td> <td>      nan</td> <td>      nan</td>\n",
              "</tr>\n",
              "<tr>\n",
              "  <th>Reco_cat_19</th>             <td>    0.4884</td> <td>      nan</td> <td>      nan</td> <td>   nan</td> <td>      nan</td> <td>      nan</td>\n",
              "</tr>\n",
              "<tr>\n",
              "  <th>Reco_cat_20</th>             <td>    0.3695</td> <td>      nan</td> <td>      nan</td> <td>   nan</td> <td>      nan</td> <td>      nan</td>\n",
              "</tr>\n",
              "<tr>\n",
              "  <th>Reco_cat_21</th>             <td>   -0.0213</td> <td>      nan</td> <td>      nan</td> <td>   nan</td> <td>      nan</td> <td>      nan</td>\n",
              "</tr>\n",
              "<tr>\n",
              "  <th>Reco_cat_22</th>             <td>    0.7424</td> <td>      nan</td> <td>      nan</td> <td>   nan</td> <td>      nan</td> <td>      nan</td>\n",
              "</tr>\n",
              "</table>"
            ],
            "text/plain": [
              "<class 'statsmodels.iolib.summary.Summary'>\n",
              "\"\"\"\n",
              "                           Logit Regression Results                           \n",
              "==============================================================================\n",
              "Dep. Variable:               Response   No. Observations:                50882\n",
              "Model:                          Logit   Df Residuals:                    50805\n",
              "Method:                           MLE   Df Model:                           76\n",
              "Date:                Sun, 28 Feb 2021   Pseudo R-squ.:                 0.04507\n",
              "Time:                        05:24:35   Log-Likelihood:                -26773.\n",
              "converged:                       True   LL-Null:                       -28037.\n",
              "Covariance Type:            nonrobust   LLR p-value:                     0.000\n",
              "===========================================================================================\n",
              "                              coef    std err          z      P>|z|      [0.025      0.975]\n",
              "-------------------------------------------------------------------------------------------\n",
              "Upper_Age                   0.0005      0.003      0.203      0.839      -0.005       0.006\n",
              "Lower_Age                  -0.0001      0.002     -0.049      0.961      -0.004       0.004\n",
              "Holding_Policy_Duration     0.0050      0.002      2.773      0.006       0.001       0.009\n",
              "Reco_Policy_Premium     -1.987e-06    3.8e-06     -0.522      0.601   -9.44e-06    5.47e-06\n",
              "City_C1                    -0.0707        nan        nan        nan         nan         nan\n",
              "City_C10                   -0.0132        nan        nan        nan         nan         nan\n",
              "City_C11                   -0.0233        nan        nan        nan         nan         nan\n",
              "City_C12                   -0.0615        nan        nan        nan         nan         nan\n",
              "City_C13                    0.3146        nan        nan        nan         nan         nan\n",
              "City_C14                    0.0011        nan        nan        nan         nan         nan\n",
              "City_C15                   -0.2109        nan        nan        nan         nan         nan\n",
              "City_C16                   -0.0671        nan        nan        nan         nan         nan\n",
              "City_C17                    0.0516        nan        nan        nan         nan         nan\n",
              "City_C18                    0.0011        nan        nan        nan         nan         nan\n",
              "City_C19                    0.4036        nan        nan        nan         nan         nan\n",
              "City_C2                    -0.0367        nan        nan        nan         nan         nan\n",
              "City_C20                   -0.0692        nan        nan        nan         nan         nan\n",
              "City_C21                   -0.1614        nan        nan        nan         nan         nan\n",
              "City_C22                    0.0590        nan        nan        nan         nan         nan\n",
              "City_C23                    0.2208        nan        nan        nan         nan         nan\n",
              "City_C24                    0.2073        nan        nan        nan         nan         nan\n",
              "City_C25                    0.1271        nan        nan        nan         nan         nan\n",
              "City_C26                   -0.0855        nan        nan        nan         nan         nan\n",
              "City_C27                    0.3891        nan        nan        nan         nan         nan\n",
              "City_C28                    0.3202        nan        nan        nan         nan         nan\n",
              "City_C29                    0.1487        nan        nan        nan         nan         nan\n",
              "City_C3                    -0.0131        nan        nan        nan         nan         nan\n",
              "City_C30                    0.5291        nan        nan        nan         nan         nan\n",
              "City_C31                   -0.6794        nan        nan        nan         nan         nan\n",
              "City_C32                    0.6042        nan        nan        nan         nan         nan\n",
              "City_C33                    0.1406        nan        nan        nan         nan         nan\n",
              "City_C34                    0.4511        nan        nan        nan         nan         nan\n",
              "City_C35                    0.3986        nan        nan        nan         nan         nan\n",
              "City_C36                   -0.5113        nan        nan        nan         nan         nan\n",
              "City_C4                     0.0489        nan        nan        nan         nan         nan\n",
              "City_C5                     0.1430        nan        nan        nan         nan         nan\n",
              "City_C6                    -0.0447        nan        nan        nan         nan         nan\n",
              "City_C7                    -0.0195        nan        nan        nan         nan         nan\n",
              "City_C8                     0.1343        nan        nan        nan         nan         nan\n",
              "City_C9                     0.1682        nan        nan        nan         nan         nan\n",
              "Accom_Owned                -1.0597        nan        nan        nan         nan         nan\n",
              "Accom_Rented               -1.0775        nan        nan        nan         nan         nan\n",
              "InsTyp_Individual           0.1252        nan        nan        nan         nan         nan\n",
              "InsTyp_Joint                0.2997        nan        nan        nan         nan         nan\n",
              "Spouse_No                  -0.3070        nan        nan        nan         nan         nan\n",
              "Spouse_Yes                 -0.4505        nan        nan        nan         nan         nan\n",
              "HI_Not-Provided            -0.1303        nan        nan        nan         nan         nan\n",
              "HI_X1                      -0.0761        nan        nan        nan         nan         nan\n",
              "HI_X2                      -0.0848        nan        nan        nan         nan         nan\n",
              "HI_X3                      -0.1139        nan        nan        nan         nan         nan\n",
              "HI_X4                      -0.0877        nan        nan        nan         nan         nan\n",
              "HI_X5                      -0.1370        nan        nan        nan         nan         nan\n",
              "HI_X6                      -0.1170        nan        nan        nan         nan         nan\n",
              "HI_X7                       0.2148        nan        nan        nan         nan         nan\n",
              "HI_X8                      -0.1161        nan        nan        nan         nan         nan\n",
              "HI_X9                      -0.1095        nan        nan        nan         nan         nan\n",
              "Hol_PT_0.0                 -0.1097        nan        nan        nan         nan         nan\n",
              "Hol_PT_1.0                 -0.1411        nan        nan        nan         nan         nan\n",
              "Hol_PT_2.0                 -0.1884        nan        nan        nan         nan         nan\n",
              "Hol_PT_3.0                 -0.0718        nan        nan        nan         nan         nan\n",
              "Hol_PT_4.0                 -0.2465        nan        nan        nan         nan         nan\n",
              "Reco_cat_1                 -4.1760        nan        nan        nan         nan         nan\n",
              "Reco_cat_2                 -0.4893        nan        nan        nan         nan         nan\n",
              "Reco_cat_3                  0.0414        nan        nan        nan         nan         nan\n",
              "Reco_cat_4                 -1.2669        nan        nan        nan         nan         nan\n",
              "Reco_cat_5                  0.5510        nan        nan        nan         nan         nan\n",
              "Reco_cat_6                 -0.2563        nan        nan        nan         nan         nan\n",
              "Reco_cat_7                 -0.0423        nan        nan        nan         nan         nan\n",
              "Reco_cat_8                  0.4357        nan        nan        nan         nan         nan\n",
              "Reco_cat_9                 -0.2237        nan        nan        nan         nan         nan\n",
              "Reco_cat_10                -0.1749        nan        nan        nan         nan         nan\n",
              "Reco_cat_11                -0.1454        nan        nan        nan         nan         nan\n",
              "Reco_cat_12                 0.6699        nan        nan        nan         nan         nan\n",
              "Reco_cat_13                 0.1950        nan        nan        nan         nan         nan\n",
              "Reco_cat_14                 0.2846        nan        nan        nan         nan         nan\n",
              "Reco_cat_15                 1.2979        nan        nan        nan         nan         nan\n",
              "Reco_cat_16                 0.2023        nan        nan        nan         nan         nan\n",
              "Reco_cat_17                 0.6078        nan        nan        nan         nan         nan\n",
              "Reco_cat_18                 0.1527        nan        nan        nan         nan         nan\n",
              "Reco_cat_19                 0.4884        nan        nan        nan         nan         nan\n",
              "Reco_cat_20                 0.3695        nan        nan        nan         nan         nan\n",
              "Reco_cat_21                -0.0213        nan        nan        nan         nan         nan\n",
              "Reco_cat_22                 0.7424        nan        nan        nan         nan         nan\n",
              "===========================================================================================\n",
              "\"\"\""
            ]
          },
          "metadata": {
            "tags": []
          },
          "execution_count": 80
        }
      ]
    },
    {
      "cell_type": "code",
      "metadata": {
        "colab": {
          "base_uri": "https://localhost:8080/"
        },
        "id": "WvJMtjK795VB",
        "outputId": "94800c03-0d77-419f-d0b5-0420158a1acd"
      },
      "source": [
        "best_thr_stats"
      ],
      "execution_count": null,
      "outputs": [
        {
          "output_type": "execute_result",
          "data": {
            "text/plain": [
              "0.2408302653235773"
            ]
          },
          "metadata": {
            "tags": []
          },
          "execution_count": 81
        }
      ]
    },
    {
      "cell_type": "code",
      "metadata": {
        "colab": {
          "base_uri": "https://localhost:8080/",
          "height": 290
        },
        "id": "sGJoSRrdJy0j",
        "outputId": "b4ad5fc6-01af-46eb-b4b2-1007bdfbd96f"
      },
      "source": [
        "test_proc = pre_process_data(test, fourteenPlusConversion=25)\r\n",
        "test_proc.head()"
      ],
      "execution_count": null,
      "outputs": [
        {
          "output_type": "execute_result",
          "data": {
            "text/html": [
              "<div>\n",
              "<style scoped>\n",
              "    .dataframe tbody tr th:only-of-type {\n",
              "        vertical-align: middle;\n",
              "    }\n",
              "\n",
              "    .dataframe tbody tr th {\n",
              "        vertical-align: top;\n",
              "    }\n",
              "\n",
              "    .dataframe thead th {\n",
              "        text-align: right;\n",
              "    }\n",
              "</style>\n",
              "<table border=\"1\" class=\"dataframe\">\n",
              "  <thead>\n",
              "    <tr style=\"text-align: right;\">\n",
              "      <th></th>\n",
              "      <th>Upper_Age</th>\n",
              "      <th>Lower_Age</th>\n",
              "      <th>Holding_Policy_Duration</th>\n",
              "      <th>Reco_Policy_Premium</th>\n",
              "      <th>City_C1</th>\n",
              "      <th>City_C10</th>\n",
              "      <th>City_C11</th>\n",
              "      <th>City_C12</th>\n",
              "      <th>City_C13</th>\n",
              "      <th>City_C14</th>\n",
              "      <th>City_C15</th>\n",
              "      <th>City_C16</th>\n",
              "      <th>City_C17</th>\n",
              "      <th>City_C18</th>\n",
              "      <th>City_C19</th>\n",
              "      <th>City_C2</th>\n",
              "      <th>City_C20</th>\n",
              "      <th>City_C21</th>\n",
              "      <th>City_C22</th>\n",
              "      <th>City_C23</th>\n",
              "      <th>City_C24</th>\n",
              "      <th>City_C25</th>\n",
              "      <th>City_C26</th>\n",
              "      <th>City_C27</th>\n",
              "      <th>City_C28</th>\n",
              "      <th>City_C29</th>\n",
              "      <th>City_C3</th>\n",
              "      <th>City_C30</th>\n",
              "      <th>City_C31</th>\n",
              "      <th>City_C32</th>\n",
              "      <th>City_C33</th>\n",
              "      <th>City_C34</th>\n",
              "      <th>City_C35</th>\n",
              "      <th>City_C36</th>\n",
              "      <th>City_C4</th>\n",
              "      <th>City_C5</th>\n",
              "      <th>City_C6</th>\n",
              "      <th>City_C7</th>\n",
              "      <th>City_C8</th>\n",
              "      <th>City_C9</th>\n",
              "      <th>...</th>\n",
              "      <th>InsTyp_Joint</th>\n",
              "      <th>Spouse_No</th>\n",
              "      <th>Spouse_Yes</th>\n",
              "      <th>HI_Not-Provided</th>\n",
              "      <th>HI_X1</th>\n",
              "      <th>HI_X2</th>\n",
              "      <th>HI_X3</th>\n",
              "      <th>HI_X4</th>\n",
              "      <th>HI_X5</th>\n",
              "      <th>HI_X6</th>\n",
              "      <th>HI_X7</th>\n",
              "      <th>HI_X8</th>\n",
              "      <th>HI_X9</th>\n",
              "      <th>Hol_PT_0.0</th>\n",
              "      <th>Hol_PT_1.0</th>\n",
              "      <th>Hol_PT_2.0</th>\n",
              "      <th>Hol_PT_3.0</th>\n",
              "      <th>Hol_PT_4.0</th>\n",
              "      <th>Reco_cat_1</th>\n",
              "      <th>Reco_cat_2</th>\n",
              "      <th>Reco_cat_3</th>\n",
              "      <th>Reco_cat_4</th>\n",
              "      <th>Reco_cat_5</th>\n",
              "      <th>Reco_cat_6</th>\n",
              "      <th>Reco_cat_7</th>\n",
              "      <th>Reco_cat_8</th>\n",
              "      <th>Reco_cat_9</th>\n",
              "      <th>Reco_cat_10</th>\n",
              "      <th>Reco_cat_11</th>\n",
              "      <th>Reco_cat_12</th>\n",
              "      <th>Reco_cat_13</th>\n",
              "      <th>Reco_cat_14</th>\n",
              "      <th>Reco_cat_15</th>\n",
              "      <th>Reco_cat_16</th>\n",
              "      <th>Reco_cat_17</th>\n",
              "      <th>Reco_cat_18</th>\n",
              "      <th>Reco_cat_19</th>\n",
              "      <th>Reco_cat_20</th>\n",
              "      <th>Reco_cat_21</th>\n",
              "      <th>Reco_cat_22</th>\n",
              "    </tr>\n",
              "    <tr>\n",
              "      <th>ID</th>\n",
              "      <th></th>\n",
              "      <th></th>\n",
              "      <th></th>\n",
              "      <th></th>\n",
              "      <th></th>\n",
              "      <th></th>\n",
              "      <th></th>\n",
              "      <th></th>\n",
              "      <th></th>\n",
              "      <th></th>\n",
              "      <th></th>\n",
              "      <th></th>\n",
              "      <th></th>\n",
              "      <th></th>\n",
              "      <th></th>\n",
              "      <th></th>\n",
              "      <th></th>\n",
              "      <th></th>\n",
              "      <th></th>\n",
              "      <th></th>\n",
              "      <th></th>\n",
              "      <th></th>\n",
              "      <th></th>\n",
              "      <th></th>\n",
              "      <th></th>\n",
              "      <th></th>\n",
              "      <th></th>\n",
              "      <th></th>\n",
              "      <th></th>\n",
              "      <th></th>\n",
              "      <th></th>\n",
              "      <th></th>\n",
              "      <th></th>\n",
              "      <th></th>\n",
              "      <th></th>\n",
              "      <th></th>\n",
              "      <th></th>\n",
              "      <th></th>\n",
              "      <th></th>\n",
              "      <th></th>\n",
              "      <th></th>\n",
              "      <th></th>\n",
              "      <th></th>\n",
              "      <th></th>\n",
              "      <th></th>\n",
              "      <th></th>\n",
              "      <th></th>\n",
              "      <th></th>\n",
              "      <th></th>\n",
              "      <th></th>\n",
              "      <th></th>\n",
              "      <th></th>\n",
              "      <th></th>\n",
              "      <th></th>\n",
              "      <th></th>\n",
              "      <th></th>\n",
              "      <th></th>\n",
              "      <th></th>\n",
              "      <th></th>\n",
              "      <th></th>\n",
              "      <th></th>\n",
              "      <th></th>\n",
              "      <th></th>\n",
              "      <th></th>\n",
              "      <th></th>\n",
              "      <th></th>\n",
              "      <th></th>\n",
              "      <th></th>\n",
              "      <th></th>\n",
              "      <th></th>\n",
              "      <th></th>\n",
              "      <th></th>\n",
              "      <th></th>\n",
              "      <th></th>\n",
              "      <th></th>\n",
              "      <th></th>\n",
              "      <th></th>\n",
              "      <th></th>\n",
              "      <th></th>\n",
              "      <th></th>\n",
              "      <th></th>\n",
              "    </tr>\n",
              "  </thead>\n",
              "  <tbody>\n",
              "    <tr>\n",
              "      <th>50883</th>\n",
              "      <td>30</td>\n",
              "      <td>30</td>\n",
              "      <td>6.0</td>\n",
              "      <td>11934.0</td>\n",
              "      <td>1</td>\n",
              "      <td>0</td>\n",
              "      <td>0</td>\n",
              "      <td>0</td>\n",
              "      <td>0</td>\n",
              "      <td>0</td>\n",
              "      <td>0</td>\n",
              "      <td>0</td>\n",
              "      <td>0</td>\n",
              "      <td>0</td>\n",
              "      <td>0</td>\n",
              "      <td>0</td>\n",
              "      <td>0</td>\n",
              "      <td>0</td>\n",
              "      <td>0</td>\n",
              "      <td>0</td>\n",
              "      <td>0</td>\n",
              "      <td>0</td>\n",
              "      <td>0</td>\n",
              "      <td>0</td>\n",
              "      <td>0</td>\n",
              "      <td>0</td>\n",
              "      <td>0</td>\n",
              "      <td>0</td>\n",
              "      <td>0</td>\n",
              "      <td>0</td>\n",
              "      <td>0</td>\n",
              "      <td>0</td>\n",
              "      <td>0</td>\n",
              "      <td>0</td>\n",
              "      <td>0</td>\n",
              "      <td>0</td>\n",
              "      <td>0</td>\n",
              "      <td>0</td>\n",
              "      <td>0</td>\n",
              "      <td>0</td>\n",
              "      <td>...</td>\n",
              "      <td>0</td>\n",
              "      <td>1</td>\n",
              "      <td>0</td>\n",
              "      <td>1</td>\n",
              "      <td>0</td>\n",
              "      <td>0</td>\n",
              "      <td>0</td>\n",
              "      <td>0</td>\n",
              "      <td>0</td>\n",
              "      <td>0</td>\n",
              "      <td>0</td>\n",
              "      <td>0</td>\n",
              "      <td>0</td>\n",
              "      <td>0</td>\n",
              "      <td>0</td>\n",
              "      <td>0</td>\n",
              "      <td>1</td>\n",
              "      <td>0</td>\n",
              "      <td>0</td>\n",
              "      <td>0</td>\n",
              "      <td>0</td>\n",
              "      <td>0</td>\n",
              "      <td>1</td>\n",
              "      <td>0</td>\n",
              "      <td>0</td>\n",
              "      <td>0</td>\n",
              "      <td>0</td>\n",
              "      <td>0</td>\n",
              "      <td>0</td>\n",
              "      <td>0</td>\n",
              "      <td>0</td>\n",
              "      <td>0</td>\n",
              "      <td>0</td>\n",
              "      <td>0</td>\n",
              "      <td>0</td>\n",
              "      <td>0</td>\n",
              "      <td>0</td>\n",
              "      <td>0</td>\n",
              "      <td>0</td>\n",
              "      <td>0</td>\n",
              "    </tr>\n",
              "    <tr>\n",
              "      <th>50884</th>\n",
              "      <td>69</td>\n",
              "      <td>68</td>\n",
              "      <td>3.0</td>\n",
              "      <td>32204.8</td>\n",
              "      <td>0</td>\n",
              "      <td>0</td>\n",
              "      <td>0</td>\n",
              "      <td>0</td>\n",
              "      <td>0</td>\n",
              "      <td>0</td>\n",
              "      <td>0</td>\n",
              "      <td>0</td>\n",
              "      <td>0</td>\n",
              "      <td>0</td>\n",
              "      <td>0</td>\n",
              "      <td>0</td>\n",
              "      <td>0</td>\n",
              "      <td>0</td>\n",
              "      <td>0</td>\n",
              "      <td>0</td>\n",
              "      <td>0</td>\n",
              "      <td>0</td>\n",
              "      <td>0</td>\n",
              "      <td>0</td>\n",
              "      <td>0</td>\n",
              "      <td>0</td>\n",
              "      <td>0</td>\n",
              "      <td>0</td>\n",
              "      <td>0</td>\n",
              "      <td>0</td>\n",
              "      <td>0</td>\n",
              "      <td>0</td>\n",
              "      <td>0</td>\n",
              "      <td>0</td>\n",
              "      <td>1</td>\n",
              "      <td>0</td>\n",
              "      <td>0</td>\n",
              "      <td>0</td>\n",
              "      <td>0</td>\n",
              "      <td>0</td>\n",
              "      <td>...</td>\n",
              "      <td>1</td>\n",
              "      <td>0</td>\n",
              "      <td>1</td>\n",
              "      <td>0</td>\n",
              "      <td>1</td>\n",
              "      <td>0</td>\n",
              "      <td>0</td>\n",
              "      <td>0</td>\n",
              "      <td>0</td>\n",
              "      <td>0</td>\n",
              "      <td>0</td>\n",
              "      <td>0</td>\n",
              "      <td>0</td>\n",
              "      <td>0</td>\n",
              "      <td>0</td>\n",
              "      <td>0</td>\n",
              "      <td>1</td>\n",
              "      <td>0</td>\n",
              "      <td>0</td>\n",
              "      <td>0</td>\n",
              "      <td>0</td>\n",
              "      <td>0</td>\n",
              "      <td>0</td>\n",
              "      <td>0</td>\n",
              "      <td>0</td>\n",
              "      <td>0</td>\n",
              "      <td>0</td>\n",
              "      <td>0</td>\n",
              "      <td>0</td>\n",
              "      <td>0</td>\n",
              "      <td>0</td>\n",
              "      <td>0</td>\n",
              "      <td>0</td>\n",
              "      <td>0</td>\n",
              "      <td>0</td>\n",
              "      <td>1</td>\n",
              "      <td>0</td>\n",
              "      <td>0</td>\n",
              "      <td>0</td>\n",
              "      <td>0</td>\n",
              "    </tr>\n",
              "    <tr>\n",
              "      <th>50885</th>\n",
              "      <td>28</td>\n",
              "      <td>28</td>\n",
              "      <td>2.0</td>\n",
              "      <td>9240.0</td>\n",
              "      <td>1</td>\n",
              "      <td>0</td>\n",
              "      <td>0</td>\n",
              "      <td>0</td>\n",
              "      <td>0</td>\n",
              "      <td>0</td>\n",
              "      <td>0</td>\n",
              "      <td>0</td>\n",
              "      <td>0</td>\n",
              "      <td>0</td>\n",
              "      <td>0</td>\n",
              "      <td>0</td>\n",
              "      <td>0</td>\n",
              "      <td>0</td>\n",
              "      <td>0</td>\n",
              "      <td>0</td>\n",
              "      <td>0</td>\n",
              "      <td>0</td>\n",
              "      <td>0</td>\n",
              "      <td>0</td>\n",
              "      <td>0</td>\n",
              "      <td>0</td>\n",
              "      <td>0</td>\n",
              "      <td>0</td>\n",
              "      <td>0</td>\n",
              "      <td>0</td>\n",
              "      <td>0</td>\n",
              "      <td>0</td>\n",
              "      <td>0</td>\n",
              "      <td>0</td>\n",
              "      <td>0</td>\n",
              "      <td>0</td>\n",
              "      <td>0</td>\n",
              "      <td>0</td>\n",
              "      <td>0</td>\n",
              "      <td>0</td>\n",
              "      <td>...</td>\n",
              "      <td>0</td>\n",
              "      <td>1</td>\n",
              "      <td>0</td>\n",
              "      <td>0</td>\n",
              "      <td>0</td>\n",
              "      <td>0</td>\n",
              "      <td>1</td>\n",
              "      <td>0</td>\n",
              "      <td>0</td>\n",
              "      <td>0</td>\n",
              "      <td>0</td>\n",
              "      <td>0</td>\n",
              "      <td>0</td>\n",
              "      <td>0</td>\n",
              "      <td>0</td>\n",
              "      <td>0</td>\n",
              "      <td>0</td>\n",
              "      <td>1</td>\n",
              "      <td>0</td>\n",
              "      <td>0</td>\n",
              "      <td>0</td>\n",
              "      <td>0</td>\n",
              "      <td>0</td>\n",
              "      <td>0</td>\n",
              "      <td>0</td>\n",
              "      <td>0</td>\n",
              "      <td>0</td>\n",
              "      <td>0</td>\n",
              "      <td>0</td>\n",
              "      <td>0</td>\n",
              "      <td>0</td>\n",
              "      <td>0</td>\n",
              "      <td>0</td>\n",
              "      <td>0</td>\n",
              "      <td>1</td>\n",
              "      <td>0</td>\n",
              "      <td>0</td>\n",
              "      <td>0</td>\n",
              "      <td>0</td>\n",
              "      <td>0</td>\n",
              "    </tr>\n",
              "    <tr>\n",
              "      <th>50886</th>\n",
              "      <td>23</td>\n",
              "      <td>23</td>\n",
              "      <td>3.0</td>\n",
              "      <td>9086.0</td>\n",
              "      <td>0</td>\n",
              "      <td>0</td>\n",
              "      <td>0</td>\n",
              "      <td>0</td>\n",
              "      <td>0</td>\n",
              "      <td>0</td>\n",
              "      <td>0</td>\n",
              "      <td>0</td>\n",
              "      <td>0</td>\n",
              "      <td>0</td>\n",
              "      <td>0</td>\n",
              "      <td>0</td>\n",
              "      <td>0</td>\n",
              "      <td>0</td>\n",
              "      <td>0</td>\n",
              "      <td>0</td>\n",
              "      <td>0</td>\n",
              "      <td>0</td>\n",
              "      <td>0</td>\n",
              "      <td>0</td>\n",
              "      <td>0</td>\n",
              "      <td>0</td>\n",
              "      <td>1</td>\n",
              "      <td>0</td>\n",
              "      <td>0</td>\n",
              "      <td>0</td>\n",
              "      <td>0</td>\n",
              "      <td>0</td>\n",
              "      <td>0</td>\n",
              "      <td>0</td>\n",
              "      <td>0</td>\n",
              "      <td>0</td>\n",
              "      <td>0</td>\n",
              "      <td>0</td>\n",
              "      <td>0</td>\n",
              "      <td>0</td>\n",
              "      <td>...</td>\n",
              "      <td>0</td>\n",
              "      <td>1</td>\n",
              "      <td>0</td>\n",
              "      <td>0</td>\n",
              "      <td>0</td>\n",
              "      <td>0</td>\n",
              "      <td>1</td>\n",
              "      <td>0</td>\n",
              "      <td>0</td>\n",
              "      <td>0</td>\n",
              "      <td>0</td>\n",
              "      <td>0</td>\n",
              "      <td>0</td>\n",
              "      <td>0</td>\n",
              "      <td>0</td>\n",
              "      <td>0</td>\n",
              "      <td>1</td>\n",
              "      <td>0</td>\n",
              "      <td>0</td>\n",
              "      <td>0</td>\n",
              "      <td>0</td>\n",
              "      <td>0</td>\n",
              "      <td>0</td>\n",
              "      <td>0</td>\n",
              "      <td>0</td>\n",
              "      <td>0</td>\n",
              "      <td>0</td>\n",
              "      <td>0</td>\n",
              "      <td>0</td>\n",
              "      <td>0</td>\n",
              "      <td>0</td>\n",
              "      <td>0</td>\n",
              "      <td>0</td>\n",
              "      <td>0</td>\n",
              "      <td>0</td>\n",
              "      <td>1</td>\n",
              "      <td>0</td>\n",
              "      <td>0</td>\n",
              "      <td>0</td>\n",
              "      <td>0</td>\n",
              "    </tr>\n",
              "    <tr>\n",
              "      <th>50887</th>\n",
              "      <td>75</td>\n",
              "      <td>75</td>\n",
              "      <td>0.0</td>\n",
              "      <td>22534.0</td>\n",
              "      <td>1</td>\n",
              "      <td>0</td>\n",
              "      <td>0</td>\n",
              "      <td>0</td>\n",
              "      <td>0</td>\n",
              "      <td>0</td>\n",
              "      <td>0</td>\n",
              "      <td>0</td>\n",
              "      <td>0</td>\n",
              "      <td>0</td>\n",
              "      <td>0</td>\n",
              "      <td>0</td>\n",
              "      <td>0</td>\n",
              "      <td>0</td>\n",
              "      <td>0</td>\n",
              "      <td>0</td>\n",
              "      <td>0</td>\n",
              "      <td>0</td>\n",
              "      <td>0</td>\n",
              "      <td>0</td>\n",
              "      <td>0</td>\n",
              "      <td>0</td>\n",
              "      <td>0</td>\n",
              "      <td>0</td>\n",
              "      <td>0</td>\n",
              "      <td>0</td>\n",
              "      <td>0</td>\n",
              "      <td>0</td>\n",
              "      <td>0</td>\n",
              "      <td>0</td>\n",
              "      <td>0</td>\n",
              "      <td>0</td>\n",
              "      <td>0</td>\n",
              "      <td>0</td>\n",
              "      <td>0</td>\n",
              "      <td>0</td>\n",
              "      <td>...</td>\n",
              "      <td>0</td>\n",
              "      <td>1</td>\n",
              "      <td>0</td>\n",
              "      <td>0</td>\n",
              "      <td>0</td>\n",
              "      <td>0</td>\n",
              "      <td>1</td>\n",
              "      <td>0</td>\n",
              "      <td>0</td>\n",
              "      <td>0</td>\n",
              "      <td>0</td>\n",
              "      <td>0</td>\n",
              "      <td>0</td>\n",
              "      <td>1</td>\n",
              "      <td>0</td>\n",
              "      <td>0</td>\n",
              "      <td>0</td>\n",
              "      <td>0</td>\n",
              "      <td>0</td>\n",
              "      <td>0</td>\n",
              "      <td>0</td>\n",
              "      <td>0</td>\n",
              "      <td>1</td>\n",
              "      <td>0</td>\n",
              "      <td>0</td>\n",
              "      <td>0</td>\n",
              "      <td>0</td>\n",
              "      <td>0</td>\n",
              "      <td>0</td>\n",
              "      <td>0</td>\n",
              "      <td>0</td>\n",
              "      <td>0</td>\n",
              "      <td>0</td>\n",
              "      <td>0</td>\n",
              "      <td>0</td>\n",
              "      <td>0</td>\n",
              "      <td>0</td>\n",
              "      <td>0</td>\n",
              "      <td>0</td>\n",
              "      <td>0</td>\n",
              "    </tr>\n",
              "  </tbody>\n",
              "</table>\n",
              "<p>5 rows × 83 columns</p>\n",
              "</div>"
            ],
            "text/plain": [
              "       Upper_Age  Lower_Age  ...  Reco_cat_21  Reco_cat_22\n",
              "ID                           ...                          \n",
              "50883         30         30  ...            0            0\n",
              "50884         69         68  ...            0            0\n",
              "50885         28         28  ...            0            0\n",
              "50886         23         23  ...            0            0\n",
              "50887         75         75  ...            0            0\n",
              "\n",
              "[5 rows x 83 columns]"
            ]
          },
          "metadata": {
            "tags": []
          },
          "execution_count": 90
        }
      ]
    },
    {
      "cell_type": "code",
      "metadata": {
        "id": "83DVx9Xh75IZ"
      },
      "source": [
        "y_preds_stats_full = predict_on_best_threshould(stats_logit_full, test_proc, model_type='stats', best_threshold=best_thr_stats)"
      ],
      "execution_count": null,
      "outputs": []
    },
    {
      "cell_type": "code",
      "metadata": {
        "id": "dRz9sX7W769N",
        "colab": {
          "base_uri": "https://localhost:8080/"
        },
        "outputId": "92e75633-991f-4201-cdca-cf453c9945d5"
      },
      "source": [
        "y_preds_stats_full"
      ],
      "execution_count": null,
      "outputs": [
        {
          "output_type": "execute_result",
          "data": {
            "text/plain": [
              "array([1, 0, 1, ..., 0, 1, 0])"
            ]
          },
          "metadata": {
            "tags": []
          },
          "execution_count": 92
        }
      ]
    },
    {
      "cell_type": "code",
      "metadata": {
        "id": "fGKY-ir7HqES"
      },
      "source": [
        "test_preds = test_proc.copy()\r\n",
        "test_preds['Response'] = y_preds_stats_full\r\n",
        "submission = test_preds['Response']"
      ],
      "execution_count": null,
      "outputs": []
    },
    {
      "cell_type": "code",
      "metadata": {
        "id": "nnvdQT3vHy9w"
      },
      "source": [
        "submission.to_csv(\"/content/drive/MyDrive/Colab Notebooks/Data/AV-HealthInsurance/Submissions/preds_stats_thr_varied_cityInc.csv\", index=True)"
      ],
      "execution_count": null,
      "outputs": []
    },
    {
      "cell_type": "markdown",
      "metadata": {
        "id": "Oc71mNizJSdM"
      },
      "source": [
        "## Testing Different Cases"
      ]
    },
    {
      "cell_type": "code",
      "metadata": {
        "id": "LMOoLPm3KhQ3",
        "colab": {
          "base_uri": "https://localhost:8080/",
          "height": 881
        },
        "outputId": "fdfe200a-55f9-4bb1-eb4b-d68ba7aaf77b"
      },
      "source": [
        "fig, ax = plt.subplots(figsize=(15, 15))\r\n",
        "sns.barplot(x=rfc.feature_importances_, y=X_train.columns, orient=\"h\")"
      ],
      "execution_count": 67,
      "outputs": [
        {
          "output_type": "execute_result",
          "data": {
            "text/plain": [
              "<matplotlib.axes._subplots.AxesSubplot at 0x7fa8cb9f2750>"
            ]
          },
          "metadata": {
            "tags": []
          },
          "execution_count": 67
        },
        {
          "output_type": "display_data",
          "data": {
            "image/png": "[encoded data removed]",
            "text/plain": [
              "<Figure size 1080x1080 with 1 Axes>"
            ]
          },
          "metadata": {
            "tags": [],
            "needs_background": "light"
          }
        }
      ]
    },
    {
      "cell_type": "code",
      "metadata": {
        "colab": {
          "base_uri": "https://localhost:8080/"
        },
        "id": "7oIYnBE9Jbbr",
        "outputId": "406cd26c-615f-413e-dfc4-33a5c3a46432"
      },
      "source": [
        "train_val['City_Code'].value_counts()"
      ],
      "execution_count": 68,
      "outputs": [
        {
          "output_type": "execute_result",
          "data": {
            "text/plain": [
              "C1     8973\n",
              "C2     7747\n",
              "C3     4889\n",
              "C4     3671\n",
              "C9     2185\n",
              "C6     1950\n",
              "C7     1910\n",
              "C8     1806\n",
              "C10    1611\n",
              "C5     1364\n",
              "C15    1186\n",
              "C17    1159\n",
              "C11    1147\n",
              "C16    1135\n",
              "C13    1005\n",
              "C20     926\n",
              "C19     899\n",
              "C12     868\n",
              "C18     797\n",
              "C14     746\n",
              "C21     679\n",
              "C23     587\n",
              "C24     553\n",
              "C22     516\n",
              "C26     499\n",
              "C29     387\n",
              "C25     366\n",
              "C27     295\n",
              "C33     286\n",
              "C28     285\n",
              "C32     160\n",
              "C34     130\n",
              "C30      58\n",
              "C35      56\n",
              "C36      36\n",
              "C31      15\n",
              "Name: City_Code, dtype: int64"
            ]
          },
          "metadata": {
            "tags": []
          },
          "execution_count": 68
        }
      ]
    },
    {
      "cell_type": "markdown",
      "metadata": {
        "id": "sOU38Q6XLGqr"
      },
      "source": [
        ">Lets Bundle the Cities which have less than 300 samples into a new category.\r\n",
        "\r\n",
        "> i.e. 'C27', 'C33', 'C28', 'C32', 'C34', 'C30', 'C35', 'C36', 'C31' into a common label - 'Others'"
      ]
    },
    {
      "cell_type": "code",
      "metadata": {
        "id": "ASLfTqF2K-qv"
      },
      "source": [
        "merged_cities = ['C27', 'C33', 'C28', 'C32', 'C34', 'C30', 'C35', 'C36', 'C31']\r\n",
        "train_val_case1 = train_val.copy()\r\n",
        "train_val_case1['City_Code'].replace(merged_cities, 'Others', inplace=True)"
      ],
      "execution_count": 79,
      "outputs": []
    },
    {
      "cell_type": "code",
      "metadata": {
        "id": "vx0skng9MjP_"
      },
      "source": [
        "train_val_case1_proc = pre_process_data(train_val_case1, fourteenPlusConversion='25')\r\n",
        "X_case1 = train_val_case1_proc.drop('Response', axis=1)\r\n",
        "y_case1 = train_val_case1_proc['Response']\r\n",
        "X_train_case1, X_val_case1, y_train_case1, y_val_case1 = train_test_split(X_case1, y_case1, test_size=0.3, random_state=12)"
      ],
      "execution_count": 101,
      "outputs": []
    },
    {
      "cell_type": "code",
      "metadata": {
        "colab": {
          "base_uri": "https://localhost:8080/"
        },
        "id": "1k1BUSBlMjG9",
        "outputId": "82a528ee-8050-4edc-8559-7fc3f106eed2"
      },
      "source": [
        "rfc_case1 = RandomForestClassifier(class_weight=class_weights, n_estimators=300)\r\n",
        "rfc_case1.fit(X_train_case1, y_train_case1)"
      ],
      "execution_count": 102,
      "outputs": [
        {
          "output_type": "execute_result",
          "data": {
            "text/plain": [
              "RandomForestClassifier(bootstrap=True, ccp_alpha=0.0,\n",
              "                       class_weight={0: 0.24011005980290312,\n",
              "                                     1: 0.7598899401970969},\n",
              "                       criterion='gini', max_depth=None, max_features='auto',\n",
              "                       max_leaf_nodes=None, max_samples=None,\n",
              "                       min_impurity_decrease=0.0, min_impurity_split=None,\n",
              "                       min_samples_leaf=1, min_samples_split=2,\n",
              "                       min_weight_fraction_leaf=0.0, n_estimators=300,\n",
              "                       n_jobs=None, oob_score=False, random_state=None,\n",
              "                       verbose=0, warm_start=False)"
            ]
          },
          "metadata": {
            "tags": []
          },
          "execution_count": 102
        }
      ]
    },
    {
      "cell_type": "code",
      "metadata": {
        "colab": {
          "base_uri": "https://localhost:8080/"
        },
        "id": "NgXHLfNqMjEO",
        "outputId": "9aebc28d-cebc-464b-bb58-7689df22c22d"
      },
      "source": [
        "y_preds_rfc_case1 = rfc_case1.predict(X_val_case1)\r\n",
        "roc_auc_score(y_val_case1, y_preds_rfc_case1)"
      ],
      "execution_count": 103,
      "outputs": [
        {
          "output_type": "execute_result",
          "data": {
            "text/plain": [
              "0.5274553705618615"
            ]
          },
          "metadata": {
            "tags": []
          },
          "execution_count": 103
        }
      ]
    },
    {
      "cell_type": "code",
      "metadata": {
        "id": "EjarvteEU2_X"
      },
      "source": [
        "plot_roc_curve()"
      ],
      "execution_count": null,
      "outputs": []
    }
  ]
}