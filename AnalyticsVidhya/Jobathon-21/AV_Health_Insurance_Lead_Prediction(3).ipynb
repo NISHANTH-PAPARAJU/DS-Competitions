{
  "nbformat": 4,
  "nbformat_minor": 0,
  "metadata": {
    "colab": {
      "name": "AV-Health-Insurance-Lead-Prediction(3).ipynb",
      "provenance": [],
      "authorship_tag": "ABX9TyPKdcgwks29WQ/AHWqt7nMu",
      "include_colab_link": true
    },
    "kernelspec": {
      "name": "python3",
      "display_name": "Python 3"
    }
  },
  "cells": [
    {
      "cell_type": "markdown",
      "metadata": {
        "id": "view-in-github",
        "colab_type": "text"
      },
      "source": [
        "<a href=\"https://colab.research.google.com/github/NISHANTH-PAPARAJU/DS-Competitions/blob/main/AnalyticsVidhya/Jobathon-21/AV_Health_Insurance_Lead_Prediction(3).ipynb\" target=\"_parent\"><img src=\"https://colab.research.google.com/assets/colab-badge.svg\" alt=\"Open In Colab\"/></a>"
      ]
    },
    {
      "cell_type": "code",
      "metadata": {
        "id": "Vq4YTiLEGqph"
      },
      "source": [
        ""
      ],
      "execution_count": null,
      "outputs": []
    }
  ]
}